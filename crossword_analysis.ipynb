{
 "cells": [
  {
   "cell_type": "markdown",
   "metadata": {},
   "source": [
    "# NYT Crossword"
   ]
  },
  {
   "cell_type": "markdown",
   "metadata": {},
   "source": [
    "## Download data"
   ]
  },
  {
   "cell_type": "code",
   "execution_count": 1,
   "metadata": {},
   "outputs": [
    {
     "name": "stdout",
     "output_type": "stream",
     "text": [
      "--2020-01-01 20:36:42--  https://gist.githubusercontent.com/kedarv/db09704fa4d83507d804641fce7ab73a/raw/09b7107b1a8e7bb3d1c3cf0f4ed9236376dc4af0/nyt\n",
      "Resolving gist.githubusercontent.com (gist.githubusercontent.com)... 151.101.192.133, 151.101.128.133, 151.101.64.133, ...\n",
      "Connecting to gist.githubusercontent.com (gist.githubusercontent.com)|151.101.192.133|:443... connected.\n",
      "HTTP request sent, awaiting response... 200 OK\n",
      "Length: 61549 (60K) [text/plain]\n",
      "Saving to: ‘nyt’\n",
      "\n",
      "nyt                 100%[===================>]  60.11K  --.-KB/s    in 0.02s   \n",
      "\n",
      "2020-01-01 20:36:42 (3.05 MB/s) - ‘nyt’ saved [61549/61549]\n",
      "\n"
     ]
    }
   ],
   "source": [
    "!rm nyt\n",
    "!wget https://gist.githubusercontent.com/kedarv/db09704fa4d83507d804641fce7ab73a/raw/09b7107b1a8e7bb3d1c3cf0f4ed9236376dc4af0/nyt"
   ]
  },
  {
   "cell_type": "code",
   "execution_count": 2,
   "metadata": {},
   "outputs": [
    {
     "name": "stdout",
     "output_type": "stream",
     "text": [
      "[\n",
      "    {\n",
      "        \"author\": \"Ankit Pancakes\",\n",
      "        \"time\": \"0:14\",\n",
      "        \"timestamp_ms\": 1576644059344\n"
     ]
    }
   ],
   "source": [
    "# Quick look at data format\n",
    "!head -n 5 nyt"
   ]
  },
  {
   "cell_type": "code",
   "execution_count": 98,
   "metadata": {},
   "outputs": [],
   "source": [
    "import json\n",
    "import pandas as pd\n",
    "import numpy as np\n",
    "import seaborn as sns\n",
    "import datetime\n",
    "from collections import defaultdict\n",
    "from matplotlib import pyplot as plt\n",
    "from matplotlib import image as mpimg\n",
    "\n",
    "pd.set_option('display.max_rows', 10)"
   ]
  },
  {
   "cell_type": "code",
   "execution_count": 4,
   "metadata": {},
   "outputs": [],
   "source": [
    "with open('nyt', 'r') as f:\n",
    "    df = pd.read_json(f)\n",
    "    # timezone bullshit\n",
    "    df['timestamp_ms'] = df['timestamp_ms'].dt.tz_localize('GMT').dt.tz_convert('America/Los_Angeles')"
   ]
  },
  {
   "cell_type": "code",
   "execution_count": 5,
   "metadata": {},
   "outputs": [
    {
     "data": {
      "text/html": [
       "<div>\n",
       "<style scoped>\n",
       "    .dataframe tbody tr th:only-of-type {\n",
       "        vertical-align: middle;\n",
       "    }\n",
       "\n",
       "    .dataframe tbody tr th {\n",
       "        vertical-align: top;\n",
       "    }\n",
       "\n",
       "    .dataframe thead th {\n",
       "        text-align: right;\n",
       "    }\n",
       "</style>\n",
       "<table border=\"1\" class=\"dataframe\">\n",
       "  <thead>\n",
       "    <tr style=\"text-align: right;\">\n",
       "      <th></th>\n",
       "      <th>author</th>\n",
       "      <th>time</th>\n",
       "      <th>timestamp_ms</th>\n",
       "    </tr>\n",
       "  </thead>\n",
       "  <tbody>\n",
       "    <tr>\n",
       "      <th>0</th>\n",
       "      <td>Ankit Pancakes</td>\n",
       "      <td>0:14</td>\n",
       "      <td>2019-12-17 20:40:59.344000-08:00</td>\n",
       "    </tr>\n",
       "    <tr>\n",
       "      <th>1</th>\n",
       "      <td>Paige Rossi</td>\n",
       "      <td>0:21</td>\n",
       "      <td>2019-12-17 20:03:34.077000-08:00</td>\n",
       "    </tr>\n",
       "    <tr>\n",
       "      <th>2</th>\n",
       "      <td>Jenna Dambek</td>\n",
       "      <td>1:54</td>\n",
       "      <td>2019-12-17 19:49:59.569000-08:00</td>\n",
       "    </tr>\n",
       "    <tr>\n",
       "      <th>3</th>\n",
       "      <td>Kedar Vaidya</td>\n",
       "      <td>0:42</td>\n",
       "      <td>2019-12-17 19:21:04.959000-08:00</td>\n",
       "    </tr>\n",
       "    <tr>\n",
       "      <th>4</th>\n",
       "      <td>Seungyeon Shin</td>\n",
       "      <td>1:33</td>\n",
       "      <td>2019-12-17 19:18:54.673000-08:00</td>\n",
       "    </tr>\n",
       "    <tr>\n",
       "      <th>...</th>\n",
       "      <td>...</td>\n",
       "      <td>...</td>\n",
       "      <td>...</td>\n",
       "    </tr>\n",
       "    <tr>\n",
       "      <th>559</th>\n",
       "      <td>Kedar Vaidya</td>\n",
       "      <td>2:08</td>\n",
       "      <td>2019-09-16 20:46:53.663000-07:00</td>\n",
       "    </tr>\n",
       "    <tr>\n",
       "      <th>560</th>\n",
       "      <td>Nicky Semenza</td>\n",
       "      <td>1:36</td>\n",
       "      <td>2019-09-16 20:06:51.710000-07:00</td>\n",
       "    </tr>\n",
       "    <tr>\n",
       "      <th>561</th>\n",
       "      <td>Kedar Vaidya</td>\n",
       "      <td>3:05</td>\n",
       "      <td>2019-09-16 17:38:35.285000-07:00</td>\n",
       "    </tr>\n",
       "    <tr>\n",
       "      <th>562</th>\n",
       "      <td>Nicky Semenza</td>\n",
       "      <td>1:34</td>\n",
       "      <td>2019-09-15 16:03:10.465000-07:00</td>\n",
       "    </tr>\n",
       "    <tr>\n",
       "      <th>563</th>\n",
       "      <td>Usmann Khan</td>\n",
       "      <td>1:49</td>\n",
       "      <td>2019-09-15 15:59:42.999000-07:00</td>\n",
       "    </tr>\n",
       "  </tbody>\n",
       "</table>\n",
       "<p>564 rows × 3 columns</p>\n",
       "</div>"
      ],
      "text/plain": [
       "             author  time                     timestamp_ms\n",
       "0    Ankit Pancakes  0:14 2019-12-17 20:40:59.344000-08:00\n",
       "1       Paige Rossi  0:21 2019-12-17 20:03:34.077000-08:00\n",
       "2      Jenna Dambek  1:54 2019-12-17 19:49:59.569000-08:00\n",
       "3      Kedar Vaidya  0:42 2019-12-17 19:21:04.959000-08:00\n",
       "4    Seungyeon Shin  1:33 2019-12-17 19:18:54.673000-08:00\n",
       "..              ...   ...                              ...\n",
       "559    Kedar Vaidya  2:08 2019-09-16 20:46:53.663000-07:00\n",
       "560   Nicky Semenza  1:36 2019-09-16 20:06:51.710000-07:00\n",
       "561    Kedar Vaidya  3:05 2019-09-16 17:38:35.285000-07:00\n",
       "562   Nicky Semenza  1:34 2019-09-15 16:03:10.465000-07:00\n",
       "563     Usmann Khan  1:49 2019-09-15 15:59:42.999000-07:00\n",
       "\n",
       "[564 rows x 3 columns]"
      ]
     },
     "metadata": {},
     "output_type": "display_data"
    }
   ],
   "source": [
    "display(df)"
   ]
  },
  {
   "cell_type": "markdown",
   "metadata": {},
   "source": [
    "## Clean up data"
   ]
  },
  {
   "cell_type": "code",
   "execution_count": 6,
   "metadata": {},
   "outputs": [],
   "source": [
    "# Days and cut-off hour (mini release time)\n",
    "# 7 PM Pacific for Monday - Friday inclusive\n",
    "# 3 PM Pacific for Saturday, Sunday\n",
    "cutoff = lambda x: 19 if x < 5 else 15"
   ]
  },
  {
   "cell_type": "code",
   "execution_count": 7,
   "metadata": {},
   "outputs": [
    {
     "data": {
      "text/plain": [
       "[19, 19, 19, 19, 19, 15, 15]"
      ]
     },
     "execution_count": 7,
     "metadata": {},
     "output_type": "execute_result"
    }
   ],
   "source": [
    "[cutoff(x) for x in range(0,7)]"
   ]
  },
  {
   "cell_type": "code",
   "execution_count": 8,
   "metadata": {},
   "outputs": [],
   "source": [
    "# Use newspaper-day instead of completion-day\n",
    "df['day'] = [datetime.date(ts.year, ts.month, ts.day) + datetime.timedelta(days=1) \\\n",
    "            if ts.hour >= cutoff(ts.dayofweek) else datetime.date(ts.year, ts.month, ts.day) for ts in df['timestamp_ms']]"
   ]
  },
  {
   "cell_type": "code",
   "execution_count": 9,
   "metadata": {},
   "outputs": [
    {
     "data": {
      "text/html": [
       "<div>\n",
       "<style scoped>\n",
       "    .dataframe tbody tr th:only-of-type {\n",
       "        vertical-align: middle;\n",
       "    }\n",
       "\n",
       "    .dataframe tbody tr th {\n",
       "        vertical-align: top;\n",
       "    }\n",
       "\n",
       "    .dataframe thead th {\n",
       "        text-align: right;\n",
       "    }\n",
       "</style>\n",
       "<table border=\"1\" class=\"dataframe\">\n",
       "  <thead>\n",
       "    <tr style=\"text-align: right;\">\n",
       "      <th></th>\n",
       "      <th>author</th>\n",
       "      <th>time</th>\n",
       "      <th>timestamp_ms</th>\n",
       "      <th>day</th>\n",
       "    </tr>\n",
       "  </thead>\n",
       "  <tbody>\n",
       "    <tr>\n",
       "      <th>36</th>\n",
       "      <td>Jessica Jiang</td>\n",
       "      <td>1:26</td>\n",
       "      <td>2019-12-13 20:02:53.918000-08:00</td>\n",
       "      <td>2019-12-14</td>\n",
       "    </tr>\n",
       "    <tr>\n",
       "      <th>37</th>\n",
       "      <td>Jessica Jiang</td>\n",
       "      <td>1:28</td>\n",
       "      <td>2019-12-13 20:01:08.854000-08:00</td>\n",
       "      <td>2019-12-14</td>\n",
       "    </tr>\n",
       "    <tr>\n",
       "      <th>65</th>\n",
       "      <td>Jessica Jiang</td>\n",
       "      <td>10:04</td>\n",
       "      <td>2019-12-09 20:39:11.843000-08:00</td>\n",
       "      <td>2019-12-10</td>\n",
       "    </tr>\n",
       "    <tr>\n",
       "      <th>66</th>\n",
       "      <td>Jessica Jiang</td>\n",
       "      <td>10:04</td>\n",
       "      <td>2019-12-09 20:39:00.040000-08:00</td>\n",
       "      <td>2019-12-10</td>\n",
       "    </tr>\n",
       "    <tr>\n",
       "      <th>128</th>\n",
       "      <td>Ankit Pancakes</td>\n",
       "      <td>0:41</td>\n",
       "      <td>2019-12-01 22:18:33.158000-08:00</td>\n",
       "      <td>2019-12-02</td>\n",
       "    </tr>\n",
       "    <tr>\n",
       "      <th>...</th>\n",
       "      <td>...</td>\n",
       "      <td>...</td>\n",
       "      <td>...</td>\n",
       "      <td>...</td>\n",
       "    </tr>\n",
       "    <tr>\n",
       "      <th>533</th>\n",
       "      <td>Kedar Vaidya</td>\n",
       "      <td>2:59</td>\n",
       "      <td>2019-10-03 19:39:31.028000-07:00</td>\n",
       "      <td>2019-10-04</td>\n",
       "    </tr>\n",
       "    <tr>\n",
       "      <th>534</th>\n",
       "      <td>Usmann Khan</td>\n",
       "      <td>1:42</td>\n",
       "      <td>2019-10-03 19:35:03.192000-07:00</td>\n",
       "      <td>2019-10-04</td>\n",
       "    </tr>\n",
       "    <tr>\n",
       "      <th>537</th>\n",
       "      <td>Usmann Khan</td>\n",
       "      <td>1:28</td>\n",
       "      <td>2019-10-03 19:29:35.912000-07:00</td>\n",
       "      <td>2019-10-04</td>\n",
       "    </tr>\n",
       "    <tr>\n",
       "      <th>549</th>\n",
       "      <td>Ankit Pancakes</td>\n",
       "      <td>2:30</td>\n",
       "      <td>2019-09-29 10:00:45.619000-07:00</td>\n",
       "      <td>2019-09-29</td>\n",
       "    </tr>\n",
       "    <tr>\n",
       "      <th>550</th>\n",
       "      <td>Ankit Pancakes</td>\n",
       "      <td>3:07</td>\n",
       "      <td>2019-09-28 16:20:06.469000-07:00</td>\n",
       "      <td>2019-09-29</td>\n",
       "    </tr>\n",
       "  </tbody>\n",
       "</table>\n",
       "<p>42 rows × 4 columns</p>\n",
       "</div>"
      ],
      "text/plain": [
       "             author   time                     timestamp_ms         day\n",
       "36    Jessica Jiang   1:26 2019-12-13 20:02:53.918000-08:00  2019-12-14\n",
       "37    Jessica Jiang   1:28 2019-12-13 20:01:08.854000-08:00  2019-12-14\n",
       "65    Jessica Jiang  10:04 2019-12-09 20:39:11.843000-08:00  2019-12-10\n",
       "66    Jessica Jiang  10:04 2019-12-09 20:39:00.040000-08:00  2019-12-10\n",
       "128  Ankit Pancakes   0:41 2019-12-01 22:18:33.158000-08:00  2019-12-02\n",
       "..              ...    ...                              ...         ...\n",
       "533    Kedar Vaidya   2:59 2019-10-03 19:39:31.028000-07:00  2019-10-04\n",
       "534     Usmann Khan   1:42 2019-10-03 19:35:03.192000-07:00  2019-10-04\n",
       "537     Usmann Khan   1:28 2019-10-03 19:29:35.912000-07:00  2019-10-04\n",
       "549  Ankit Pancakes   2:30 2019-09-29 10:00:45.619000-07:00  2019-09-29\n",
       "550  Ankit Pancakes   3:07 2019-09-28 16:20:06.469000-07:00  2019-09-29\n",
       "\n",
       "[42 rows x 4 columns]"
      ]
     },
     "metadata": {},
     "output_type": "display_data"
    }
   ],
   "source": [
    "find_dups = lambda x: x[x.duplicated(['author', 'day'], keep=False)]\n",
    "display(find_dups(df))"
   ]
  },
  {
   "cell_type": "code",
   "execution_count": 10,
   "metadata": {},
   "outputs": [
    {
     "data": {
      "text/plain": [
       "<matplotlib.image.AxesImage at 0x7f349efa3b70>"
      ]
     },
     "execution_count": 10,
     "metadata": {},
     "output_type": "execute_result"
    },
    {
     "data": {
      "image/png": "[encoded data removed]",
      "text/plain": [
       "<Figure size 720x288 with 2 Axes>"
      ]
     },
     "metadata": {
      "needs_background": "light"
     },
     "output_type": "display_data"
    }
   ],
   "source": [
    "# Example duplicates ...\n",
    "fig, ax = plt.subplots(nrows=1, ncols=2, figsize=(10,4))\n",
    "ax[0].axis('off')\n",
    "ax[1].axis('off')\n",
    "ax[0].imshow(mpimg.imread('dup1.png'))\n",
    "ax[1].imshow(mpimg.imread('dup2.png'))"
   ]
  },
  {
   "cell_type": "code",
   "execution_count": 11,
   "metadata": {},
   "outputs": [
    {
     "name": "stdout",
     "output_type": "stream",
     "text": [
      "before: 42 dups in 564 rows\n",
      "after: 0 dups in 522 rows\n"
     ]
    }
   ],
   "source": [
    "# Delete all duplicates because I can't be bothered to scroll to each one in chat and look at them\n",
    "print('before: {} dups in {} rows'.format(len(find_dups(df)), len(df['author'])))\n",
    "df = df.drop_duplicates(['author', 'day'], keep=False)\n",
    "print('after: {} dups in {} rows'.format(len(find_dups(df)), len(df['author'])))"
   ]
  },
  {
   "cell_type": "code",
   "execution_count": 12,
   "metadata": {},
   "outputs": [],
   "source": [
    "# Transform times to secs\n",
    "all_secs = []\n",
    "for time in df['time']:\n",
    "    if time.startswith(':'):\n",
    "        time = '0' + time\n",
    "    times = time.split(':')\n",
    "    secs = 60*(int(times[0])) + int(times[1])\n",
    "    all_secs.append(secs)"
   ]
  },
  {
   "cell_type": "code",
   "execution_count": 13,
   "metadata": {},
   "outputs": [
    {
     "data": {
      "text/plain": [
       "[(14, '0:14'), (21, '0:21'), (114, '1:54'), (42, '0:42'), (93, '1:33')]"
      ]
     },
     "execution_count": 13,
     "metadata": {},
     "output_type": "execute_result"
    }
   ],
   "source": [
    "# Spot check\n",
    "list(zip(all_secs, df['time']))[:5]"
   ]
  },
  {
   "cell_type": "code",
   "execution_count": 14,
   "metadata": {},
   "outputs": [],
   "source": [
    "# Looks good ....\n",
    "df['time'] = all_secs"
   ]
  },
  {
   "cell_type": "markdown",
   "metadata": {},
   "source": [
    "## Analyze Data"
   ]
  },
  {
   "cell_type": "code",
   "execution_count": 15,
   "metadata": {},
   "outputs": [],
   "source": [
    "import plotly.express as px"
   ]
  },
  {
   "cell_type": "markdown",
   "metadata": {},
   "source": [
    "### Question: What data is there?"
   ]
  },
  {
   "cell_type": "code",
   "execution_count": 18,
   "metadata": {},
   "outputs": [
    {
     "data": {
      "application/vnd.plotly.v1+json": {
       "config": {
        "plotlyServerURL": "https://plot.ly"
       },
       "data": [
        {
         "hoverlabel": {
          "namelength": 0
         },
         "hovertemplate": "author=Ankit Pancakes<br>day=%{x}<br>time=%{y}",
         "legendgroup": "author=Ankit Pancakes",
         "marker": {
          "color": "#636efa",
          "symbol": "circle"
         },
         "mode": "markers",
         "name": "author=Ankit Pancakes",
         "showlegend": true,
         "type": "scatter",
         "visible": "legendonly",
         "x": [
          "2019-12-18",
          "2019-12-17",
          "2019-12-16",
          "2019-12-15",
          "2019-12-14",
          "2019-12-13",
          "2019-12-12",
          "2019-12-11",
          "2019-12-10",
          "2019-12-09",
          "2019-12-08",
          "2019-12-07",
          "2019-12-06",
          "2019-12-05",
          "2019-12-04",
          "2019-12-03",
          "2019-12-01",
          "2019-11-30",
          "2019-11-29",
          "2019-11-26",
          "2019-11-25",
          "2019-11-24",
          "2019-11-23",
          "2019-11-22",
          "2019-11-21",
          "2019-11-20",
          "2019-11-19",
          "2019-11-18",
          "2019-11-17",
          "2019-11-16",
          "2019-11-15",
          "2019-11-14",
          "2019-11-13",
          "2019-11-12",
          "2019-11-11",
          "2019-11-10",
          "2019-11-09",
          "2019-11-08",
          "2019-11-07",
          "2019-11-06",
          "2019-11-05",
          "2019-11-04",
          "2019-11-03",
          "2019-11-02",
          "2019-11-01",
          "2019-10-31",
          "2019-10-30",
          "2019-10-29",
          "2019-10-28",
          "2019-10-27",
          "2019-10-26",
          "2019-10-25",
          "2019-10-24",
          "2019-10-23",
          "2019-10-22",
          "2019-10-21",
          "2019-10-20",
          "2019-10-19",
          "2019-10-18",
          "2019-10-17",
          "2019-10-16",
          "2019-10-15",
          "2019-10-14",
          "2019-10-13",
          "2019-10-12",
          "2019-10-11",
          "2019-10-09",
          "2019-10-08",
          "2019-10-05",
          "2019-10-04",
          "2019-10-02",
          "2019-10-01"
         ],
         "xaxis": "x",
         "y": [
          14,
          35,
          48,
          46,
          134,
          80,
          252,
          50,
          108,
          74,
          78,
          79,
          126,
          92,
          79,
          155,
          135,
          250,
          56,
          71,
          53,
          97,
          79,
          123,
          81,
          67,
          152,
          86,
          139,
          219,
          133,
          27,
          64,
          80,
          29,
          83,
          436,
          105,
          163,
          78,
          41,
          98,
          31,
          89,
          57,
          186,
          104,
          65,
          82,
          127,
          82,
          55,
          47,
          81,
          98,
          47,
          68,
          107,
          34,
          161,
          84,
          180,
          33,
          76,
          361,
          107,
          81,
          346,
          237,
          102,
          63,
          127
         ],
         "yaxis": "y"
        },
        {
         "hoverlabel": {
          "namelength": 0
         },
         "hovertemplate": "author=Paige Rossi<br>day=%{x}<br>time=%{y}",
         "legendgroup": "author=Paige Rossi",
         "marker": {
          "color": "#EF553B",
          "symbol": "circle"
         },
         "mode": "markers",
         "name": "author=Paige Rossi",
         "showlegend": true,
         "type": "scatter",
         "visible": true,
         "x": [
          "2019-12-18",
          "2019-12-17",
          "2019-12-16",
          "2019-12-14",
          "2019-12-13",
          "2019-12-12",
          "2019-12-11",
          "2019-12-09",
          "2019-12-07",
          "2019-12-06",
          "2019-12-05",
          "2019-12-04",
          "2019-12-02",
          "2019-12-01",
          "2019-11-30",
          "2019-11-29",
          "2019-11-28",
          "2019-11-25",
          "2019-11-24",
          "2019-11-23",
          "2019-11-22",
          "2019-11-21",
          "2019-11-20",
          "2019-11-19",
          "2019-11-18",
          "2019-11-17",
          "2019-11-16",
          "2019-11-15",
          "2019-11-14",
          "2019-11-13",
          "2019-11-12",
          "2019-11-11",
          "2019-11-10",
          "2019-11-09",
          "2019-11-08",
          "2019-11-07",
          "2019-11-06",
          "2019-11-05",
          "2019-11-04",
          "2019-11-03",
          "2019-11-02",
          "2019-10-31",
          "2019-10-30",
          "2019-10-29",
          "2019-10-28",
          "2019-10-27",
          "2019-10-26",
          "2019-10-25",
          "2019-10-24",
          "2019-10-23",
          "2019-10-22",
          "2019-10-21",
          "2019-10-20",
          "2019-10-19",
          "2019-10-18",
          "2019-10-17",
          "2019-10-16",
          "2019-10-15",
          "2019-10-14"
         ],
         "xaxis": "x",
         "y": [
          21,
          68,
          39,
          49,
          45,
          42,
          32,
          25,
          56,
          26,
          28,
          43,
          41,
          45,
          63,
          21,
          29,
          41,
          38,
          60,
          39,
          25,
          45,
          38,
          29,
          29,
          93,
          38,
          18,
          29,
          23,
          31,
          31,
          108,
          47,
          93,
          37,
          31,
          53,
          32,
          57,
          77,
          43,
          22,
          56,
          44,
          51,
          49,
          97,
          53,
          23,
          25,
          39,
          31,
          26,
          46,
          32,
          61,
          17
         ],
         "yaxis": "y"
        },
        {
         "hoverlabel": {
          "namelength": 0
         },
         "hovertemplate": "author=Jenna Dambek<br>day=%{x}<br>time=%{y}",
         "legendgroup": "author=Jenna Dambek",
         "marker": {
          "color": "#00cc96",
          "symbol": "circle"
         },
         "mode": "markers",
         "name": "author=Jenna Dambek",
         "showlegend": true,
         "type": "scatter",
         "visible": "legendonly",
         "x": [
          "2019-12-18",
          "2019-12-17",
          "2019-12-12",
          "2019-11-29",
          "2019-11-24",
          "2019-11-23",
          "2019-11-18",
          "2019-11-16",
          "2019-11-13",
          "2019-11-11",
          "2019-11-10",
          "2019-11-09",
          "2019-11-08",
          "2019-11-07",
          "2019-11-06",
          "2019-11-05"
         ],
         "xaxis": "x",
         "y": [
          114,
          37,
          96,
          43,
          73,
          146,
          52,
          154,
          46,
          33,
          42,
          146,
          131,
          138,
          134,
          76
         ],
         "yaxis": "y"
        },
        {
         "hoverlabel": {
          "namelength": 0
         },
         "hovertemplate": "author=Kedar Vaidya<br>day=%{x}<br>time=%{y}",
         "legendgroup": "author=Kedar Vaidya",
         "marker": {
          "color": "#ab63fa",
          "symbol": "circle"
         },
         "mode": "markers",
         "name": "author=Kedar Vaidya",
         "showlegend": true,
         "type": "scatter",
         "visible": "legendonly",
         "x": [
          "2019-12-18",
          "2019-12-17",
          "2019-12-15",
          "2019-12-09",
          "2019-12-08",
          "2019-12-07",
          "2019-12-06",
          "2019-12-02",
          "2019-11-27",
          "2019-11-26",
          "2019-11-25",
          "2019-11-19",
          "2019-11-18",
          "2019-11-17",
          "2019-11-15",
          "2019-11-14",
          "2019-11-13",
          "2019-11-12",
          "2019-11-11",
          "2019-11-10",
          "2019-11-09",
          "2019-11-08",
          "2019-11-07",
          "2019-11-05",
          "2019-11-04",
          "2019-11-03",
          "2019-11-02",
          "2019-10-30",
          "2019-10-29",
          "2019-10-28",
          "2019-10-26",
          "2019-10-25",
          "2019-10-24",
          "2019-10-23",
          "2019-10-21",
          "2019-10-20",
          "2019-10-19",
          "2019-10-17",
          "2019-10-16",
          "2019-10-12",
          "2019-10-11",
          "2019-10-07",
          "2019-10-05",
          "2019-10-02",
          "2019-10-01",
          "2019-09-24",
          "2019-09-21",
          "2019-09-17",
          "2019-09-16"
         ],
         "xaxis": "x",
         "y": [
          42,
          127,
          45,
          98,
          68,
          204,
          107,
          28,
          53,
          61,
          190,
          142,
          56,
          176,
          188,
          28,
          24,
          24,
          45,
          24,
          411,
          167,
          121,
          143,
          86,
          98,
          72,
          108,
          78,
          229,
          66,
          111,
          212,
          42,
          42,
          155,
          88,
          125,
          49,
          211,
          103,
          121,
          156,
          510,
          123,
          16,
          465,
          128,
          185
         ],
         "yaxis": "y"
        },
        {
         "hoverlabel": {
          "namelength": 0
         },
         "hovertemplate": "author=Seungyeon Shin<br>day=%{x}<br>time=%{y}",
         "legendgroup": "author=Seungyeon Shin",
         "marker": {
          "color": "#FFA15A",
          "symbol": "circle"
         },
         "mode": "markers",
         "name": "author=Seungyeon Shin",
         "showlegend": true,
         "type": "scatter",
         "visible": "legendonly",
         "x": [
          "2019-12-18",
          "2019-12-17",
          "2019-12-11",
          "2019-12-06",
          "2019-12-05",
          "2019-12-04",
          "2019-12-02"
         ],
         "xaxis": "x",
         "y": [
          93,
          84,
          90,
          138,
          48,
          148,
          263
         ],
         "yaxis": "y"
        },
        {
         "hoverlabel": {
          "namelength": 0
         },
         "hovertemplate": "author=Vasudha Kashyap<br>day=%{x}<br>time=%{y}",
         "legendgroup": "author=Vasudha Kashyap",
         "marker": {
          "color": "#19d3f3",
          "symbol": "circle"
         },
         "mode": "markers",
         "name": "author=Vasudha Kashyap",
         "showlegend": true,
         "type": "scatter",
         "visible": "legendonly",
         "x": [
          "2019-12-18",
          "2019-12-17",
          "2019-12-15",
          "2019-12-13",
          "2019-12-12",
          "2019-12-11",
          "2019-12-10",
          "2019-12-09",
          "2019-12-08",
          "2019-12-06",
          "2019-12-04",
          "2019-12-03",
          "2019-12-02",
          "2019-12-01",
          "2019-11-29"
         ],
         "xaxis": "x",
         "y": [
          130,
          76,
          45,
          98,
          168,
          38,
          98,
          105,
          214,
          316,
          446,
          88,
          201,
          127,
          31
         ],
         "yaxis": "y"
        },
        {
         "hoverlabel": {
          "namelength": 0
         },
         "hovertemplate": "author=Ben Alderfer<br>day=%{x}<br>time=%{y}",
         "legendgroup": "author=Ben Alderfer",
         "marker": {
          "color": "#FF6692",
          "symbol": "circle"
         },
         "mode": "markers",
         "name": "author=Ben Alderfer",
         "showlegend": true,
         "type": "scatter",
         "visible": "legendonly",
         "x": [
          "2019-12-18",
          "2019-12-14",
          "2019-12-13",
          "2019-12-12",
          "2019-12-11",
          "2019-12-04",
          "2019-11-19",
          "2019-11-17",
          "2019-11-15",
          "2019-11-14",
          "2019-11-11",
          "2019-11-09",
          "2019-11-08",
          "2019-11-07",
          "2019-11-06",
          "2019-11-04",
          "2019-11-02",
          "2019-10-29",
          "2019-10-27",
          "2019-10-26",
          "2019-10-25",
          "2019-10-24",
          "2019-10-23",
          "2019-10-22",
          "2019-10-21",
          "2019-10-18",
          "2019-10-17",
          "2019-10-16",
          "2019-10-15",
          "2019-10-14"
         ],
         "xaxis": "x",
         "y": [
          52,
          100,
          92,
          68,
          49,
          52,
          45,
          37,
          63,
          36,
          35,
          127,
          38,
          70,
          114,
          71,
          97,
          47,
          91,
          109,
          42,
          177,
          59,
          48,
          57,
          64,
          88,
          70,
          102,
          50
         ],
         "yaxis": "y"
        },
        {
         "hoverlabel": {
          "namelength": 0
         },
         "hovertemplate": "author=Max Lin<br>day=%{x}<br>time=%{y}",
         "legendgroup": "author=Max Lin",
         "marker": {
          "color": "#B6E880",
          "symbol": "circle"
         },
         "mode": "markers",
         "name": "author=Max Lin",
         "showlegend": true,
         "type": "scatter",
         "visible": "legendonly",
         "x": [
          "2019-12-18",
          "2019-12-16",
          "2019-12-13",
          "2019-12-12",
          "2019-12-11",
          "2019-12-09",
          "2019-12-08",
          "2019-12-07",
          "2019-12-06",
          "2019-12-05",
          "2019-11-14",
          "2019-11-11",
          "2019-11-10",
          "2019-11-09",
          "2019-11-08",
          "2019-11-07",
          "2019-11-06",
          "2019-11-05",
          "2019-11-04",
          "2019-11-03",
          "2019-11-02"
         ],
         "xaxis": "x",
         "y": [
          48,
          163,
          78,
          354,
          54,
          102,
          214,
          239,
          171,
          74,
          43,
          54,
          77,
          316,
          110,
          195,
          525,
          152,
          217,
          127,
          324
         ],
         "yaxis": "y"
        },
        {
         "hoverlabel": {
          "namelength": 0
         },
         "hovertemplate": "author=Usmann Khan<br>day=%{x}<br>time=%{y}",
         "legendgroup": "author=Usmann Khan",
         "marker": {
          "color": "#FF97FF",
          "symbol": "circle"
         },
         "mode": "markers",
         "name": "author=Usmann Khan",
         "showlegend": true,
         "type": "scatter",
         "visible": "legendonly",
         "x": [
          "2019-12-18",
          "2019-12-17",
          "2019-12-16",
          "2019-12-15",
          "2019-12-14",
          "2019-12-13",
          "2019-12-12",
          "2019-12-11",
          "2019-12-10",
          "2019-12-09",
          "2019-12-07",
          "2019-12-06",
          "2019-12-05",
          "2019-12-04",
          "2019-12-03",
          "2019-12-02",
          "2019-12-01",
          "2019-11-30",
          "2019-11-29",
          "2019-11-28",
          "2019-11-27",
          "2019-11-26",
          "2019-11-25",
          "2019-11-24",
          "2019-11-23",
          "2019-11-22",
          "2019-11-21",
          "2019-11-20",
          "2019-11-19",
          "2019-11-18",
          "2019-11-17",
          "2019-11-16",
          "2019-11-15",
          "2019-11-14",
          "2019-11-13",
          "2019-11-12",
          "2019-11-11",
          "2019-11-10",
          "2019-11-09",
          "2019-11-08",
          "2019-11-07",
          "2019-11-06",
          "2019-11-05",
          "2019-11-04",
          "2019-11-03",
          "2019-11-02",
          "2019-11-01",
          "2019-10-31",
          "2019-10-30",
          "2019-10-29",
          "2019-10-28",
          "2019-10-27",
          "2019-10-26",
          "2019-10-25",
          "2019-10-23",
          "2019-10-22",
          "2019-10-21",
          "2019-10-20",
          "2019-10-18",
          "2019-10-17",
          "2019-10-15",
          "2019-10-13",
          "2019-10-09",
          "2019-10-07",
          "2019-10-05",
          "2019-10-02",
          "2019-09-30",
          "2019-09-29",
          "2019-09-28",
          "2019-09-19",
          "2019-09-16"
         ],
         "xaxis": "x",
         "y": [
          43,
          74,
          28,
          37,
          65,
          37,
          35,
          33,
          114,
          40,
          137,
          46,
          39,
          55,
          54,
          34,
          93,
          95,
          89,
          32,
          48,
          28,
          23,
          31,
          245,
          168,
          26,
          35,
          33,
          54,
          34,
          97,
          110,
          27,
          78,
          30,
          29,
          32,
          58,
          63,
          134,
          46,
          44,
          83,
          33,
          55,
          23,
          33,
          51,
          24,
          65,
          27,
          65,
          35,
          34,
          66,
          63,
          34,
          50,
          50,
          36,
          50,
          86,
          53,
          147,
          88,
          60,
          49,
          96,
          90,
          109
         ],
         "yaxis": "y"
        },
        {
         "hoverlabel": {
          "namelength": 0
         },
         "hovertemplate": "author=Nicky Semenza<br>day=%{x}<br>time=%{y}",
         "legendgroup": "author=Nicky Semenza",
         "marker": {
          "color": "#FECB52",
          "symbol": "circle"
         },
         "mode": "markers",
         "name": "author=Nicky Semenza",
         "showlegend": true,
         "type": "scatter",
         "visible": "legendonly",
         "x": [
          "2019-12-17",
          "2019-12-16",
          "2019-12-11",
          "2019-12-10",
          "2019-12-08",
          "2019-12-04",
          "2019-12-01",
          "2019-11-29",
          "2019-11-28",
          "2019-11-24",
          "2019-11-15",
          "2019-11-14",
          "2019-11-12",
          "2019-11-11",
          "2019-11-10",
          "2019-11-08",
          "2019-11-06",
          "2019-11-04",
          "2019-11-03",
          "2019-11-01",
          "2019-10-31",
          "2019-10-30",
          "2019-10-28",
          "2019-10-25",
          "2019-10-24",
          "2019-10-23",
          "2019-10-22",
          "2019-10-21",
          "2019-10-20",
          "2019-10-19",
          "2019-10-18",
          "2019-10-17",
          "2019-10-16",
          "2019-10-15",
          "2019-10-13",
          "2019-10-11",
          "2019-10-05",
          "2019-10-04",
          "2019-10-02",
          "2019-09-25",
          "2019-09-17",
          "2019-09-16"
         ],
         "xaxis": "x",
         "y": [
          27,
          48,
          25,
          264,
          60,
          28,
          92,
          335,
          38,
          42,
          62,
          30,
          81,
          30,
          45,
          74,
          328,
          48,
          33,
          40,
          133,
          61,
          63,
          55,
          244,
          83,
          55,
          61,
          81,
          77,
          36,
          96,
          103,
          77,
          40,
          69,
          309,
          120,
          126,
          110,
          96,
          94
         ],
         "yaxis": "y"
        },
        {
         "hoverlabel": {
          "namelength": 0
         },
         "hovertemplate": "author=Elliott Williams<br>day=%{x}<br>time=%{y}",
         "legendgroup": "author=Elliott Williams",
         "marker": {
          "color": "#636efa",
          "symbol": "circle"
         },
         "mode": "markers",
         "name": "author=Elliott Williams",
         "showlegend": true,
         "type": "scatter",
         "visible": "legendonly",
         "x": [
          "2019-12-17",
          "2019-12-04",
          "2019-11-28",
          "2019-11-22",
          "2019-11-14",
          "2019-11-08",
          "2019-11-06",
          "2019-11-03",
          "2019-11-01",
          "2019-10-21",
          "2019-10-20",
          "2019-10-19",
          "2019-10-18",
          "2019-10-17",
          "2019-10-13",
          "2019-10-08",
          "2019-10-01"
         ],
         "xaxis": "x",
         "y": [
          36,
          52,
          99,
          47,
          26,
          74,
          61,
          39,
          36,
          74,
          70,
          47,
          46,
          44,
          32,
          190,
          38
         ],
         "yaxis": "y"
        },
        {
         "hoverlabel": {
          "namelength": 0
         },
         "hovertemplate": "author=Edwin Stanley<br>day=%{x}<br>time=%{y}",
         "legendgroup": "author=Edwin Stanley",
         "marker": {
          "color": "#EF553B",
          "symbol": "circle"
         },
         "mode": "markers",
         "name": "author=Edwin Stanley",
         "showlegend": true,
         "type": "scatter",
         "visible": "legendonly",
         "x": [
          "2019-12-17",
          "2019-11-12",
          "2019-11-01",
          "2019-10-30",
          "2019-10-29"
         ],
         "xaxis": "x",
         "y": [
          64,
          44,
          57,
          51,
          40
         ],
         "yaxis": "y"
        },
        {
         "hoverlabel": {
          "namelength": 0
         },
         "hovertemplate": "author=Ian Zanger<br>day=%{x}<br>time=%{y}",
         "legendgroup": "author=Ian Zanger",
         "marker": {
          "color": "#00cc96",
          "symbol": "circle"
         },
         "mode": "markers",
         "name": "author=Ian Zanger",
         "showlegend": true,
         "type": "scatter",
         "visible": "legendonly",
         "x": [
          "2019-12-16",
          "2019-12-14",
          "2019-12-13",
          "2019-12-12",
          "2019-12-11",
          "2019-12-10",
          "2019-12-09",
          "2019-12-08",
          "2019-12-07",
          "2019-12-06",
          "2019-12-05",
          "2019-12-04",
          "2019-12-03",
          "2019-12-02",
          "2019-11-28",
          "2019-11-24",
          "2019-11-22",
          "2019-11-19",
          "2019-11-18",
          "2019-11-17"
         ],
         "xaxis": "x",
         "y": [
          81,
          73,
          88,
          552,
          53,
          92,
          88,
          57,
          87,
          123,
          337,
          42,
          318,
          46,
          65,
          112,
          163,
          71,
          100,
          271
         ],
         "yaxis": "y"
        },
        {
         "hoverlabel": {
          "namelength": 0
         },
         "hovertemplate": "author=Peter Kfoury<br>day=%{x}<br>time=%{y}",
         "legendgroup": "author=Peter Kfoury",
         "marker": {
          "color": "#ab63fa",
          "symbol": "circle"
         },
         "mode": "markers",
         "name": "author=Peter Kfoury",
         "showlegend": true,
         "type": "scatter",
         "visible": "legendonly",
         "x": [
          "2019-12-16",
          "2019-12-07",
          "2019-12-05",
          "2019-12-02",
          "2019-11-30",
          "2019-11-24",
          "2019-11-16",
          "2019-11-10",
          "2019-11-09",
          "2019-11-06",
          "2019-11-02",
          "2019-11-01",
          "2019-10-31",
          "2019-10-30",
          "2019-10-29",
          "2019-10-25",
          "2019-10-23",
          "2019-10-21",
          "2019-10-18",
          "2019-10-17",
          "2019-10-16",
          "2019-10-14"
         ],
         "xaxis": "x",
         "y": [
          77,
          213,
          97,
          78,
          189,
          102,
          118,
          93,
          301,
          192,
          178,
          52,
          128,
          94,
          114,
          83,
          145,
          55,
          187,
          91,
          249,
          44
         ],
         "yaxis": "y"
        },
        {
         "hoverlabel": {
          "namelength": 0
         },
         "hovertemplate": "author=Jessica Jiang<br>day=%{x}<br>time=%{y}",
         "legendgroup": "author=Jessica Jiang",
         "marker": {
          "color": "#FFA15A",
          "symbol": "circle"
         },
         "mode": "markers",
         "name": "author=Jessica Jiang",
         "showlegend": true,
         "type": "scatter",
         "visible": "legendonly",
         "x": [
          "2019-12-16",
          "2019-12-13",
          "2019-12-11",
          "2019-12-08",
          "2019-12-07",
          "2019-12-05",
          "2019-12-03",
          "2019-12-02",
          "2019-12-01",
          "2019-11-28",
          "2019-11-25",
          "2019-11-24",
          "2019-11-16",
          "2019-11-14",
          "2019-11-13",
          "2019-11-12",
          "2019-11-11",
          "2019-11-10",
          "2019-11-09",
          "2019-11-08",
          "2019-11-07",
          "2019-11-06",
          "2019-11-04",
          "2019-11-03",
          "2019-11-01",
          "2019-10-31",
          "2019-10-30",
          "2019-10-23",
          "2019-10-21",
          "2019-10-19",
          "2019-10-18",
          "2019-10-17",
          "2019-10-14",
          "2019-10-11",
          "2019-10-10",
          "2019-10-08",
          "2019-10-05",
          "2019-10-04",
          "2019-10-03",
          "2019-10-01",
          "2019-09-26",
          "2019-09-18"
         ],
         "xaxis": "x",
         "y": [
          64,
          94,
          45,
          209,
          167,
          39,
          478,
          47,
          112,
          143,
          88,
          81,
          385,
          32,
          106,
          117,
          41,
          66,
          511,
          195,
          75,
          54,
          125,
          38,
          36,
          371,
          61,
          120,
          90,
          86,
          66,
          96,
          45,
          31,
          94,
          355,
          331,
          251,
          224,
          63,
          150,
          109
         ],
         "yaxis": "y"
        },
        {
         "hoverlabel": {
          "namelength": 0
         },
         "hovertemplate": "author=Shreya Ramesh<br>day=%{x}<br>time=%{y}",
         "legendgroup": "author=Shreya Ramesh",
         "marker": {
          "color": "#19d3f3",
          "symbol": "circle"
         },
         "mode": "markers",
         "name": "author=Shreya Ramesh",
         "showlegend": true,
         "type": "scatter",
         "visible": "legendonly",
         "x": [
          "2019-12-06",
          "2019-12-04",
          "2019-12-03",
          "2019-12-02",
          "2019-12-01",
          "2019-11-30",
          "2019-11-28",
          "2019-11-27",
          "2019-11-24",
          "2019-11-11",
          "2019-11-09",
          "2019-11-08",
          "2019-11-06",
          "2019-11-04",
          "2019-10-29",
          "2019-10-28",
          "2019-10-27",
          "2019-10-25",
          "2019-10-23",
          "2019-10-21",
          "2019-10-20",
          "2019-10-19",
          "2019-10-18",
          "2019-10-17",
          "2019-10-16"
         ],
         "xaxis": "x",
         "y": [
          62,
          44,
          54,
          44,
          56,
          95,
          43,
          48,
          62,
          27,
          111,
          35,
          82,
          41,
          33,
          62,
          59,
          57,
          57,
          34,
          37,
          85,
          32,
          42,
          47
         ],
         "yaxis": "y"
        },
        {
         "hoverlabel": {
          "namelength": 0
         },
         "hovertemplate": "author=Jake Brabec<br>day=%{x}<br>time=%{y}",
         "legendgroup": "author=Jake Brabec",
         "marker": {
          "color": "#FF6692",
          "symbol": "circle"
         },
         "mode": "markers",
         "name": "author=Jake Brabec",
         "showlegend": true,
         "type": "scatter",
         "visible": "legendonly",
         "x": [
          "2019-11-28",
          "2019-11-21",
          "2019-11-10",
          "2019-11-08",
          "2019-10-19",
          "2019-10-18",
          "2019-10-16",
          "2019-10-13",
          "2019-10-04"
         ],
         "xaxis": "x",
         "y": [
          41,
          117,
          44,
          68,
          108,
          136,
          54,
          81,
          171
         ],
         "yaxis": "y"
        }
       ],
       "layout": {
        "autosize": true,
        "legend": {
         "tracegroupgap": 0
        },
        "margin": {
         "t": 60
        },
        "template": {
         "data": {
          "bar": [
           {
            "error_x": {
             "color": "#2a3f5f"
            },
            "error_y": {
             "color": "#2a3f5f"
            },
            "marker": {
             "line": {
              "color": "#E5ECF6",
              "width": 0.5
             }
            },
            "type": "bar"
           }
          ],
          "barpolar": [
           {
            "marker": {
             "line": {
              "color": "#E5ECF6",
              "width": 0.5
             }
            },
            "type": "barpolar"
           }
          ],
          "carpet": [
           {
            "aaxis": {
             "endlinecolor": "#2a3f5f",
             "gridcolor": "white",
             "linecolor": "white",
             "minorgridcolor": "white",
             "startlinecolor": "#2a3f5f"
            },
            "baxis": {
             "endlinecolor": "#2a3f5f",
             "gridcolor": "white",
             "linecolor": "white",
             "minorgridcolor": "white",
             "startlinecolor": "#2a3f5f"
            },
            "type": "carpet"
           }
          ],
          "choropleth": [
           {
            "colorbar": {
             "outlinewidth": 0,
             "ticks": ""
            },
            "type": "choropleth"
           }
          ],
          "contour": [
           {
            "colorbar": {
             "outlinewidth": 0,
             "ticks": ""
            },
            "colorscale": [
             [
              0,
              "#0d0887"
             ],
             [
              0.1111111111111111,
              "#46039f"
             ],
             [
              0.2222222222222222,
              "#7201a8"
             ],
             [
              0.3333333333333333,
              "#9c179e"
             ],
             [
              0.4444444444444444,
              "#bd3786"
             ],
             [
              0.5555555555555556,
              "#d8576b"
             ],
             [
              0.6666666666666666,
              "#ed7953"
             ],
             [
              0.7777777777777778,
              "#fb9f3a"
             ],
             [
              0.8888888888888888,
              "#fdca26"
             ],
             [
              1,
              "#f0f921"
             ]
            ],
            "type": "contour"
           }
          ],
          "contourcarpet": [
           {
            "colorbar": {
             "outlinewidth": 0,
             "ticks": ""
            },
            "type": "contourcarpet"
           }
          ],
          "heatmap": [
           {
            "colorbar": {
             "outlinewidth": 0,
             "ticks": ""
            },
            "colorscale": [
             [
              0,
              "#0d0887"
             ],
             [
              0.1111111111111111,
              "#46039f"
             ],
             [
              0.2222222222222222,
              "#7201a8"
             ],
             [
              0.3333333333333333,
              "#9c179e"
             ],
             [
              0.4444444444444444,
              "#bd3786"
             ],
             [
              0.5555555555555556,
              "#d8576b"
             ],
             [
              0.6666666666666666,
              "#ed7953"
             ],
             [
              0.7777777777777778,
              "#fb9f3a"
             ],
             [
              0.8888888888888888,
              "#fdca26"
             ],
             [
              1,
              "#f0f921"
             ]
            ],
            "type": "heatmap"
           }
          ],
          "heatmapgl": [
           {
            "colorbar": {
             "outlinewidth": 0,
             "ticks": ""
            },
            "colorscale": [
             [
              0,
              "#0d0887"
             ],
             [
              0.1111111111111111,
              "#46039f"
             ],
             [
              0.2222222222222222,
              "#7201a8"
             ],
             [
              0.3333333333333333,
              "#9c179e"
             ],
             [
              0.4444444444444444,
              "#bd3786"
             ],
             [
              0.5555555555555556,
              "#d8576b"
             ],
             [
              0.6666666666666666,
              "#ed7953"
             ],
             [
              0.7777777777777778,
              "#fb9f3a"
             ],
             [
              0.8888888888888888,
              "#fdca26"
             ],
             [
              1,
              "#f0f921"
             ]
            ],
            "type": "heatmapgl"
           }
          ],
          "histogram": [
           {
            "marker": {
             "colorbar": {
              "outlinewidth": 0,
              "ticks": ""
             }
            },
            "type": "histogram"
           }
          ],
          "histogram2d": [
           {
            "colorbar": {
             "outlinewidth": 0,
             "ticks": ""
            },
            "colorscale": [
             [
              0,
              "#0d0887"
             ],
             [
              0.1111111111111111,
              "#46039f"
             ],
             [
              0.2222222222222222,
              "#7201a8"
             ],
             [
              0.3333333333333333,
              "#9c179e"
             ],
             [
              0.4444444444444444,
              "#bd3786"
             ],
             [
              0.5555555555555556,
              "#d8576b"
             ],
             [
              0.6666666666666666,
              "#ed7953"
             ],
             [
              0.7777777777777778,
              "#fb9f3a"
             ],
             [
              0.8888888888888888,
              "#fdca26"
             ],
             [
              1,
              "#f0f921"
             ]
            ],
            "type": "histogram2d"
           }
          ],
          "histogram2dcontour": [
           {
            "colorbar": {
             "outlinewidth": 0,
             "ticks": ""
            },
            "colorscale": [
             [
              0,
              "#0d0887"
             ],
             [
              0.1111111111111111,
              "#46039f"
             ],
             [
              0.2222222222222222,
              "#7201a8"
             ],
             [
              0.3333333333333333,
              "#9c179e"
             ],
             [
              0.4444444444444444,
              "#bd3786"
             ],
             [
              0.5555555555555556,
              "#d8576b"
             ],
             [
              0.6666666666666666,
              "#ed7953"
             ],
             [
              0.7777777777777778,
              "#fb9f3a"
             ],
             [
              0.8888888888888888,
              "#fdca26"
             ],
             [
              1,
              "#f0f921"
             ]
            ],
            "type": "histogram2dcontour"
           }
          ],
          "mesh3d": [
           {
            "colorbar": {
             "outlinewidth": 0,
             "ticks": ""
            },
            "type": "mesh3d"
           }
          ],
          "parcoords": [
           {
            "line": {
             "colorbar": {
              "outlinewidth": 0,
              "ticks": ""
             }
            },
            "type": "parcoords"
           }
          ],
          "scatter": [
           {
            "marker": {
             "colorbar": {
              "outlinewidth": 0,
              "ticks": ""
             }
            },
            "type": "scatter"
           }
          ],
          "scatter3d": [
           {
            "line": {
             "colorbar": {
              "outlinewidth": 0,
              "ticks": ""
             }
            },
            "marker": {
             "colorbar": {
              "outlinewidth": 0,
              "ticks": ""
             }
            },
            "type": "scatter3d"
           }
          ],
          "scattercarpet": [
           {
            "marker": {
             "colorbar": {
              "outlinewidth": 0,
              "ticks": ""
             }
            },
            "type": "scattercarpet"
           }
          ],
          "scattergeo": [
           {
            "marker": {
             "colorbar": {
              "outlinewidth": 0,
              "ticks": ""
             }
            },
            "type": "scattergeo"
           }
          ],
          "scattergl": [
           {
            "marker": {
             "colorbar": {
              "outlinewidth": 0,
              "ticks": ""
             }
            },
            "type": "scattergl"
           }
          ],
          "scattermapbox": [
           {
            "marker": {
             "colorbar": {
              "outlinewidth": 0,
              "ticks": ""
             }
            },
            "type": "scattermapbox"
           }
          ],
          "scatterpolar": [
           {
            "marker": {
             "colorbar": {
              "outlinewidth": 0,
              "ticks": ""
             }
            },
            "type": "scatterpolar"
           }
          ],
          "scatterpolargl": [
           {
            "marker": {
             "colorbar": {
              "outlinewidth": 0,
              "ticks": ""
             }
            },
            "type": "scatterpolargl"
           }
          ],
          "scatterternary": [
           {
            "marker": {
             "colorbar": {
              "outlinewidth": 0,
              "ticks": ""
             }
            },
            "type": "scatterternary"
           }
          ],
          "surface": [
           {
            "colorbar": {
             "outlinewidth": 0,
             "ticks": ""
            },
            "colorscale": [
             [
              0,
              "#0d0887"
             ],
             [
              0.1111111111111111,
              "#46039f"
             ],
             [
              0.2222222222222222,
              "#7201a8"
             ],
             [
              0.3333333333333333,
              "#9c179e"
             ],
             [
              0.4444444444444444,
              "#bd3786"
             ],
             [
              0.5555555555555556,
              "#d8576b"
             ],
             [
              0.6666666666666666,
              "#ed7953"
             ],
             [
              0.7777777777777778,
              "#fb9f3a"
             ],
             [
              0.8888888888888888,
              "#fdca26"
             ],
             [
              1,
              "#f0f921"
             ]
            ],
            "type": "surface"
           }
          ],
          "table": [
           {
            "cells": {
             "fill": {
              "color": "#EBF0F8"
             },
             "line": {
              "color": "white"
             }
            },
            "header": {
             "fill": {
              "color": "#C8D4E3"
             },
             "line": {
              "color": "white"
             }
            },
            "type": "table"
           }
          ]
         },
         "layout": {
          "annotationdefaults": {
           "arrowcolor": "#2a3f5f",
           "arrowhead": 0,
           "arrowwidth": 1
          },
          "colorscale": {
           "diverging": [
            [
             0,
             "#8e0152"
            ],
            [
             0.1,
             "#c51b7d"
            ],
            [
             0.2,
             "#de77ae"
            ],
            [
             0.3,
             "#f1b6da"
            ],
            [
             0.4,
             "#fde0ef"
            ],
            [
             0.5,
             "#f7f7f7"
            ],
            [
             0.6,
             "#e6f5d0"
            ],
            [
             0.7,
             "#b8e186"
            ],
            [
             0.8,
             "#7fbc41"
            ],
            [
             0.9,
             "#4d9221"
            ],
            [
             1,
             "#276419"
            ]
           ],
           "sequential": [
            [
             0,
             "#0d0887"
            ],
            [
             0.1111111111111111,
             "#46039f"
            ],
            [
             0.2222222222222222,
             "#7201a8"
            ],
            [
             0.3333333333333333,
             "#9c179e"
            ],
            [
             0.4444444444444444,
             "#bd3786"
            ],
            [
             0.5555555555555556,
             "#d8576b"
            ],
            [
             0.6666666666666666,
             "#ed7953"
            ],
            [
             0.7777777777777778,
             "#fb9f3a"
            ],
            [
             0.8888888888888888,
             "#fdca26"
            ],
            [
             1,
             "#f0f921"
            ]
           ],
           "sequentialminus": [
            [
             0,
             "#0d0887"
            ],
            [
             0.1111111111111111,
             "#46039f"
            ],
            [
             0.2222222222222222,
             "#7201a8"
            ],
            [
             0.3333333333333333,
             "#9c179e"
            ],
            [
             0.4444444444444444,
             "#bd3786"
            ],
            [
             0.5555555555555556,
             "#d8576b"
            ],
            [
             0.6666666666666666,
             "#ed7953"
            ],
            [
             0.7777777777777778,
             "#fb9f3a"
            ],
            [
             0.8888888888888888,
             "#fdca26"
            ],
            [
             1,
             "#f0f921"
            ]
           ]
          },
          "colorway": [
           "#636efa",
           "#EF553B",
           "#00cc96",
           "#ab63fa",
           "#FFA15A",
           "#19d3f3",
           "#FF6692",
           "#B6E880",
           "#FF97FF",
           "#FECB52"
          ],
          "font": {
           "color": "#2a3f5f"
          },
          "geo": {
           "bgcolor": "white",
           "lakecolor": "white",
           "landcolor": "#E5ECF6",
           "showlakes": true,
           "showland": true,
           "subunitcolor": "white"
          },
          "hoverlabel": {
           "align": "left"
          },
          "hovermode": "closest",
          "mapbox": {
           "style": "light"
          },
          "paper_bgcolor": "white",
          "plot_bgcolor": "#E5ECF6",
          "polar": {
           "angularaxis": {
            "gridcolor": "white",
            "linecolor": "white",
            "ticks": ""
           },
           "bgcolor": "#E5ECF6",
           "radialaxis": {
            "gridcolor": "white",
            "linecolor": "white",
            "ticks": ""
           }
          },
          "scene": {
           "xaxis": {
            "backgroundcolor": "#E5ECF6",
            "gridcolor": "white",
            "gridwidth": 2,
            "linecolor": "white",
            "showbackground": true,
            "ticks": "",
            "zerolinecolor": "white"
           },
           "yaxis": {
            "backgroundcolor": "#E5ECF6",
            "gridcolor": "white",
            "gridwidth": 2,
            "linecolor": "white",
            "showbackground": true,
            "ticks": "",
            "zerolinecolor": "white"
           },
           "zaxis": {
            "backgroundcolor": "#E5ECF6",
            "gridcolor": "white",
            "gridwidth": 2,
            "linecolor": "white",
            "showbackground": true,
            "ticks": "",
            "zerolinecolor": "white"
           }
          },
          "shapedefaults": {
           "line": {
            "color": "#2a3f5f"
           }
          },
          "ternary": {
           "aaxis": {
            "gridcolor": "white",
            "linecolor": "white",
            "ticks": ""
           },
           "baxis": {
            "gridcolor": "white",
            "linecolor": "white",
            "ticks": ""
           },
           "bgcolor": "#E5ECF6",
           "caxis": {
            "gridcolor": "white",
            "linecolor": "white",
            "ticks": ""
           }
          },
          "title": {
           "x": 0.05
          },
          "xaxis": {
           "automargin": true,
           "gridcolor": "white",
           "linecolor": "white",
           "ticks": "",
           "zerolinecolor": "white",
           "zerolinewidth": 2
          },
          "yaxis": {
           "automargin": true,
           "gridcolor": "white",
           "linecolor": "white",
           "ticks": "",
           "zerolinecolor": "white",
           "zerolinewidth": 2
          }
         }
        },
        "title": {
         "text": "All Times (try clicking names)"
        },
        "xaxis": {
         "anchor": "y",
         "autorange": true,
         "domain": [
          0,
          0.98
         ],
         "range": [
          "2019-10-10 01:36:15.4516",
          "2019-12-21 22:23:44.5484"
         ],
         "title": {
          "text": "day"
         },
         "type": "date"
        },
        "yaxis": {
         "anchor": "x",
         "autorange": true,
         "domain": [
          0,
          1
         ],
         "range": [
          11.011685116851169,
          113.98831488314883
         ],
         "title": {
          "text": "time"
         },
         "type": "linear"
        }
       }
      },
      "image/png": "[encoded data removed]",
      "text/html": [
       "<div>\n",
       "        \n",
       "        \n",
       "            <div id=\"97cef5d6-3b11-4772-9915-8844105146b8\" class=\"plotly-graph-div\" style=\"height:600px; width:100%;\"></div>\n",
       "            <script type=\"text/javascript\">\n",
       "                require([\"plotly\"], function(Plotly) {\n",
       "                    window.PLOTLYENV=window.PLOTLYENV || {};\n",
       "                    \n",
       "                if (document.getElementById(\"97cef5d6-3b11-4772-9915-8844105146b8\")) {\n",
       "                    Plotly.newPlot(\n",
       "                        '97cef5d6-3b11-4772-9915-8844105146b8',\n",
       "                        [{\"hoverlabel\": {\"namelength\": 0}, \"hovertemplate\": \"author=Ankit Pancakes<br>day=%{x}<br>time=%{y}\", \"legendgroup\": \"author=Ankit Pancakes\", \"marker\": {\"color\": \"#636efa\", \"symbol\": \"circle\"}, \"mode\": \"markers\", \"name\": \"author=Ankit Pancakes\", \"showlegend\": true, \"type\": \"scatter\", \"x\": [\"2019-12-18\", \"2019-12-17\", \"2019-12-16\", \"2019-12-15\", \"2019-12-14\", \"2019-12-13\", \"2019-12-12\", \"2019-12-11\", \"2019-12-10\", \"2019-12-09\", \"2019-12-08\", \"2019-12-07\", \"2019-12-06\", \"2019-12-05\", \"2019-12-04\", \"2019-12-03\", \"2019-12-01\", \"2019-11-30\", \"2019-11-29\", \"2019-11-26\", \"2019-11-25\", \"2019-11-24\", \"2019-11-23\", \"2019-11-22\", \"2019-11-21\", \"2019-11-20\", \"2019-11-19\", \"2019-11-18\", \"2019-11-17\", \"2019-11-16\", \"2019-11-15\", \"2019-11-14\", \"2019-11-13\", \"2019-11-12\", \"2019-11-11\", \"2019-11-10\", \"2019-11-09\", \"2019-11-08\", \"2019-11-07\", \"2019-11-06\", \"2019-11-05\", \"2019-11-04\", \"2019-11-03\", \"2019-11-02\", \"2019-11-01\", \"2019-10-31\", \"2019-10-30\", \"2019-10-29\", \"2019-10-28\", \"2019-10-27\", \"2019-10-26\", \"2019-10-25\", \"2019-10-24\", \"2019-10-23\", \"2019-10-22\", \"2019-10-21\", \"2019-10-20\", \"2019-10-19\", \"2019-10-18\", \"2019-10-17\", \"2019-10-16\", \"2019-10-15\", \"2019-10-14\", \"2019-10-13\", \"2019-10-12\", \"2019-10-11\", \"2019-10-09\", \"2019-10-08\", \"2019-10-05\", \"2019-10-04\", \"2019-10-02\", \"2019-10-01\"], \"xaxis\": \"x\", \"y\": [14, 35, 48, 46, 134, 80, 252, 50, 108, 74, 78, 79, 126, 92, 79, 155, 135, 250, 56, 71, 53, 97, 79, 123, 81, 67, 152, 86, 139, 219, 133, 27, 64, 80, 29, 83, 436, 105, 163, 78, 41, 98, 31, 89, 57, 186, 104, 65, 82, 127, 82, 55, 47, 81, 98, 47, 68, 107, 34, 161, 84, 180, 33, 76, 361, 107, 81, 346, 237, 102, 63, 127], \"yaxis\": \"y\"}, {\"hoverlabel\": {\"namelength\": 0}, \"hovertemplate\": \"author=Paige Rossi<br>day=%{x}<br>time=%{y}\", \"legendgroup\": \"author=Paige Rossi\", \"marker\": {\"color\": \"#EF553B\", \"symbol\": \"circle\"}, \"mode\": \"markers\", \"name\": \"author=Paige Rossi\", \"showlegend\": true, \"type\": \"scatter\", \"x\": [\"2019-12-18\", \"2019-12-17\", \"2019-12-16\", \"2019-12-14\", \"2019-12-13\", \"2019-12-12\", \"2019-12-11\", \"2019-12-09\", \"2019-12-07\", \"2019-12-06\", \"2019-12-05\", \"2019-12-04\", \"2019-12-02\", \"2019-12-01\", \"2019-11-30\", \"2019-11-29\", \"2019-11-28\", \"2019-11-25\", \"2019-11-24\", \"2019-11-23\", \"2019-11-22\", \"2019-11-21\", \"2019-11-20\", \"2019-11-19\", \"2019-11-18\", \"2019-11-17\", \"2019-11-16\", \"2019-11-15\", \"2019-11-14\", \"2019-11-13\", \"2019-11-12\", \"2019-11-11\", \"2019-11-10\", \"2019-11-09\", \"2019-11-08\", \"2019-11-07\", \"2019-11-06\", \"2019-11-05\", \"2019-11-04\", \"2019-11-03\", \"2019-11-02\", \"2019-10-31\", \"2019-10-30\", \"2019-10-29\", \"2019-10-28\", \"2019-10-27\", \"2019-10-26\", \"2019-10-25\", \"2019-10-24\", \"2019-10-23\", \"2019-10-22\", \"2019-10-21\", \"2019-10-20\", \"2019-10-19\", \"2019-10-18\", \"2019-10-17\", \"2019-10-16\", \"2019-10-15\", \"2019-10-14\"], \"xaxis\": \"x\", \"y\": [21, 68, 39, 49, 45, 42, 32, 25, 56, 26, 28, 43, 41, 45, 63, 21, 29, 41, 38, 60, 39, 25, 45, 38, 29, 29, 93, 38, 18, 29, 23, 31, 31, 108, 47, 93, 37, 31, 53, 32, 57, 77, 43, 22, 56, 44, 51, 49, 97, 53, 23, 25, 39, 31, 26, 46, 32, 61, 17], \"yaxis\": \"y\"}, {\"hoverlabel\": {\"namelength\": 0}, \"hovertemplate\": \"author=Jenna Dambek<br>day=%{x}<br>time=%{y}\", \"legendgroup\": \"author=Jenna Dambek\", \"marker\": {\"color\": \"#00cc96\", \"symbol\": \"circle\"}, \"mode\": \"markers\", \"name\": \"author=Jenna Dambek\", \"showlegend\": true, \"type\": \"scatter\", \"x\": [\"2019-12-18\", \"2019-12-17\", \"2019-12-12\", \"2019-11-29\", \"2019-11-24\", \"2019-11-23\", \"2019-11-18\", \"2019-11-16\", \"2019-11-13\", \"2019-11-11\", \"2019-11-10\", \"2019-11-09\", \"2019-11-08\", \"2019-11-07\", \"2019-11-06\", \"2019-11-05\"], \"xaxis\": \"x\", \"y\": [114, 37, 96, 43, 73, 146, 52, 154, 46, 33, 42, 146, 131, 138, 134, 76], \"yaxis\": \"y\"}, {\"hoverlabel\": {\"namelength\": 0}, \"hovertemplate\": \"author=Kedar Vaidya<br>day=%{x}<br>time=%{y}\", \"legendgroup\": \"author=Kedar Vaidya\", \"marker\": {\"color\": \"#ab63fa\", \"symbol\": \"circle\"}, \"mode\": \"markers\", \"name\": \"author=Kedar Vaidya\", \"showlegend\": true, \"type\": \"scatter\", \"x\": [\"2019-12-18\", \"2019-12-17\", \"2019-12-15\", \"2019-12-09\", \"2019-12-08\", \"2019-12-07\", \"2019-12-06\", \"2019-12-02\", \"2019-11-27\", \"2019-11-26\", \"2019-11-25\", \"2019-11-19\", \"2019-11-18\", \"2019-11-17\", \"2019-11-15\", \"2019-11-14\", \"2019-11-13\", \"2019-11-12\", \"2019-11-11\", \"2019-11-10\", \"2019-11-09\", \"2019-11-08\", \"2019-11-07\", \"2019-11-05\", \"2019-11-04\", \"2019-11-03\", \"2019-11-02\", \"2019-10-30\", \"2019-10-29\", \"2019-10-28\", \"2019-10-26\", \"2019-10-25\", \"2019-10-24\", \"2019-10-23\", \"2019-10-21\", \"2019-10-20\", \"2019-10-19\", \"2019-10-17\", \"2019-10-16\", \"2019-10-12\", \"2019-10-11\", \"2019-10-07\", \"2019-10-05\", \"2019-10-02\", \"2019-10-01\", \"2019-09-24\", \"2019-09-21\", \"2019-09-17\", \"2019-09-16\"], \"xaxis\": \"x\", \"y\": [42, 127, 45, 98, 68, 204, 107, 28, 53, 61, 190, 142, 56, 176, 188, 28, 24, 24, 45, 24, 411, 167, 121, 143, 86, 98, 72, 108, 78, 229, 66, 111, 212, 42, 42, 155, 88, 125, 49, 211, 103, 121, 156, 510, 123, 16, 465, 128, 185], \"yaxis\": \"y\"}, {\"hoverlabel\": {\"namelength\": 0}, \"hovertemplate\": \"author=Seungyeon Shin<br>day=%{x}<br>time=%{y}\", \"legendgroup\": \"author=Seungyeon Shin\", \"marker\": {\"color\": \"#FFA15A\", \"symbol\": \"circle\"}, \"mode\": \"markers\", \"name\": \"author=Seungyeon Shin\", \"showlegend\": true, \"type\": \"scatter\", \"x\": [\"2019-12-18\", \"2019-12-17\", \"2019-12-11\", \"2019-12-06\", \"2019-12-05\", \"2019-12-04\", \"2019-12-02\"], \"xaxis\": \"x\", \"y\": [93, 84, 90, 138, 48, 148, 263], \"yaxis\": \"y\"}, {\"hoverlabel\": {\"namelength\": 0}, \"hovertemplate\": \"author=Vasudha Kashyap<br>day=%{x}<br>time=%{y}\", \"legendgroup\": \"author=Vasudha Kashyap\", \"marker\": {\"color\": \"#19d3f3\", \"symbol\": \"circle\"}, \"mode\": \"markers\", \"name\": \"author=Vasudha Kashyap\", \"showlegend\": true, \"type\": \"scatter\", \"x\": [\"2019-12-18\", \"2019-12-17\", \"2019-12-15\", \"2019-12-13\", \"2019-12-12\", \"2019-12-11\", \"2019-12-10\", \"2019-12-09\", \"2019-12-08\", \"2019-12-06\", \"2019-12-04\", \"2019-12-03\", \"2019-12-02\", \"2019-12-01\", \"2019-11-29\"], \"xaxis\": \"x\", \"y\": [130, 76, 45, 98, 168, 38, 98, 105, 214, 316, 446, 88, 201, 127, 31], \"yaxis\": \"y\"}, {\"hoverlabel\": {\"namelength\": 0}, \"hovertemplate\": \"author=Ben Alderfer<br>day=%{x}<br>time=%{y}\", \"legendgroup\": \"author=Ben Alderfer\", \"marker\": {\"color\": \"#FF6692\", \"symbol\": \"circle\"}, \"mode\": \"markers\", \"name\": \"author=Ben Alderfer\", \"showlegend\": true, \"type\": \"scatter\", \"x\": [\"2019-12-18\", \"2019-12-14\", \"2019-12-13\", \"2019-12-12\", \"2019-12-11\", \"2019-12-04\", \"2019-11-19\", \"2019-11-17\", \"2019-11-15\", \"2019-11-14\", \"2019-11-11\", \"2019-11-09\", \"2019-11-08\", \"2019-11-07\", \"2019-11-06\", \"2019-11-04\", \"2019-11-02\", \"2019-10-29\", \"2019-10-27\", \"2019-10-26\", \"2019-10-25\", \"2019-10-24\", \"2019-10-23\", \"2019-10-22\", \"2019-10-21\", \"2019-10-18\", \"2019-10-17\", \"2019-10-16\", \"2019-10-15\", \"2019-10-14\"], \"xaxis\": \"x\", \"y\": [52, 100, 92, 68, 49, 52, 45, 37, 63, 36, 35, 127, 38, 70, 114, 71, 97, 47, 91, 109, 42, 177, 59, 48, 57, 64, 88, 70, 102, 50], \"yaxis\": \"y\"}, {\"hoverlabel\": {\"namelength\": 0}, \"hovertemplate\": \"author=Max Lin<br>day=%{x}<br>time=%{y}\", \"legendgroup\": \"author=Max Lin\", \"marker\": {\"color\": \"#B6E880\", \"symbol\": \"circle\"}, \"mode\": \"markers\", \"name\": \"author=Max Lin\", \"showlegend\": true, \"type\": \"scatter\", \"x\": [\"2019-12-18\", \"2019-12-16\", \"2019-12-13\", \"2019-12-12\", \"2019-12-11\", \"2019-12-09\", \"2019-12-08\", \"2019-12-07\", \"2019-12-06\", \"2019-12-05\", \"2019-11-14\", \"2019-11-11\", \"2019-11-10\", \"2019-11-09\", \"2019-11-08\", \"2019-11-07\", \"2019-11-06\", \"2019-11-05\", \"2019-11-04\", \"2019-11-03\", \"2019-11-02\"], \"xaxis\": \"x\", \"y\": [48, 163, 78, 354, 54, 102, 214, 239, 171, 74, 43, 54, 77, 316, 110, 195, 525, 152, 217, 127, 324], \"yaxis\": \"y\"}, {\"hoverlabel\": {\"namelength\": 0}, \"hovertemplate\": \"author=Usmann Khan<br>day=%{x}<br>time=%{y}\", \"legendgroup\": \"author=Usmann Khan\", \"marker\": {\"color\": \"#FF97FF\", \"symbol\": \"circle\"}, \"mode\": \"markers\", \"name\": \"author=Usmann Khan\", \"showlegend\": true, \"type\": \"scatter\", \"x\": [\"2019-12-18\", \"2019-12-17\", \"2019-12-16\", \"2019-12-15\", \"2019-12-14\", \"2019-12-13\", \"2019-12-12\", \"2019-12-11\", \"2019-12-10\", \"2019-12-09\", \"2019-12-07\", \"2019-12-06\", \"2019-12-05\", \"2019-12-04\", \"2019-12-03\", \"2019-12-02\", \"2019-12-01\", \"2019-11-30\", \"2019-11-29\", \"2019-11-28\", \"2019-11-27\", \"2019-11-26\", \"2019-11-25\", \"2019-11-24\", \"2019-11-23\", \"2019-11-22\", \"2019-11-21\", \"2019-11-20\", \"2019-11-19\", \"2019-11-18\", \"2019-11-17\", \"2019-11-16\", \"2019-11-15\", \"2019-11-14\", \"2019-11-13\", \"2019-11-12\", \"2019-11-11\", \"2019-11-10\", \"2019-11-09\", \"2019-11-08\", \"2019-11-07\", \"2019-11-06\", \"2019-11-05\", \"2019-11-04\", \"2019-11-03\", \"2019-11-02\", \"2019-11-01\", \"2019-10-31\", \"2019-10-30\", \"2019-10-29\", \"2019-10-28\", \"2019-10-27\", \"2019-10-26\", \"2019-10-25\", \"2019-10-23\", \"2019-10-22\", \"2019-10-21\", \"2019-10-20\", \"2019-10-18\", \"2019-10-17\", \"2019-10-15\", \"2019-10-13\", \"2019-10-09\", \"2019-10-07\", \"2019-10-05\", \"2019-10-02\", \"2019-09-30\", \"2019-09-29\", \"2019-09-28\", \"2019-09-19\", \"2019-09-16\"], \"xaxis\": \"x\", \"y\": [43, 74, 28, 37, 65, 37, 35, 33, 114, 40, 137, 46, 39, 55, 54, 34, 93, 95, 89, 32, 48, 28, 23, 31, 245, 168, 26, 35, 33, 54, 34, 97, 110, 27, 78, 30, 29, 32, 58, 63, 134, 46, 44, 83, 33, 55, 23, 33, 51, 24, 65, 27, 65, 35, 34, 66, 63, 34, 50, 50, 36, 50, 86, 53, 147, 88, 60, 49, 96, 90, 109], \"yaxis\": \"y\"}, {\"hoverlabel\": {\"namelength\": 0}, \"hovertemplate\": \"author=Nicky Semenza<br>day=%{x}<br>time=%{y}\", \"legendgroup\": \"author=Nicky Semenza\", \"marker\": {\"color\": \"#FECB52\", \"symbol\": \"circle\"}, \"mode\": \"markers\", \"name\": \"author=Nicky Semenza\", \"showlegend\": true, \"type\": \"scatter\", \"x\": [\"2019-12-17\", \"2019-12-16\", \"2019-12-11\", \"2019-12-10\", \"2019-12-08\", \"2019-12-04\", \"2019-12-01\", \"2019-11-29\", \"2019-11-28\", \"2019-11-24\", \"2019-11-15\", \"2019-11-14\", \"2019-11-12\", \"2019-11-11\", \"2019-11-10\", \"2019-11-08\", \"2019-11-06\", \"2019-11-04\", \"2019-11-03\", \"2019-11-01\", \"2019-10-31\", \"2019-10-30\", \"2019-10-28\", \"2019-10-25\", \"2019-10-24\", \"2019-10-23\", \"2019-10-22\", \"2019-10-21\", \"2019-10-20\", \"2019-10-19\", \"2019-10-18\", \"2019-10-17\", \"2019-10-16\", \"2019-10-15\", \"2019-10-13\", \"2019-10-11\", \"2019-10-05\", \"2019-10-04\", \"2019-10-02\", \"2019-09-25\", \"2019-09-17\", \"2019-09-16\"], \"xaxis\": \"x\", \"y\": [27, 48, 25, 264, 60, 28, 92, 335, 38, 42, 62, 30, 81, 30, 45, 74, 328, 48, 33, 40, 133, 61, 63, 55, 244, 83, 55, 61, 81, 77, 36, 96, 103, 77, 40, 69, 309, 120, 126, 110, 96, 94], \"yaxis\": \"y\"}, {\"hoverlabel\": {\"namelength\": 0}, \"hovertemplate\": \"author=Elliott Williams<br>day=%{x}<br>time=%{y}\", \"legendgroup\": \"author=Elliott Williams\", \"marker\": {\"color\": \"#636efa\", \"symbol\": \"circle\"}, \"mode\": \"markers\", \"name\": \"author=Elliott Williams\", \"showlegend\": true, \"type\": \"scatter\", \"x\": [\"2019-12-17\", \"2019-12-04\", \"2019-11-28\", \"2019-11-22\", \"2019-11-14\", \"2019-11-08\", \"2019-11-06\", \"2019-11-03\", \"2019-11-01\", \"2019-10-21\", \"2019-10-20\", \"2019-10-19\", \"2019-10-18\", \"2019-10-17\", \"2019-10-13\", \"2019-10-08\", \"2019-10-01\"], \"xaxis\": \"x\", \"y\": [36, 52, 99, 47, 26, 74, 61, 39, 36, 74, 70, 47, 46, 44, 32, 190, 38], \"yaxis\": \"y\"}, {\"hoverlabel\": {\"namelength\": 0}, \"hovertemplate\": \"author=Edwin Stanley<br>day=%{x}<br>time=%{y}\", \"legendgroup\": \"author=Edwin Stanley\", \"marker\": {\"color\": \"#EF553B\", \"symbol\": \"circle\"}, \"mode\": \"markers\", \"name\": \"author=Edwin Stanley\", \"showlegend\": true, \"type\": \"scatter\", \"x\": [\"2019-12-17\", \"2019-11-12\", \"2019-11-01\", \"2019-10-30\", \"2019-10-29\"], \"xaxis\": \"x\", \"y\": [64, 44, 57, 51, 40], \"yaxis\": \"y\"}, {\"hoverlabel\": {\"namelength\": 0}, \"hovertemplate\": \"author=Ian Zanger<br>day=%{x}<br>time=%{y}\", \"legendgroup\": \"author=Ian Zanger\", \"marker\": {\"color\": \"#00cc96\", \"symbol\": \"circle\"}, \"mode\": \"markers\", \"name\": \"author=Ian Zanger\", \"showlegend\": true, \"type\": \"scatter\", \"x\": [\"2019-12-16\", \"2019-12-14\", \"2019-12-13\", \"2019-12-12\", \"2019-12-11\", \"2019-12-10\", \"2019-12-09\", \"2019-12-08\", \"2019-12-07\", \"2019-12-06\", \"2019-12-05\", \"2019-12-04\", \"2019-12-03\", \"2019-12-02\", \"2019-11-28\", \"2019-11-24\", \"2019-11-22\", \"2019-11-19\", \"2019-11-18\", \"2019-11-17\"], \"xaxis\": \"x\", \"y\": [81, 73, 88, 552, 53, 92, 88, 57, 87, 123, 337, 42, 318, 46, 65, 112, 163, 71, 100, 271], \"yaxis\": \"y\"}, {\"hoverlabel\": {\"namelength\": 0}, \"hovertemplate\": \"author=Peter Kfoury<br>day=%{x}<br>time=%{y}\", \"legendgroup\": \"author=Peter Kfoury\", \"marker\": {\"color\": \"#ab63fa\", \"symbol\": \"circle\"}, \"mode\": \"markers\", \"name\": \"author=Peter Kfoury\", \"showlegend\": true, \"type\": \"scatter\", \"x\": [\"2019-12-16\", \"2019-12-07\", \"2019-12-05\", \"2019-12-02\", \"2019-11-30\", \"2019-11-24\", \"2019-11-16\", \"2019-11-10\", \"2019-11-09\", \"2019-11-06\", \"2019-11-02\", \"2019-11-01\", \"2019-10-31\", \"2019-10-30\", \"2019-10-29\", \"2019-10-25\", \"2019-10-23\", \"2019-10-21\", \"2019-10-18\", \"2019-10-17\", \"2019-10-16\", \"2019-10-14\"], \"xaxis\": \"x\", \"y\": [77, 213, 97, 78, 189, 102, 118, 93, 301, 192, 178, 52, 128, 94, 114, 83, 145, 55, 187, 91, 249, 44], \"yaxis\": \"y\"}, {\"hoverlabel\": {\"namelength\": 0}, \"hovertemplate\": \"author=Jessica Jiang<br>day=%{x}<br>time=%{y}\", \"legendgroup\": \"author=Jessica Jiang\", \"marker\": {\"color\": \"#FFA15A\", \"symbol\": \"circle\"}, \"mode\": \"markers\", \"name\": \"author=Jessica Jiang\", \"showlegend\": true, \"type\": \"scatter\", \"x\": [\"2019-12-16\", \"2019-12-13\", \"2019-12-11\", \"2019-12-08\", \"2019-12-07\", \"2019-12-05\", \"2019-12-03\", \"2019-12-02\", \"2019-12-01\", \"2019-11-28\", \"2019-11-25\", \"2019-11-24\", \"2019-11-16\", \"2019-11-14\", \"2019-11-13\", \"2019-11-12\", \"2019-11-11\", \"2019-11-10\", \"2019-11-09\", \"2019-11-08\", \"2019-11-07\", \"2019-11-06\", \"2019-11-04\", \"2019-11-03\", \"2019-11-01\", \"2019-10-31\", \"2019-10-30\", \"2019-10-23\", \"2019-10-21\", \"2019-10-19\", \"2019-10-18\", \"2019-10-17\", \"2019-10-14\", \"2019-10-11\", \"2019-10-10\", \"2019-10-08\", \"2019-10-05\", \"2019-10-04\", \"2019-10-03\", \"2019-10-01\", \"2019-09-26\", \"2019-09-18\"], \"xaxis\": \"x\", \"y\": [64, 94, 45, 209, 167, 39, 478, 47, 112, 143, 88, 81, 385, 32, 106, 117, 41, 66, 511, 195, 75, 54, 125, 38, 36, 371, 61, 120, 90, 86, 66, 96, 45, 31, 94, 355, 331, 251, 224, 63, 150, 109], \"yaxis\": \"y\"}, {\"hoverlabel\": {\"namelength\": 0}, \"hovertemplate\": \"author=Shreya Ramesh<br>day=%{x}<br>time=%{y}\", \"legendgroup\": \"author=Shreya Ramesh\", \"marker\": {\"color\": \"#19d3f3\", \"symbol\": \"circle\"}, \"mode\": \"markers\", \"name\": \"author=Shreya Ramesh\", \"showlegend\": true, \"type\": \"scatter\", \"x\": [\"2019-12-06\", \"2019-12-04\", \"2019-12-03\", \"2019-12-02\", \"2019-12-01\", \"2019-11-30\", \"2019-11-28\", \"2019-11-27\", \"2019-11-24\", \"2019-11-11\", \"2019-11-09\", \"2019-11-08\", \"2019-11-06\", \"2019-11-04\", \"2019-10-29\", \"2019-10-28\", \"2019-10-27\", \"2019-10-25\", \"2019-10-23\", \"2019-10-21\", \"2019-10-20\", \"2019-10-19\", \"2019-10-18\", \"2019-10-17\", \"2019-10-16\"], \"xaxis\": \"x\", \"y\": [62, 44, 54, 44, 56, 95, 43, 48, 62, 27, 111, 35, 82, 41, 33, 62, 59, 57, 57, 34, 37, 85, 32, 42, 47], \"yaxis\": \"y\"}, {\"hoverlabel\": {\"namelength\": 0}, \"hovertemplate\": \"author=Jake Brabec<br>day=%{x}<br>time=%{y}\", \"legendgroup\": \"author=Jake Brabec\", \"marker\": {\"color\": \"#FF6692\", \"symbol\": \"circle\"}, \"mode\": \"markers\", \"name\": \"author=Jake Brabec\", \"showlegend\": true, \"type\": \"scatter\", \"x\": [\"2019-11-28\", \"2019-11-21\", \"2019-11-10\", \"2019-11-08\", \"2019-10-19\", \"2019-10-18\", \"2019-10-16\", \"2019-10-13\", \"2019-10-04\"], \"xaxis\": \"x\", \"y\": [41, 117, 44, 68, 108, 136, 54, 81, 171], \"yaxis\": \"y\"}],\n",
       "                        {\"height\": 600, \"legend\": {\"tracegroupgap\": 0}, \"margin\": {\"t\": 60}, \"template\": {\"data\": {\"bar\": [{\"error_x\": {\"color\": \"#2a3f5f\"}, \"error_y\": {\"color\": \"#2a3f5f\"}, \"marker\": {\"line\": {\"color\": \"#E5ECF6\", \"width\": 0.5}}, \"type\": \"bar\"}], \"barpolar\": [{\"marker\": {\"line\": {\"color\": \"#E5ECF6\", \"width\": 0.5}}, \"type\": \"barpolar\"}], \"carpet\": [{\"aaxis\": {\"endlinecolor\": \"#2a3f5f\", \"gridcolor\": \"white\", \"linecolor\": \"white\", \"minorgridcolor\": \"white\", \"startlinecolor\": \"#2a3f5f\"}, \"baxis\": {\"endlinecolor\": \"#2a3f5f\", \"gridcolor\": \"white\", \"linecolor\": \"white\", \"minorgridcolor\": \"white\", \"startlinecolor\": \"#2a3f5f\"}, \"type\": \"carpet\"}], \"choropleth\": [{\"colorbar\": {\"outlinewidth\": 0, \"ticks\": \"\"}, \"type\": \"choropleth\"}], \"contour\": [{\"colorbar\": {\"outlinewidth\": 0, \"ticks\": \"\"}, \"colorscale\": [[0.0, \"#0d0887\"], [0.1111111111111111, \"#46039f\"], [0.2222222222222222, \"#7201a8\"], [0.3333333333333333, \"#9c179e\"], [0.4444444444444444, \"#bd3786\"], [0.5555555555555556, \"#d8576b\"], [0.6666666666666666, \"#ed7953\"], [0.7777777777777778, \"#fb9f3a\"], [0.8888888888888888, \"#fdca26\"], [1.0, \"#f0f921\"]], \"type\": \"contour\"}], \"contourcarpet\": [{\"colorbar\": {\"outlinewidth\": 0, \"ticks\": \"\"}, \"type\": \"contourcarpet\"}], \"heatmap\": [{\"colorbar\": {\"outlinewidth\": 0, \"ticks\": \"\"}, \"colorscale\": [[0.0, \"#0d0887\"], [0.1111111111111111, \"#46039f\"], [0.2222222222222222, \"#7201a8\"], [0.3333333333333333, \"#9c179e\"], [0.4444444444444444, \"#bd3786\"], [0.5555555555555556, \"#d8576b\"], [0.6666666666666666, \"#ed7953\"], [0.7777777777777778, \"#fb9f3a\"], [0.8888888888888888, \"#fdca26\"], [1.0, \"#f0f921\"]], \"type\": \"heatmap\"}], \"heatmapgl\": [{\"colorbar\": {\"outlinewidth\": 0, \"ticks\": \"\"}, \"colorscale\": [[0.0, \"#0d0887\"], [0.1111111111111111, \"#46039f\"], [0.2222222222222222, \"#7201a8\"], [0.3333333333333333, \"#9c179e\"], [0.4444444444444444, \"#bd3786\"], [0.5555555555555556, \"#d8576b\"], [0.6666666666666666, \"#ed7953\"], [0.7777777777777778, \"#fb9f3a\"], [0.8888888888888888, \"#fdca26\"], [1.0, \"#f0f921\"]], \"type\": \"heatmapgl\"}], \"histogram\": [{\"marker\": {\"colorbar\": {\"outlinewidth\": 0, \"ticks\": \"\"}}, \"type\": \"histogram\"}], \"histogram2d\": [{\"colorbar\": {\"outlinewidth\": 0, \"ticks\": \"\"}, \"colorscale\": [[0.0, \"#0d0887\"], [0.1111111111111111, \"#46039f\"], [0.2222222222222222, \"#7201a8\"], [0.3333333333333333, \"#9c179e\"], [0.4444444444444444, \"#bd3786\"], [0.5555555555555556, \"#d8576b\"], [0.6666666666666666, \"#ed7953\"], [0.7777777777777778, \"#fb9f3a\"], [0.8888888888888888, \"#fdca26\"], [1.0, \"#f0f921\"]], \"type\": \"histogram2d\"}], \"histogram2dcontour\": [{\"colorbar\": {\"outlinewidth\": 0, \"ticks\": \"\"}, \"colorscale\": [[0.0, \"#0d0887\"], [0.1111111111111111, \"#46039f\"], [0.2222222222222222, \"#7201a8\"], [0.3333333333333333, \"#9c179e\"], [0.4444444444444444, \"#bd3786\"], [0.5555555555555556, \"#d8576b\"], [0.6666666666666666, \"#ed7953\"], [0.7777777777777778, \"#fb9f3a\"], [0.8888888888888888, \"#fdca26\"], [1.0, \"#f0f921\"]], \"type\": \"histogram2dcontour\"}], \"mesh3d\": [{\"colorbar\": {\"outlinewidth\": 0, \"ticks\": \"\"}, \"type\": \"mesh3d\"}], \"parcoords\": [{\"line\": {\"colorbar\": {\"outlinewidth\": 0, \"ticks\": \"\"}}, \"type\": \"parcoords\"}], \"scatter\": [{\"marker\": {\"colorbar\": {\"outlinewidth\": 0, \"ticks\": \"\"}}, \"type\": \"scatter\"}], \"scatter3d\": [{\"line\": {\"colorbar\": {\"outlinewidth\": 0, \"ticks\": \"\"}}, \"marker\": {\"colorbar\": {\"outlinewidth\": 0, \"ticks\": \"\"}}, \"type\": \"scatter3d\"}], \"scattercarpet\": [{\"marker\": {\"colorbar\": {\"outlinewidth\": 0, \"ticks\": \"\"}}, \"type\": \"scattercarpet\"}], \"scattergeo\": [{\"marker\": {\"colorbar\": {\"outlinewidth\": 0, \"ticks\": \"\"}}, \"type\": \"scattergeo\"}], \"scattergl\": [{\"marker\": {\"colorbar\": {\"outlinewidth\": 0, \"ticks\": \"\"}}, \"type\": \"scattergl\"}], \"scattermapbox\": [{\"marker\": {\"colorbar\": {\"outlinewidth\": 0, \"ticks\": \"\"}}, \"type\": \"scattermapbox\"}], \"scatterpolar\": [{\"marker\": {\"colorbar\": {\"outlinewidth\": 0, \"ticks\": \"\"}}, \"type\": \"scatterpolar\"}], \"scatterpolargl\": [{\"marker\": {\"colorbar\": {\"outlinewidth\": 0, \"ticks\": \"\"}}, \"type\": \"scatterpolargl\"}], \"scatterternary\": [{\"marker\": {\"colorbar\": {\"outlinewidth\": 0, \"ticks\": \"\"}}, \"type\": \"scatterternary\"}], \"surface\": [{\"colorbar\": {\"outlinewidth\": 0, \"ticks\": \"\"}, \"colorscale\": [[0.0, \"#0d0887\"], [0.1111111111111111, \"#46039f\"], [0.2222222222222222, \"#7201a8\"], [0.3333333333333333, \"#9c179e\"], [0.4444444444444444, \"#bd3786\"], [0.5555555555555556, \"#d8576b\"], [0.6666666666666666, \"#ed7953\"], [0.7777777777777778, \"#fb9f3a\"], [0.8888888888888888, \"#fdca26\"], [1.0, \"#f0f921\"]], \"type\": \"surface\"}], \"table\": [{\"cells\": {\"fill\": {\"color\": \"#EBF0F8\"}, \"line\": {\"color\": \"white\"}}, \"header\": {\"fill\": {\"color\": \"#C8D4E3\"}, \"line\": {\"color\": \"white\"}}, \"type\": \"table\"}]}, \"layout\": {\"annotationdefaults\": {\"arrowcolor\": \"#2a3f5f\", \"arrowhead\": 0, \"arrowwidth\": 1}, \"colorscale\": {\"diverging\": [[0, \"#8e0152\"], [0.1, \"#c51b7d\"], [0.2, \"#de77ae\"], [0.3, \"#f1b6da\"], [0.4, \"#fde0ef\"], [0.5, \"#f7f7f7\"], [0.6, \"#e6f5d0\"], [0.7, \"#b8e186\"], [0.8, \"#7fbc41\"], [0.9, \"#4d9221\"], [1, \"#276419\"]], \"sequential\": [[0.0, \"#0d0887\"], [0.1111111111111111, \"#46039f\"], [0.2222222222222222, \"#7201a8\"], [0.3333333333333333, \"#9c179e\"], [0.4444444444444444, \"#bd3786\"], [0.5555555555555556, \"#d8576b\"], [0.6666666666666666, \"#ed7953\"], [0.7777777777777778, \"#fb9f3a\"], [0.8888888888888888, \"#fdca26\"], [1.0, \"#f0f921\"]], \"sequentialminus\": [[0.0, \"#0d0887\"], [0.1111111111111111, \"#46039f\"], [0.2222222222222222, \"#7201a8\"], [0.3333333333333333, \"#9c179e\"], [0.4444444444444444, \"#bd3786\"], [0.5555555555555556, \"#d8576b\"], [0.6666666666666666, \"#ed7953\"], [0.7777777777777778, \"#fb9f3a\"], [0.8888888888888888, \"#fdca26\"], [1.0, \"#f0f921\"]]}, \"colorway\": [\"#636efa\", \"#EF553B\", \"#00cc96\", \"#ab63fa\", \"#FFA15A\", \"#19d3f3\", \"#FF6692\", \"#B6E880\", \"#FF97FF\", \"#FECB52\"], \"font\": {\"color\": \"#2a3f5f\"}, \"geo\": {\"bgcolor\": \"white\", \"lakecolor\": \"white\", \"landcolor\": \"#E5ECF6\", \"showlakes\": true, \"showland\": true, \"subunitcolor\": \"white\"}, \"hoverlabel\": {\"align\": \"left\"}, \"hovermode\": \"closest\", \"mapbox\": {\"style\": \"light\"}, \"paper_bgcolor\": \"white\", \"plot_bgcolor\": \"#E5ECF6\", \"polar\": {\"angularaxis\": {\"gridcolor\": \"white\", \"linecolor\": \"white\", \"ticks\": \"\"}, \"bgcolor\": \"#E5ECF6\", \"radialaxis\": {\"gridcolor\": \"white\", \"linecolor\": \"white\", \"ticks\": \"\"}}, \"scene\": {\"xaxis\": {\"backgroundcolor\": \"#E5ECF6\", \"gridcolor\": \"white\", \"gridwidth\": 2, \"linecolor\": \"white\", \"showbackground\": true, \"ticks\": \"\", \"zerolinecolor\": \"white\"}, \"yaxis\": {\"backgroundcolor\": \"#E5ECF6\", \"gridcolor\": \"white\", \"gridwidth\": 2, \"linecolor\": \"white\", \"showbackground\": true, \"ticks\": \"\", \"zerolinecolor\": \"white\"}, \"zaxis\": {\"backgroundcolor\": \"#E5ECF6\", \"gridcolor\": \"white\", \"gridwidth\": 2, \"linecolor\": \"white\", \"showbackground\": true, \"ticks\": \"\", \"zerolinecolor\": \"white\"}}, \"shapedefaults\": {\"line\": {\"color\": \"#2a3f5f\"}}, \"ternary\": {\"aaxis\": {\"gridcolor\": \"white\", \"linecolor\": \"white\", \"ticks\": \"\"}, \"baxis\": {\"gridcolor\": \"white\", \"linecolor\": \"white\", \"ticks\": \"\"}, \"bgcolor\": \"#E5ECF6\", \"caxis\": {\"gridcolor\": \"white\", \"linecolor\": \"white\", \"ticks\": \"\"}}, \"title\": {\"x\": 0.05}, \"xaxis\": {\"automargin\": true, \"gridcolor\": \"white\", \"linecolor\": \"white\", \"ticks\": \"\", \"zerolinecolor\": \"white\", \"zerolinewidth\": 2}, \"yaxis\": {\"automargin\": true, \"gridcolor\": \"white\", \"linecolor\": \"white\", \"ticks\": \"\", \"zerolinecolor\": \"white\", \"zerolinewidth\": 2}}}, \"title\": {\"text\": \"All Times (try clicking names)\"}, \"xaxis\": {\"anchor\": \"y\", \"domain\": [0.0, 0.98], \"title\": {\"text\": \"day\"}}, \"yaxis\": {\"anchor\": \"x\", \"domain\": [0.0, 1.0], \"title\": {\"text\": \"time\"}}},\n",
       "                        {\"responsive\": true}\n",
       "                    ).then(function(){\n",
       "                            \n",
       "var gd = document.getElementById('97cef5d6-3b11-4772-9915-8844105146b8');\n",
       "var x = new MutationObserver(function (mutations, observer) {{\n",
       "        var display = window.getComputedStyle(gd).display;\n",
       "        if (!display || display === 'none') {{\n",
       "            console.log([gd, 'removed!']);\n",
       "            Plotly.purge(gd);\n",
       "            observer.disconnect();\n",
       "        }}\n",
       "}});\n",
       "\n",
       "// Listen for the removal of the full notebook cells\n",
       "var notebookContainer = gd.closest('#notebook-container');\n",
       "if (notebookContainer) {{\n",
       "    x.observe(notebookContainer, {childList: true});\n",
       "}}\n",
       "\n",
       "// Listen for the clearing of the current output cell\n",
       "var outputEl = gd.closest('.output');\n",
       "if (outputEl) {{\n",
       "    x.observe(outputEl, {childList: true});\n",
       "}}\n",
       "\n",
       "                        })\n",
       "                };\n",
       "                });\n",
       "            </script>\n",
       "        </div>"
      ]
     },
     "metadata": {},
     "output_type": "display_data"
    }
   ],
   "source": [
    "fig = px.scatter(df, x=\"day\", y=\"time\", color=\"author\")\n",
    "fig.update_layout(title=\"All Times (try clicking names)\")\n",
    "fig.show()"
   ]
  },
  {
   "cell_type": "markdown",
   "metadata": {},
   "source": [
    "### Question: How do we do as a group? "
   ]
  },
  {
   "cell_type": "code",
   "execution_count": 21,
   "metadata": {},
   "outputs": [
    {
     "data": {
      "application/vnd.plotly.v1+json": {
       "config": {
        "plotlyServerURL": "https://plot.ly"
       },
       "data": [
        {
         "alignmentgroup": "True",
         "box": {
          "visible": false
         },
         "hoverlabel": {
          "namelength": 0
         },
         "hovertemplate": "time=%{y}",
         "legendgroup": "",
         "marker": {
          "color": "#636efa"
         },
         "name": "",
         "offsetgroup": "",
         "orientation": "v",
         "scalegroup": "True",
         "showlegend": false,
         "type": "violin",
         "x0": " ",
         "xaxis": "x",
         "y": [
          14,
          21,
          114,
          42,
          93,
          130,
          52,
          48,
          43,
          127,
          76,
          27,
          36,
          64,
          35,
          74,
          37,
          68,
          84,
          48,
          48,
          81,
          77,
          163,
          39,
          64,
          28,
          45,
          45,
          37,
          46,
          49,
          134,
          100,
          73,
          65,
          88,
          98,
          92,
          45,
          80,
          94,
          78,
          37,
          168,
          42,
          354,
          96,
          68,
          252,
          35,
          552,
          50,
          49,
          45,
          32,
          25,
          90,
          38,
          33,
          53,
          54,
          92,
          264,
          108,
          114,
          98,
          25,
          105,
          40,
          88,
          98,
          102,
          74,
          57,
          68,
          214,
          209,
          60,
          214,
          78,
          87,
          213,
          239,
          204,
          79,
          56,
          167,
          137,
          316,
          123,
          26,
          138,
          171,
          107,
          62,
          126,
          46,
          39,
          97,
          92,
          48,
          337,
          28,
          74,
          39,
          446,
          52,
          148,
          42,
          44,
          55,
          79,
          52,
          43,
          28,
          88,
          54,
          155,
          318,
          478,
          54,
          46,
          44,
          41,
          201,
          263,
          28,
          78,
          47,
          34,
          112,
          127,
          45,
          56,
          92,
          93,
          135,
          189,
          95,
          63,
          95,
          250,
          31,
          21,
          335,
          89,
          56,
          43,
          143,
          29,
          65,
          99,
          38,
          41,
          43,
          32,
          53,
          48,
          48,
          71,
          61,
          28,
          53,
          190,
          88,
          41,
          23,
          62,
          112,
          102,
          81,
          31,
          38,
          73,
          42,
          97,
          245,
          79,
          60,
          146,
          47,
          163,
          39,
          168,
          123,
          81,
          117,
          25,
          26,
          45,
          35,
          67,
          71,
          152,
          142,
          45,
          38,
          33,
          56,
          52,
          100,
          29,
          54,
          86,
          176,
          271,
          37,
          29,
          34,
          139,
          118,
          154,
          219,
          93,
          385,
          97,
          188,
          133,
          38,
          62,
          63,
          110,
          32,
          26,
          28,
          27,
          27,
          30,
          18,
          36,
          43,
          24,
          78,
          29,
          106,
          46,
          64,
          24,
          80,
          44,
          117,
          30,
          81,
          23,
          27,
          54,
          41,
          35,
          29,
          33,
          29,
          30,
          31,
          45,
          66,
          24,
          83,
          44,
          31,
          77,
          32,
          45,
          93,
          42,
          111,
          411,
          511,
          436,
          58,
          108,
          127,
          316,
          301,
          146,
          35,
          74,
          105,
          74,
          68,
          47,
          63,
          195,
          38,
          110,
          131,
          167,
          70,
          121,
          93,
          138,
          134,
          75,
          195,
          163,
          61,
          54,
          525,
          192,
          82,
          114,
          46,
          37,
          134,
          328,
          78,
          143,
          41,
          76,
          44,
          152,
          31,
          86,
          41,
          217,
          71,
          125,
          53,
          48,
          98,
          83,
          98,
          39,
          38,
          33,
          33,
          32,
          127,
          31,
          97,
          57,
          324,
          178,
          72,
          89,
          55,
          36,
          36,
          23,
          52,
          57,
          57,
          40,
          371,
          186,
          77,
          133,
          33,
          128,
          61,
          43,
          61,
          108,
          94,
          104,
          51,
          51,
          47,
          24,
          114,
          78,
          40,
          22,
          65,
          33,
          62,
          56,
          229,
          63,
          82,
          65,
          91,
          59,
          44,
          27,
          127,
          109,
          51,
          66,
          65,
          82,
          83,
          57,
          55,
          111,
          42,
          49,
          35,
          55,
          97,
          244,
          177,
          212,
          47,
          57,
          145,
          83,
          53,
          120,
          59,
          42,
          81,
          34,
          48,
          23,
          55,
          66,
          98,
          90,
          34,
          57,
          74,
          55,
          25,
          42,
          47,
          61,
          63,
          39,
          37,
          155,
          70,
          81,
          68,
          34,
          108,
          85,
          47,
          86,
          88,
          31,
          77,
          107,
          64,
          36,
          46,
          34,
          66,
          187,
          26,
          136,
          32,
          50,
          88,
          42,
          96,
          44,
          161,
          46,
          125,
          50,
          91,
          96,
          54,
          249,
          70,
          47,
          84,
          103,
          32,
          49,
          102,
          61,
          180,
          77,
          36,
          44,
          45,
          50,
          17,
          33,
          50,
          81,
          76,
          32,
          40,
          361,
          211,
          69,
          31,
          103,
          107,
          94,
          81,
          86,
          190,
          355,
          346,
          53,
          121,
          237,
          331,
          156,
          147,
          309,
          251,
          171,
          102,
          120,
          224,
          88,
          510,
          126,
          63,
          38,
          63,
          123,
          127,
          60,
          49,
          96,
          150,
          110,
          16,
          465,
          90,
          109,
          128,
          96,
          185,
          94,
          109
         ],
         "y0": " ",
         "yaxis": "y"
        }
       ],
       "layout": {
        "autosize": true,
        "legend": {
         "tracegroupgap": 0
        },
        "margin": {
         "t": 60
        },
        "template": {
         "data": {
          "bar": [
           {
            "error_x": {
             "color": "#2a3f5f"
            },
            "error_y": {
             "color": "#2a3f5f"
            },
            "marker": {
             "line": {
              "color": "#E5ECF6",
              "width": 0.5
             }
            },
            "type": "bar"
           }
          ],
          "barpolar": [
           {
            "marker": {
             "line": {
              "color": "#E5ECF6",
              "width": 0.5
             }
            },
            "type": "barpolar"
           }
          ],
          "carpet": [
           {
            "aaxis": {
             "endlinecolor": "#2a3f5f",
             "gridcolor": "white",
             "linecolor": "white",
             "minorgridcolor": "white",
             "startlinecolor": "#2a3f5f"
            },
            "baxis": {
             "endlinecolor": "#2a3f5f",
             "gridcolor": "white",
             "linecolor": "white",
             "minorgridcolor": "white",
             "startlinecolor": "#2a3f5f"
            },
            "type": "carpet"
           }
          ],
          "choropleth": [
           {
            "colorbar": {
             "outlinewidth": 0,
             "ticks": ""
            },
            "type": "choropleth"
           }
          ],
          "contour": [
           {
            "colorbar": {
             "outlinewidth": 0,
             "ticks": ""
            },
            "colorscale": [
             [
              0,
              "#0d0887"
             ],
             [
              0.1111111111111111,
              "#46039f"
             ],
             [
              0.2222222222222222,
              "#7201a8"
             ],
             [
              0.3333333333333333,
              "#9c179e"
             ],
             [
              0.4444444444444444,
              "#bd3786"
             ],
             [
              0.5555555555555556,
              "#d8576b"
             ],
             [
              0.6666666666666666,
              "#ed7953"
             ],
             [
              0.7777777777777778,
              "#fb9f3a"
             ],
             [
              0.8888888888888888,
              "#fdca26"
             ],
             [
              1,
              "#f0f921"
             ]
            ],
            "type": "contour"
           }
          ],
          "contourcarpet": [
           {
            "colorbar": {
             "outlinewidth": 0,
             "ticks": ""
            },
            "type": "contourcarpet"
           }
          ],
          "heatmap": [
           {
            "colorbar": {
             "outlinewidth": 0,
             "ticks": ""
            },
            "colorscale": [
             [
              0,
              "#0d0887"
             ],
             [
              0.1111111111111111,
              "#46039f"
             ],
             [
              0.2222222222222222,
              "#7201a8"
             ],
             [
              0.3333333333333333,
              "#9c179e"
             ],
             [
              0.4444444444444444,
              "#bd3786"
             ],
             [
              0.5555555555555556,
              "#d8576b"
             ],
             [
              0.6666666666666666,
              "#ed7953"
             ],
             [
              0.7777777777777778,
              "#fb9f3a"
             ],
             [
              0.8888888888888888,
              "#fdca26"
             ],
             [
              1,
              "#f0f921"
             ]
            ],
            "type": "heatmap"
           }
          ],
          "heatmapgl": [
           {
            "colorbar": {
             "outlinewidth": 0,
             "ticks": ""
            },
            "colorscale": [
             [
              0,
              "#0d0887"
             ],
             [
              0.1111111111111111,
              "#46039f"
             ],
             [
              0.2222222222222222,
              "#7201a8"
             ],
             [
              0.3333333333333333,
              "#9c179e"
             ],
             [
              0.4444444444444444,
              "#bd3786"
             ],
             [
              0.5555555555555556,
              "#d8576b"
             ],
             [
              0.6666666666666666,
              "#ed7953"
             ],
             [
              0.7777777777777778,
              "#fb9f3a"
             ],
             [
              0.8888888888888888,
              "#fdca26"
             ],
             [
              1,
              "#f0f921"
             ]
            ],
            "type": "heatmapgl"
           }
          ],
          "histogram": [
           {
            "marker": {
             "colorbar": {
              "outlinewidth": 0,
              "ticks": ""
             }
            },
            "type": "histogram"
           }
          ],
          "histogram2d": [
           {
            "colorbar": {
             "outlinewidth": 0,
             "ticks": ""
            },
            "colorscale": [
             [
              0,
              "#0d0887"
             ],
             [
              0.1111111111111111,
              "#46039f"
             ],
             [
              0.2222222222222222,
              "#7201a8"
             ],
             [
              0.3333333333333333,
              "#9c179e"
             ],
             [
              0.4444444444444444,
              "#bd3786"
             ],
             [
              0.5555555555555556,
              "#d8576b"
             ],
             [
              0.6666666666666666,
              "#ed7953"
             ],
             [
              0.7777777777777778,
              "#fb9f3a"
             ],
             [
              0.8888888888888888,
              "#fdca26"
             ],
             [
              1,
              "#f0f921"
             ]
            ],
            "type": "histogram2d"
           }
          ],
          "histogram2dcontour": [
           {
            "colorbar": {
             "outlinewidth": 0,
             "ticks": ""
            },
            "colorscale": [
             [
              0,
              "#0d0887"
             ],
             [
              0.1111111111111111,
              "#46039f"
             ],
             [
              0.2222222222222222,
              "#7201a8"
             ],
             [
              0.3333333333333333,
              "#9c179e"
             ],
             [
              0.4444444444444444,
              "#bd3786"
             ],
             [
              0.5555555555555556,
              "#d8576b"
             ],
             [
              0.6666666666666666,
              "#ed7953"
             ],
             [
              0.7777777777777778,
              "#fb9f3a"
             ],
             [
              0.8888888888888888,
              "#fdca26"
             ],
             [
              1,
              "#f0f921"
             ]
            ],
            "type": "histogram2dcontour"
           }
          ],
          "mesh3d": [
           {
            "colorbar": {
             "outlinewidth": 0,
             "ticks": ""
            },
            "type": "mesh3d"
           }
          ],
          "parcoords": [
           {
            "line": {
             "colorbar": {
              "outlinewidth": 0,
              "ticks": ""
             }
            },
            "type": "parcoords"
           }
          ],
          "scatter": [
           {
            "marker": {
             "colorbar": {
              "outlinewidth": 0,
              "ticks": ""
             }
            },
            "type": "scatter"
           }
          ],
          "scatter3d": [
           {
            "line": {
             "colorbar": {
              "outlinewidth": 0,
              "ticks": ""
             }
            },
            "marker": {
             "colorbar": {
              "outlinewidth": 0,
              "ticks": ""
             }
            },
            "type": "scatter3d"
           }
          ],
          "scattercarpet": [
           {
            "marker": {
             "colorbar": {
              "outlinewidth": 0,
              "ticks": ""
             }
            },
            "type": "scattercarpet"
           }
          ],
          "scattergeo": [
           {
            "marker": {
             "colorbar": {
              "outlinewidth": 0,
              "ticks": ""
             }
            },
            "type": "scattergeo"
           }
          ],
          "scattergl": [
           {
            "marker": {
             "colorbar": {
              "outlinewidth": 0,
              "ticks": ""
             }
            },
            "type": "scattergl"
           }
          ],
          "scattermapbox": [
           {
            "marker": {
             "colorbar": {
              "outlinewidth": 0,
              "ticks": ""
             }
            },
            "type": "scattermapbox"
           }
          ],
          "scatterpolar": [
           {
            "marker": {
             "colorbar": {
              "outlinewidth": 0,
              "ticks": ""
             }
            },
            "type": "scatterpolar"
           }
          ],
          "scatterpolargl": [
           {
            "marker": {
             "colorbar": {
              "outlinewidth": 0,
              "ticks": ""
             }
            },
            "type": "scatterpolargl"
           }
          ],
          "scatterternary": [
           {
            "marker": {
             "colorbar": {
              "outlinewidth": 0,
              "ticks": ""
             }
            },
            "type": "scatterternary"
           }
          ],
          "surface": [
           {
            "colorbar": {
             "outlinewidth": 0,
             "ticks": ""
            },
            "colorscale": [
             [
              0,
              "#0d0887"
             ],
             [
              0.1111111111111111,
              "#46039f"
             ],
             [
              0.2222222222222222,
              "#7201a8"
             ],
             [
              0.3333333333333333,
              "#9c179e"
             ],
             [
              0.4444444444444444,
              "#bd3786"
             ],
             [
              0.5555555555555556,
              "#d8576b"
             ],
             [
              0.6666666666666666,
              "#ed7953"
             ],
             [
              0.7777777777777778,
              "#fb9f3a"
             ],
             [
              0.8888888888888888,
              "#fdca26"
             ],
             [
              1,
              "#f0f921"
             ]
            ],
            "type": "surface"
           }
          ],
          "table": [
           {
            "cells": {
             "fill": {
              "color": "#EBF0F8"
             },
             "line": {
              "color": "white"
             }
            },
            "header": {
             "fill": {
              "color": "#C8D4E3"
             },
             "line": {
              "color": "white"
             }
            },
            "type": "table"
           }
          ]
         },
         "layout": {
          "annotationdefaults": {
           "arrowcolor": "#2a3f5f",
           "arrowhead": 0,
           "arrowwidth": 1
          },
          "colorscale": {
           "diverging": [
            [
             0,
             "#8e0152"
            ],
            [
             0.1,
             "#c51b7d"
            ],
            [
             0.2,
             "#de77ae"
            ],
            [
             0.3,
             "#f1b6da"
            ],
            [
             0.4,
             "#fde0ef"
            ],
            [
             0.5,
             "#f7f7f7"
            ],
            [
             0.6,
             "#e6f5d0"
            ],
            [
             0.7,
             "#b8e186"
            ],
            [
             0.8,
             "#7fbc41"
            ],
            [
             0.9,
             "#4d9221"
            ],
            [
             1,
             "#276419"
            ]
           ],
           "sequential": [
            [
             0,
             "#0d0887"
            ],
            [
             0.1111111111111111,
             "#46039f"
            ],
            [
             0.2222222222222222,
             "#7201a8"
            ],
            [
             0.3333333333333333,
             "#9c179e"
            ],
            [
             0.4444444444444444,
             "#bd3786"
            ],
            [
             0.5555555555555556,
             "#d8576b"
            ],
            [
             0.6666666666666666,
             "#ed7953"
            ],
            [
             0.7777777777777778,
             "#fb9f3a"
            ],
            [
             0.8888888888888888,
             "#fdca26"
            ],
            [
             1,
             "#f0f921"
            ]
           ],
           "sequentialminus": [
            [
             0,
             "#0d0887"
            ],
            [
             0.1111111111111111,
             "#46039f"
            ],
            [
             0.2222222222222222,
             "#7201a8"
            ],
            [
             0.3333333333333333,
             "#9c179e"
            ],
            [
             0.4444444444444444,
             "#bd3786"
            ],
            [
             0.5555555555555556,
             "#d8576b"
            ],
            [
             0.6666666666666666,
             "#ed7953"
            ],
            [
             0.7777777777777778,
             "#fb9f3a"
            ],
            [
             0.8888888888888888,
             "#fdca26"
            ],
            [
             1,
             "#f0f921"
            ]
           ]
          },
          "colorway": [
           "#636efa",
           "#EF553B",
           "#00cc96",
           "#ab63fa",
           "#FFA15A",
           "#19d3f3",
           "#FF6692",
           "#B6E880",
           "#FF97FF",
           "#FECB52"
          ],
          "font": {
           "color": "#2a3f5f"
          },
          "geo": {
           "bgcolor": "white",
           "lakecolor": "white",
           "landcolor": "#E5ECF6",
           "showlakes": true,
           "showland": true,
           "subunitcolor": "white"
          },
          "hoverlabel": {
           "align": "left"
          },
          "hovermode": "closest",
          "mapbox": {
           "style": "light"
          },
          "paper_bgcolor": "white",
          "plot_bgcolor": "#E5ECF6",
          "polar": {
           "angularaxis": {
            "gridcolor": "white",
            "linecolor": "white",
            "ticks": ""
           },
           "bgcolor": "#E5ECF6",
           "radialaxis": {
            "gridcolor": "white",
            "linecolor": "white",
            "ticks": ""
           }
          },
          "scene": {
           "xaxis": {
            "backgroundcolor": "#E5ECF6",
            "gridcolor": "white",
            "gridwidth": 2,
            "linecolor": "white",
            "showbackground": true,
            "ticks": "",
            "zerolinecolor": "white"
           },
           "yaxis": {
            "backgroundcolor": "#E5ECF6",
            "gridcolor": "white",
            "gridwidth": 2,
            "linecolor": "white",
            "showbackground": true,
            "ticks": "",
            "zerolinecolor": "white"
           },
           "zaxis": {
            "backgroundcolor": "#E5ECF6",
            "gridcolor": "white",
            "gridwidth": 2,
            "linecolor": "white",
            "showbackground": true,
            "ticks": "",
            "zerolinecolor": "white"
           }
          },
          "shapedefaults": {
           "line": {
            "color": "#2a3f5f"
           }
          },
          "ternary": {
           "aaxis": {
            "gridcolor": "white",
            "linecolor": "white",
            "ticks": ""
           },
           "baxis": {
            "gridcolor": "white",
            "linecolor": "white",
            "ticks": ""
           },
           "bgcolor": "#E5ECF6",
           "caxis": {
            "gridcolor": "white",
            "linecolor": "white",
            "ticks": ""
           }
          },
          "title": {
           "x": 0.05
          },
          "xaxis": {
           "automargin": true,
           "gridcolor": "white",
           "linecolor": "white",
           "ticks": "",
           "zerolinecolor": "white",
           "zerolinewidth": 2
          },
          "yaxis": {
           "automargin": true,
           "gridcolor": "white",
           "linecolor": "white",
           "ticks": "",
           "zerolinecolor": "white",
           "zerolinewidth": 2
          }
         }
        },
        "violinmode": "group",
        "xaxis": {
         "anchor": "y",
         "autorange": true,
         "domain": [
          0,
          0.98
         ],
         "range": [
          -0.5,
          0.5
         ],
         "type": "category"
        },
        "yaxis": {
         "anchor": "x",
         "autorange": true,
         "domain": [
          0,
          1
         ],
         "range": [
          -48.82568349902871,
          614.8256834990287
         ],
         "title": {
          "text": "time"
         },
         "type": "linear"
        }
       }
      },
      "image/png": "[encoded data removed]",
      "text/html": [
       "<div>\n",
       "        \n",
       "        \n",
       "            <div id=\"3718ec4e-e3d5-4bd9-8628-1f662b2086a0\" class=\"plotly-graph-div\" style=\"height:600px; width:100%;\"></div>\n",
       "            <script type=\"text/javascript\">\n",
       "                require([\"plotly\"], function(Plotly) {\n",
       "                    window.PLOTLYENV=window.PLOTLYENV || {};\n",
       "                    \n",
       "                if (document.getElementById(\"3718ec4e-e3d5-4bd9-8628-1f662b2086a0\")) {\n",
       "                    Plotly.newPlot(\n",
       "                        '3718ec4e-e3d5-4bd9-8628-1f662b2086a0',\n",
       "                        [{\"alignmentgroup\": \"True\", \"box\": {\"visible\": false}, \"hoverlabel\": {\"namelength\": 0}, \"hovertemplate\": \"time=%{y}\", \"legendgroup\": \"\", \"marker\": {\"color\": \"#636efa\"}, \"name\": \"\", \"offsetgroup\": \"\", \"orientation\": \"v\", \"scalegroup\": \"True\", \"showlegend\": false, \"type\": \"violin\", \"x0\": \" \", \"xaxis\": \"x\", \"y\": [14, 21, 114, 42, 93, 130, 52, 48, 43, 127, 76, 27, 36, 64, 35, 74, 37, 68, 84, 48, 48, 81, 77, 163, 39, 64, 28, 45, 45, 37, 46, 49, 134, 100, 73, 65, 88, 98, 92, 45, 80, 94, 78, 37, 168, 42, 354, 96, 68, 252, 35, 552, 50, 49, 45, 32, 25, 90, 38, 33, 53, 54, 92, 264, 108, 114, 98, 25, 105, 40, 88, 98, 102, 74, 57, 68, 214, 209, 60, 214, 78, 87, 213, 239, 204, 79, 56, 167, 137, 316, 123, 26, 138, 171, 107, 62, 126, 46, 39, 97, 92, 48, 337, 28, 74, 39, 446, 52, 148, 42, 44, 55, 79, 52, 43, 28, 88, 54, 155, 318, 478, 54, 46, 44, 41, 201, 263, 28, 78, 47, 34, 112, 127, 45, 56, 92, 93, 135, 189, 95, 63, 95, 250, 31, 21, 335, 89, 56, 43, 143, 29, 65, 99, 38, 41, 43, 32, 53, 48, 48, 71, 61, 28, 53, 190, 88, 41, 23, 62, 112, 102, 81, 31, 38, 73, 42, 97, 245, 79, 60, 146, 47, 163, 39, 168, 123, 81, 117, 25, 26, 45, 35, 67, 71, 152, 142, 45, 38, 33, 56, 52, 100, 29, 54, 86, 176, 271, 37, 29, 34, 139, 118, 154, 219, 93, 385, 97, 188, 133, 38, 62, 63, 110, 32, 26, 28, 27, 27, 30, 18, 36, 43, 24, 78, 29, 106, 46, 64, 24, 80, 44, 117, 30, 81, 23, 27, 54, 41, 35, 29, 33, 29, 30, 31, 45, 66, 24, 83, 44, 31, 77, 32, 45, 93, 42, 111, 411, 511, 436, 58, 108, 127, 316, 301, 146, 35, 74, 105, 74, 68, 47, 63, 195, 38, 110, 131, 167, 70, 121, 93, 138, 134, 75, 195, 163, 61, 54, 525, 192, 82, 114, 46, 37, 134, 328, 78, 143, 41, 76, 44, 152, 31, 86, 41, 217, 71, 125, 53, 48, 98, 83, 98, 39, 38, 33, 33, 32, 127, 31, 97, 57, 324, 178, 72, 89, 55, 36, 36, 23, 52, 57, 57, 40, 371, 186, 77, 133, 33, 128, 61, 43, 61, 108, 94, 104, 51, 51, 47, 24, 114, 78, 40, 22, 65, 33, 62, 56, 229, 63, 82, 65, 91, 59, 44, 27, 127, 109, 51, 66, 65, 82, 83, 57, 55, 111, 42, 49, 35, 55, 97, 244, 177, 212, 47, 57, 145, 83, 53, 120, 59, 42, 81, 34, 48, 23, 55, 66, 98, 90, 34, 57, 74, 55, 25, 42, 47, 61, 63, 39, 37, 155, 70, 81, 68, 34, 108, 85, 47, 86, 88, 31, 77, 107, 64, 36, 46, 34, 66, 187, 26, 136, 32, 50, 88, 42, 96, 44, 161, 46, 125, 50, 91, 96, 54, 249, 70, 47, 84, 103, 32, 49, 102, 61, 180, 77, 36, 44, 45, 50, 17, 33, 50, 81, 76, 32, 40, 361, 211, 69, 31, 103, 107, 94, 81, 86, 190, 355, 346, 53, 121, 237, 331, 156, 147, 309, 251, 171, 102, 120, 224, 88, 510, 126, 63, 38, 63, 123, 127, 60, 49, 96, 150, 110, 16, 465, 90, 109, 128, 96, 185, 94, 109], \"y0\": \" \", \"yaxis\": \"y\"}],\n",
       "                        {\"height\": 600, \"legend\": {\"tracegroupgap\": 0}, \"margin\": {\"t\": 60}, \"template\": {\"data\": {\"bar\": [{\"error_x\": {\"color\": \"#2a3f5f\"}, \"error_y\": {\"color\": \"#2a3f5f\"}, \"marker\": {\"line\": {\"color\": \"#E5ECF6\", \"width\": 0.5}}, \"type\": \"bar\"}], \"barpolar\": [{\"marker\": {\"line\": {\"color\": \"#E5ECF6\", \"width\": 0.5}}, \"type\": \"barpolar\"}], \"carpet\": [{\"aaxis\": {\"endlinecolor\": \"#2a3f5f\", \"gridcolor\": \"white\", \"linecolor\": \"white\", \"minorgridcolor\": \"white\", \"startlinecolor\": \"#2a3f5f\"}, \"baxis\": {\"endlinecolor\": \"#2a3f5f\", \"gridcolor\": \"white\", \"linecolor\": \"white\", \"minorgridcolor\": \"white\", \"startlinecolor\": \"#2a3f5f\"}, \"type\": \"carpet\"}], \"choropleth\": [{\"colorbar\": {\"outlinewidth\": 0, \"ticks\": \"\"}, \"type\": \"choropleth\"}], \"contour\": [{\"colorbar\": {\"outlinewidth\": 0, \"ticks\": \"\"}, \"colorscale\": [[0.0, \"#0d0887\"], [0.1111111111111111, \"#46039f\"], [0.2222222222222222, \"#7201a8\"], [0.3333333333333333, \"#9c179e\"], [0.4444444444444444, \"#bd3786\"], [0.5555555555555556, \"#d8576b\"], [0.6666666666666666, \"#ed7953\"], [0.7777777777777778, \"#fb9f3a\"], [0.8888888888888888, \"#fdca26\"], [1.0, \"#f0f921\"]], \"type\": \"contour\"}], \"contourcarpet\": [{\"colorbar\": {\"outlinewidth\": 0, \"ticks\": \"\"}, \"type\": \"contourcarpet\"}], \"heatmap\": [{\"colorbar\": {\"outlinewidth\": 0, \"ticks\": \"\"}, \"colorscale\": [[0.0, \"#0d0887\"], [0.1111111111111111, \"#46039f\"], [0.2222222222222222, \"#7201a8\"], [0.3333333333333333, \"#9c179e\"], [0.4444444444444444, \"#bd3786\"], [0.5555555555555556, \"#d8576b\"], [0.6666666666666666, \"#ed7953\"], [0.7777777777777778, \"#fb9f3a\"], [0.8888888888888888, \"#fdca26\"], [1.0, \"#f0f921\"]], \"type\": \"heatmap\"}], \"heatmapgl\": [{\"colorbar\": {\"outlinewidth\": 0, \"ticks\": \"\"}, \"colorscale\": [[0.0, \"#0d0887\"], [0.1111111111111111, \"#46039f\"], [0.2222222222222222, \"#7201a8\"], [0.3333333333333333, \"#9c179e\"], [0.4444444444444444, \"#bd3786\"], [0.5555555555555556, \"#d8576b\"], [0.6666666666666666, \"#ed7953\"], [0.7777777777777778, \"#fb9f3a\"], [0.8888888888888888, \"#fdca26\"], [1.0, \"#f0f921\"]], \"type\": \"heatmapgl\"}], \"histogram\": [{\"marker\": {\"colorbar\": {\"outlinewidth\": 0, \"ticks\": \"\"}}, \"type\": \"histogram\"}], \"histogram2d\": [{\"colorbar\": {\"outlinewidth\": 0, \"ticks\": \"\"}, \"colorscale\": [[0.0, \"#0d0887\"], [0.1111111111111111, \"#46039f\"], [0.2222222222222222, \"#7201a8\"], [0.3333333333333333, \"#9c179e\"], [0.4444444444444444, \"#bd3786\"], [0.5555555555555556, \"#d8576b\"], [0.6666666666666666, \"#ed7953\"], [0.7777777777777778, \"#fb9f3a\"], [0.8888888888888888, \"#fdca26\"], [1.0, \"#f0f921\"]], \"type\": \"histogram2d\"}], \"histogram2dcontour\": [{\"colorbar\": {\"outlinewidth\": 0, \"ticks\": \"\"}, \"colorscale\": [[0.0, \"#0d0887\"], [0.1111111111111111, \"#46039f\"], [0.2222222222222222, \"#7201a8\"], [0.3333333333333333, \"#9c179e\"], [0.4444444444444444, \"#bd3786\"], [0.5555555555555556, \"#d8576b\"], [0.6666666666666666, \"#ed7953\"], [0.7777777777777778, \"#fb9f3a\"], [0.8888888888888888, \"#fdca26\"], [1.0, \"#f0f921\"]], \"type\": \"histogram2dcontour\"}], \"mesh3d\": [{\"colorbar\": {\"outlinewidth\": 0, \"ticks\": \"\"}, \"type\": \"mesh3d\"}], \"parcoords\": [{\"line\": {\"colorbar\": {\"outlinewidth\": 0, \"ticks\": \"\"}}, \"type\": \"parcoords\"}], \"scatter\": [{\"marker\": {\"colorbar\": {\"outlinewidth\": 0, \"ticks\": \"\"}}, \"type\": \"scatter\"}], \"scatter3d\": [{\"line\": {\"colorbar\": {\"outlinewidth\": 0, \"ticks\": \"\"}}, \"marker\": {\"colorbar\": {\"outlinewidth\": 0, \"ticks\": \"\"}}, \"type\": \"scatter3d\"}], \"scattercarpet\": [{\"marker\": {\"colorbar\": {\"outlinewidth\": 0, \"ticks\": \"\"}}, \"type\": \"scattercarpet\"}], \"scattergeo\": [{\"marker\": {\"colorbar\": {\"outlinewidth\": 0, \"ticks\": \"\"}}, \"type\": \"scattergeo\"}], \"scattergl\": [{\"marker\": {\"colorbar\": {\"outlinewidth\": 0, \"ticks\": \"\"}}, \"type\": \"scattergl\"}], \"scattermapbox\": [{\"marker\": {\"colorbar\": {\"outlinewidth\": 0, \"ticks\": \"\"}}, \"type\": \"scattermapbox\"}], \"scatterpolar\": [{\"marker\": {\"colorbar\": {\"outlinewidth\": 0, \"ticks\": \"\"}}, \"type\": \"scatterpolar\"}], \"scatterpolargl\": [{\"marker\": {\"colorbar\": {\"outlinewidth\": 0, \"ticks\": \"\"}}, \"type\": \"scatterpolargl\"}], \"scatterternary\": [{\"marker\": {\"colorbar\": {\"outlinewidth\": 0, \"ticks\": \"\"}}, \"type\": \"scatterternary\"}], \"surface\": [{\"colorbar\": {\"outlinewidth\": 0, \"ticks\": \"\"}, \"colorscale\": [[0.0, \"#0d0887\"], [0.1111111111111111, \"#46039f\"], [0.2222222222222222, \"#7201a8\"], [0.3333333333333333, \"#9c179e\"], [0.4444444444444444, \"#bd3786\"], [0.5555555555555556, \"#d8576b\"], [0.6666666666666666, \"#ed7953\"], [0.7777777777777778, \"#fb9f3a\"], [0.8888888888888888, \"#fdca26\"], [1.0, \"#f0f921\"]], \"type\": \"surface\"}], \"table\": [{\"cells\": {\"fill\": {\"color\": \"#EBF0F8\"}, \"line\": {\"color\": \"white\"}}, \"header\": {\"fill\": {\"color\": \"#C8D4E3\"}, \"line\": {\"color\": \"white\"}}, \"type\": \"table\"}]}, \"layout\": {\"annotationdefaults\": {\"arrowcolor\": \"#2a3f5f\", \"arrowhead\": 0, \"arrowwidth\": 1}, \"colorscale\": {\"diverging\": [[0, \"#8e0152\"], [0.1, \"#c51b7d\"], [0.2, \"#de77ae\"], [0.3, \"#f1b6da\"], [0.4, \"#fde0ef\"], [0.5, \"#f7f7f7\"], [0.6, \"#e6f5d0\"], [0.7, \"#b8e186\"], [0.8, \"#7fbc41\"], [0.9, \"#4d9221\"], [1, \"#276419\"]], \"sequential\": [[0.0, \"#0d0887\"], [0.1111111111111111, \"#46039f\"], [0.2222222222222222, \"#7201a8\"], [0.3333333333333333, \"#9c179e\"], [0.4444444444444444, \"#bd3786\"], [0.5555555555555556, \"#d8576b\"], [0.6666666666666666, \"#ed7953\"], [0.7777777777777778, \"#fb9f3a\"], [0.8888888888888888, \"#fdca26\"], [1.0, \"#f0f921\"]], \"sequentialminus\": [[0.0, \"#0d0887\"], [0.1111111111111111, \"#46039f\"], [0.2222222222222222, \"#7201a8\"], [0.3333333333333333, \"#9c179e\"], [0.4444444444444444, \"#bd3786\"], [0.5555555555555556, \"#d8576b\"], [0.6666666666666666, \"#ed7953\"], [0.7777777777777778, \"#fb9f3a\"], [0.8888888888888888, \"#fdca26\"], [1.0, \"#f0f921\"]]}, \"colorway\": [\"#636efa\", \"#EF553B\", \"#00cc96\", \"#ab63fa\", \"#FFA15A\", \"#19d3f3\", \"#FF6692\", \"#B6E880\", \"#FF97FF\", \"#FECB52\"], \"font\": {\"color\": \"#2a3f5f\"}, \"geo\": {\"bgcolor\": \"white\", \"lakecolor\": \"white\", \"landcolor\": \"#E5ECF6\", \"showlakes\": true, \"showland\": true, \"subunitcolor\": \"white\"}, \"hoverlabel\": {\"align\": \"left\"}, \"hovermode\": \"closest\", \"mapbox\": {\"style\": \"light\"}, \"paper_bgcolor\": \"white\", \"plot_bgcolor\": \"#E5ECF6\", \"polar\": {\"angularaxis\": {\"gridcolor\": \"white\", \"linecolor\": \"white\", \"ticks\": \"\"}, \"bgcolor\": \"#E5ECF6\", \"radialaxis\": {\"gridcolor\": \"white\", \"linecolor\": \"white\", \"ticks\": \"\"}}, \"scene\": {\"xaxis\": {\"backgroundcolor\": \"#E5ECF6\", \"gridcolor\": \"white\", \"gridwidth\": 2, \"linecolor\": \"white\", \"showbackground\": true, \"ticks\": \"\", \"zerolinecolor\": \"white\"}, \"yaxis\": {\"backgroundcolor\": \"#E5ECF6\", \"gridcolor\": \"white\", \"gridwidth\": 2, \"linecolor\": \"white\", \"showbackground\": true, \"ticks\": \"\", \"zerolinecolor\": \"white\"}, \"zaxis\": {\"backgroundcolor\": \"#E5ECF6\", \"gridcolor\": \"white\", \"gridwidth\": 2, \"linecolor\": \"white\", \"showbackground\": true, \"ticks\": \"\", \"zerolinecolor\": \"white\"}}, \"shapedefaults\": {\"line\": {\"color\": \"#2a3f5f\"}}, \"ternary\": {\"aaxis\": {\"gridcolor\": \"white\", \"linecolor\": \"white\", \"ticks\": \"\"}, \"baxis\": {\"gridcolor\": \"white\", \"linecolor\": \"white\", \"ticks\": \"\"}, \"bgcolor\": \"#E5ECF6\", \"caxis\": {\"gridcolor\": \"white\", \"linecolor\": \"white\", \"ticks\": \"\"}}, \"title\": {\"x\": 0.05}, \"xaxis\": {\"automargin\": true, \"gridcolor\": \"white\", \"linecolor\": \"white\", \"ticks\": \"\", \"zerolinecolor\": \"white\", \"zerolinewidth\": 2}, \"yaxis\": {\"automargin\": true, \"gridcolor\": \"white\", \"linecolor\": \"white\", \"ticks\": \"\", \"zerolinecolor\": \"white\", \"zerolinewidth\": 2}}}, \"violinmode\": \"group\", \"xaxis\": {\"anchor\": \"y\", \"domain\": [0.0, 0.98]}, \"yaxis\": {\"anchor\": \"x\", \"domain\": [0.0, 1.0], \"title\": {\"text\": \"time\"}}},\n",
       "                        {\"responsive\": true}\n",
       "                    ).then(function(){\n",
       "                            \n",
       "var gd = document.getElementById('3718ec4e-e3d5-4bd9-8628-1f662b2086a0');\n",
       "var x = new MutationObserver(function (mutations, observer) {{\n",
       "        var display = window.getComputedStyle(gd).display;\n",
       "        if (!display || display === 'none') {{\n",
       "            console.log([gd, 'removed!']);\n",
       "            Plotly.purge(gd);\n",
       "            observer.disconnect();\n",
       "        }}\n",
       "}});\n",
       "\n",
       "// Listen for the removal of the full notebook cells\n",
       "var notebookContainer = gd.closest('#notebook-container');\n",
       "if (notebookContainer) {{\n",
       "    x.observe(notebookContainer, {childList: true});\n",
       "}}\n",
       "\n",
       "// Listen for the clearing of the current output cell\n",
       "var outputEl = gd.closest('.output');\n",
       "if (outputEl) {{\n",
       "    x.observe(outputEl, {childList: true});\n",
       "}}\n",
       "\n",
       "                        })\n",
       "                };\n",
       "                });\n",
       "            </script>\n",
       "        </div>"
      ]
     },
     "metadata": {},
     "output_type": "display_data"
    }
   ],
   "source": [
    "fig = px.violin(df, y='time')\n",
    "fig.show()"
   ]
  },
  {
   "cell_type": "markdown",
   "metadata": {},
   "source": [
    "### Question: How do we do individually?"
   ]
  },
  {
   "cell_type": "code",
   "execution_count": 23,
   "metadata": {},
   "outputs": [
    {
     "data": {
      "application/vnd.plotly.v1+json": {
       "config": {
        "plotlyServerURL": "https://plot.ly"
       },
       "data": [
        {
         "alignmentgroup": "True",
         "box": {
          "visible": false
         },
         "hoverlabel": {
          "namelength": 0
         },
         "hovertemplate": "author=%{x}<br>time=%{y}",
         "legendgroup": "",
         "marker": {
          "color": "#636efa"
         },
         "name": "",
         "offsetgroup": "",
         "orientation": "v",
         "scalegroup": "True",
         "showlegend": false,
         "type": "violin",
         "x": [
          "Ankit Pancakes",
          "Paige Rossi",
          "Jenna Dambek",
          "Kedar Vaidya",
          "Seungyeon Shin",
          "Vasudha Kashyap",
          "Ben Alderfer",
          "Max Lin",
          "Usmann Khan",
          "Kedar Vaidya",
          "Vasudha Kashyap",
          "Nicky Semenza",
          "Elliott Williams",
          "Edwin Stanley",
          "Ankit Pancakes",
          "Usmann Khan",
          "Jenna Dambek",
          "Paige Rossi",
          "Seungyeon Shin",
          "Nicky Semenza",
          "Ankit Pancakes",
          "Ian Zanger",
          "Peter Kfoury",
          "Max Lin",
          "Paige Rossi",
          "Jessica Jiang",
          "Usmann Khan",
          "Vasudha Kashyap",
          "Kedar Vaidya",
          "Usmann Khan",
          "Ankit Pancakes",
          "Paige Rossi",
          "Ankit Pancakes",
          "Ben Alderfer",
          "Ian Zanger",
          "Usmann Khan",
          "Ian Zanger",
          "Vasudha Kashyap",
          "Ben Alderfer",
          "Paige Rossi",
          "Ankit Pancakes",
          "Jessica Jiang",
          "Max Lin",
          "Usmann Khan",
          "Vasudha Kashyap",
          "Paige Rossi",
          "Max Lin",
          "Jenna Dambek",
          "Ben Alderfer",
          "Ankit Pancakes",
          "Usmann Khan",
          "Ian Zanger",
          "Ankit Pancakes",
          "Ben Alderfer",
          "Jessica Jiang",
          "Paige Rossi",
          "Nicky Semenza",
          "Seungyeon Shin",
          "Vasudha Kashyap",
          "Usmann Khan",
          "Ian Zanger",
          "Max Lin",
          "Ian Zanger",
          "Nicky Semenza",
          "Ankit Pancakes",
          "Usmann Khan",
          "Vasudha Kashyap",
          "Paige Rossi",
          "Vasudha Kashyap",
          "Usmann Khan",
          "Ian Zanger",
          "Kedar Vaidya",
          "Max Lin",
          "Ankit Pancakes",
          "Ian Zanger",
          "Kedar Vaidya",
          "Max Lin",
          "Jessica Jiang",
          "Nicky Semenza",
          "Vasudha Kashyap",
          "Ankit Pancakes",
          "Ian Zanger",
          "Peter Kfoury",
          "Max Lin",
          "Kedar Vaidya",
          "Ankit Pancakes",
          "Paige Rossi",
          "Jessica Jiang",
          "Usmann Khan",
          "Vasudha Kashyap",
          "Ian Zanger",
          "Paige Rossi",
          "Seungyeon Shin",
          "Max Lin",
          "Kedar Vaidya",
          "Shreya Ramesh",
          "Ankit Pancakes",
          "Usmann Khan",
          "Jessica Jiang",
          "Peter Kfoury",
          "Ankit Pancakes",
          "Seungyeon Shin",
          "Ian Zanger",
          "Paige Rossi",
          "Max Lin",
          "Usmann Khan",
          "Vasudha Kashyap",
          "Ben Alderfer",
          "Seungyeon Shin",
          "Ian Zanger",
          "Shreya Ramesh",
          "Usmann Khan",
          "Ankit Pancakes",
          "Elliott Williams",
          "Paige Rossi",
          "Nicky Semenza",
          "Vasudha Kashyap",
          "Shreya Ramesh",
          "Ankit Pancakes",
          "Ian Zanger",
          "Jessica Jiang",
          "Usmann Khan",
          "Ian Zanger",
          "Shreya Ramesh",
          "Paige Rossi",
          "Vasudha Kashyap",
          "Seungyeon Shin",
          "Kedar Vaidya",
          "Peter Kfoury",
          "Jessica Jiang",
          "Usmann Khan",
          "Jessica Jiang",
          "Vasudha Kashyap",
          "Paige Rossi",
          "Shreya Ramesh",
          "Nicky Semenza",
          "Usmann Khan",
          "Ankit Pancakes",
          "Peter Kfoury",
          "Usmann Khan",
          "Paige Rossi",
          "Shreya Ramesh",
          "Ankit Pancakes",
          "Vasudha Kashyap",
          "Paige Rossi",
          "Nicky Semenza",
          "Usmann Khan",
          "Ankit Pancakes",
          "Jenna Dambek",
          "Jessica Jiang",
          "Paige Rossi",
          "Ian Zanger",
          "Elliott Williams",
          "Nicky Semenza",
          "Jake Brabec",
          "Shreya Ramesh",
          "Usmann Khan",
          "Kedar Vaidya",
          "Usmann Khan",
          "Shreya Ramesh",
          "Ankit Pancakes",
          "Kedar Vaidya",
          "Usmann Khan",
          "Ankit Pancakes",
          "Kedar Vaidya",
          "Jessica Jiang",
          "Paige Rossi",
          "Usmann Khan",
          "Shreya Ramesh",
          "Ian Zanger",
          "Peter Kfoury",
          "Jessica Jiang",
          "Usmann Khan",
          "Paige Rossi",
          "Jenna Dambek",
          "Nicky Semenza",
          "Ankit Pancakes",
          "Usmann Khan",
          "Ankit Pancakes",
          "Paige Rossi",
          "Jenna Dambek",
          "Elliott Williams",
          "Ian Zanger",
          "Paige Rossi",
          "Usmann Khan",
          "Ankit Pancakes",
          "Ankit Pancakes",
          "Jake Brabec",
          "Paige Rossi",
          "Usmann Khan",
          "Paige Rossi",
          "Usmann Khan",
          "Ankit Pancakes",
          "Ian Zanger",
          "Ankit Pancakes",
          "Kedar Vaidya",
          "Ben Alderfer",
          "Paige Rossi",
          "Usmann Khan",
          "Kedar Vaidya",
          "Jenna Dambek",
          "Ian Zanger",
          "Paige Rossi",
          "Usmann Khan",
          "Ankit Pancakes",
          "Kedar Vaidya",
          "Ian Zanger",
          "Ben Alderfer",
          "Paige Rossi",
          "Usmann Khan",
          "Ankit Pancakes",
          "Peter Kfoury",
          "Jenna Dambek",
          "Ankit Pancakes",
          "Paige Rossi",
          "Jessica Jiang",
          "Usmann Khan",
          "Kedar Vaidya",
          "Ankit Pancakes",
          "Paige Rossi",
          "Nicky Semenza",
          "Ben Alderfer",
          "Usmann Khan",
          "Jessica Jiang",
          "Elliott Williams",
          "Kedar Vaidya",
          "Ankit Pancakes",
          "Usmann Khan",
          "Nicky Semenza",
          "Paige Rossi",
          "Ben Alderfer",
          "Max Lin",
          "Kedar Vaidya",
          "Usmann Khan",
          "Paige Rossi",
          "Jessica Jiang",
          "Jenna Dambek",
          "Ankit Pancakes",
          "Kedar Vaidya",
          "Ankit Pancakes",
          "Edwin Stanley",
          "Jessica Jiang",
          "Usmann Khan",
          "Nicky Semenza",
          "Paige Rossi",
          "Shreya Ramesh",
          "Max Lin",
          "Jessica Jiang",
          "Ben Alderfer",
          "Usmann Khan",
          "Jenna Dambek",
          "Ankit Pancakes",
          "Nicky Semenza",
          "Paige Rossi",
          "Kedar Vaidya",
          "Jessica Jiang",
          "Kedar Vaidya",
          "Ankit Pancakes",
          "Jake Brabec",
          "Paige Rossi",
          "Max Lin",
          "Usmann Khan",
          "Nicky Semenza",
          "Peter Kfoury",
          "Jenna Dambek",
          "Shreya Ramesh",
          "Kedar Vaidya",
          "Jessica Jiang",
          "Ankit Pancakes",
          "Usmann Khan",
          "Paige Rossi",
          "Ben Alderfer",
          "Max Lin",
          "Peter Kfoury",
          "Jenna Dambek",
          "Shreya Ramesh",
          "Nicky Semenza",
          "Ankit Pancakes",
          "Elliott Williams",
          "Jake Brabec",
          "Paige Rossi",
          "Usmann Khan",
          "Jessica Jiang",
          "Ben Alderfer",
          "Max Lin",
          "Jenna Dambek",
          "Kedar Vaidya",
          "Ben Alderfer",
          "Kedar Vaidya",
          "Paige Rossi",
          "Jenna Dambek",
          "Usmann Khan",
          "Jessica Jiang",
          "Max Lin",
          "Ankit Pancakes",
          "Elliott Williams",
          "Jessica Jiang",
          "Max Lin",
          "Peter Kfoury",
          "Shreya Ramesh",
          "Ben Alderfer",
          "Usmann Khan",
          "Paige Rossi",
          "Jenna Dambek",
          "Nicky Semenza",
          "Ankit Pancakes",
          "Kedar Vaidya",
          "Ankit Pancakes",
          "Jenna Dambek",
          "Usmann Khan",
          "Max Lin",
          "Paige Rossi",
          "Kedar Vaidya",
          "Shreya Ramesh",
          "Max Lin",
          "Ben Alderfer",
          "Jessica Jiang",
          "Paige Rossi",
          "Nicky Semenza",
          "Ankit Pancakes",
          "Usmann Khan",
          "Kedar Vaidya",
          "Elliott Williams",
          "Jessica Jiang",
          "Usmann Khan",
          "Nicky Semenza",
          "Paige Rossi",
          "Max Lin",
          "Ankit Pancakes",
          "Ben Alderfer",
          "Paige Rossi",
          "Max Lin",
          "Peter Kfoury",
          "Kedar Vaidya",
          "Ankit Pancakes",
          "Usmann Khan",
          "Jessica Jiang",
          "Elliott Williams",
          "Usmann Khan",
          "Peter Kfoury",
          "Edwin Stanley",
          "Ankit Pancakes",
          "Nicky Semenza",
          "Jessica Jiang",
          "Ankit Pancakes",
          "Paige Rossi",
          "Nicky Semenza",
          "Usmann Khan",
          "Peter Kfoury",
          "Jessica Jiang",
          "Paige Rossi",
          "Nicky Semenza",
          "Kedar Vaidya",
          "Peter Kfoury",
          "Ankit Pancakes",
          "Edwin Stanley",
          "Usmann Khan",
          "Ben Alderfer",
          "Usmann Khan",
          "Peter Kfoury",
          "Kedar Vaidya",
          "Edwin Stanley",
          "Paige Rossi",
          "Ankit Pancakes",
          "Shreya Ramesh",
          "Shreya Ramesh",
          "Paige Rossi",
          "Kedar Vaidya",
          "Nicky Semenza",
          "Ankit Pancakes",
          "Usmann Khan",
          "Ben Alderfer",
          "Shreya Ramesh",
          "Paige Rossi",
          "Usmann Khan",
          "Ankit Pancakes",
          "Ben Alderfer",
          "Paige Rossi",
          "Kedar Vaidya",
          "Usmann Khan",
          "Ankit Pancakes",
          "Peter Kfoury",
          "Shreya Ramesh",
          "Nicky Semenza",
          "Kedar Vaidya",
          "Ben Alderfer",
          "Paige Rossi",
          "Usmann Khan",
          "Ankit Pancakes",
          "Paige Rossi",
          "Nicky Semenza",
          "Ben Alderfer",
          "Kedar Vaidya",
          "Ankit Pancakes",
          "Shreya Ramesh",
          "Peter Kfoury",
          "Nicky Semenza",
          "Paige Rossi",
          "Jessica Jiang",
          "Ben Alderfer",
          "Kedar Vaidya",
          "Ankit Pancakes",
          "Usmann Khan",
          "Ben Alderfer",
          "Paige Rossi",
          "Nicky Semenza",
          "Usmann Khan",
          "Ankit Pancakes",
          "Jessica Jiang",
          "Shreya Ramesh",
          "Ben Alderfer",
          "Elliott Williams",
          "Peter Kfoury",
          "Paige Rossi",
          "Kedar Vaidya",
          "Ankit Pancakes",
          "Nicky Semenza",
          "Usmann Khan",
          "Paige Rossi",
          "Shreya Ramesh",
          "Kedar Vaidya",
          "Elliott Williams",
          "Nicky Semenza",
          "Ankit Pancakes",
          "Usmann Khan",
          "Jake Brabec",
          "Shreya Ramesh",
          "Elliott Williams",
          "Jessica Jiang",
          "Kedar Vaidya",
          "Paige Rossi",
          "Nicky Semenza",
          "Ankit Pancakes",
          "Ben Alderfer",
          "Nicky Semenza",
          "Elliott Williams",
          "Ankit Pancakes",
          "Jessica Jiang",
          "Peter Kfoury",
          "Paige Rossi",
          "Jake Brabec",
          "Shreya Ramesh",
          "Usmann Khan",
          "Ben Alderfer",
          "Shreya Ramesh",
          "Jessica Jiang",
          "Elliott Williams",
          "Ankit Pancakes",
          "Paige Rossi",
          "Kedar Vaidya",
          "Usmann Khan",
          "Peter Kfoury",
          "Nicky Semenza",
          "Jake Brabec",
          "Peter Kfoury",
          "Ben Alderfer",
          "Shreya Ramesh",
          "Ankit Pancakes",
          "Nicky Semenza",
          "Paige Rossi",
          "Kedar Vaidya",
          "Ben Alderfer",
          "Paige Rossi",
          "Ankit Pancakes",
          "Nicky Semenza",
          "Usmann Khan",
          "Peter Kfoury",
          "Jessica Jiang",
          "Ben Alderfer",
          "Paige Rossi",
          "Ankit Pancakes",
          "Usmann Khan",
          "Jake Brabec",
          "Ankit Pancakes",
          "Elliott Williams",
          "Nicky Semenza",
          "Ankit Pancakes",
          "Kedar Vaidya",
          "Nicky Semenza",
          "Jessica Jiang",
          "Kedar Vaidya",
          "Ankit Pancakes",
          "Jessica Jiang",
          "Ankit Pancakes",
          "Usmann Khan",
          "Elliott Williams",
          "Jessica Jiang",
          "Ankit Pancakes",
          "Usmann Khan",
          "Kedar Vaidya",
          "Ankit Pancakes",
          "Jessica Jiang",
          "Kedar Vaidya",
          "Usmann Khan",
          "Nicky Semenza",
          "Jessica Jiang",
          "Jake Brabec",
          "Ankit Pancakes",
          "Nicky Semenza",
          "Jessica Jiang",
          "Usmann Khan",
          "Kedar Vaidya",
          "Nicky Semenza",
          "Ankit Pancakes",
          "Elliott Williams",
          "Jessica Jiang",
          "Kedar Vaidya",
          "Ankit Pancakes",
          "Usmann Khan",
          "Usmann Khan",
          "Usmann Khan",
          "Jessica Jiang",
          "Nicky Semenza",
          "Kedar Vaidya",
          "Kedar Vaidya",
          "Usmann Khan",
          "Jessica Jiang",
          "Kedar Vaidya",
          "Nicky Semenza",
          "Kedar Vaidya",
          "Nicky Semenza",
          "Usmann Khan"
         ],
         "x0": " ",
         "xaxis": "x",
         "y": [
          14,
          21,
          114,
          42,
          93,
          130,
          52,
          48,
          43,
          127,
          76,
          27,
          36,
          64,
          35,
          74,
          37,
          68,
          84,
          48,
          48,
          81,
          77,
          163,
          39,
          64,
          28,
          45,
          45,
          37,
          46,
          49,
          134,
          100,
          73,
          65,
          88,
          98,
          92,
          45,
          80,
          94,
          78,
          37,
          168,
          42,
          354,
          96,
          68,
          252,
          35,
          552,
          50,
          49,
          45,
          32,
          25,
          90,
          38,
          33,
          53,
          54,
          92,
          264,
          108,
          114,
          98,
          25,
          105,
          40,
          88,
          98,
          102,
          74,
          57,
          68,
          214,
          209,
          60,
          214,
          78,
          87,
          213,
          239,
          204,
          79,
          56,
          167,
          137,
          316,
          123,
          26,
          138,
          171,
          107,
          62,
          126,
          46,
          39,
          97,
          92,
          48,
          337,
          28,
          74,
          39,
          446,
          52,
          148,
          42,
          44,
          55,
          79,
          52,
          43,
          28,
          88,
          54,
          155,
          318,
          478,
          54,
          46,
          44,
          41,
          201,
          263,
          28,
          78,
          47,
          34,
          112,
          127,
          45,
          56,
          92,
          93,
          135,
          189,
          95,
          63,
          95,
          250,
          31,
          21,
          335,
          89,
          56,
          43,
          143,
          29,
          65,
          99,
          38,
          41,
          43,
          32,
          53,
          48,
          48,
          71,
          61,
          28,
          53,
          190,
          88,
          41,
          23,
          62,
          112,
          102,
          81,
          31,
          38,
          73,
          42,
          97,
          245,
          79,
          60,
          146,
          47,
          163,
          39,
          168,
          123,
          81,
          117,
          25,
          26,
          45,
          35,
          67,
          71,
          152,
          142,
          45,
          38,
          33,
          56,
          52,
          100,
          29,
          54,
          86,
          176,
          271,
          37,
          29,
          34,
          139,
          118,
          154,
          219,
          93,
          385,
          97,
          188,
          133,
          38,
          62,
          63,
          110,
          32,
          26,
          28,
          27,
          27,
          30,
          18,
          36,
          43,
          24,
          78,
          29,
          106,
          46,
          64,
          24,
          80,
          44,
          117,
          30,
          81,
          23,
          27,
          54,
          41,
          35,
          29,
          33,
          29,
          30,
          31,
          45,
          66,
          24,
          83,
          44,
          31,
          77,
          32,
          45,
          93,
          42,
          111,
          411,
          511,
          436,
          58,
          108,
          127,
          316,
          301,
          146,
          35,
          74,
          105,
          74,
          68,
          47,
          63,
          195,
          38,
          110,
          131,
          167,
          70,
          121,
          93,
          138,
          134,
          75,
          195,
          163,
          61,
          54,
          525,
          192,
          82,
          114,
          46,
          37,
          134,
          328,
          78,
          143,
          41,
          76,
          44,
          152,
          31,
          86,
          41,
          217,
          71,
          125,
          53,
          48,
          98,
          83,
          98,
          39,
          38,
          33,
          33,
          32,
          127,
          31,
          97,
          57,
          324,
          178,
          72,
          89,
          55,
          36,
          36,
          23,
          52,
          57,
          57,
          40,
          371,
          186,
          77,
          133,
          33,
          128,
          61,
          43,
          61,
          108,
          94,
          104,
          51,
          51,
          47,
          24,
          114,
          78,
          40,
          22,
          65,
          33,
          62,
          56,
          229,
          63,
          82,
          65,
          91,
          59,
          44,
          27,
          127,
          109,
          51,
          66,
          65,
          82,
          83,
          57,
          55,
          111,
          42,
          49,
          35,
          55,
          97,
          244,
          177,
          212,
          47,
          57,
          145,
          83,
          53,
          120,
          59,
          42,
          81,
          34,
          48,
          23,
          55,
          66,
          98,
          90,
          34,
          57,
          74,
          55,
          25,
          42,
          47,
          61,
          63,
          39,
          37,
          155,
          70,
          81,
          68,
          34,
          108,
          85,
          47,
          86,
          88,
          31,
          77,
          107,
          64,
          36,
          46,
          34,
          66,
          187,
          26,
          136,
          32,
          50,
          88,
          42,
          96,
          44,
          161,
          46,
          125,
          50,
          91,
          96,
          54,
          249,
          70,
          47,
          84,
          103,
          32,
          49,
          102,
          61,
          180,
          77,
          36,
          44,
          45,
          50,
          17,
          33,
          50,
          81,
          76,
          32,
          40,
          361,
          211,
          69,
          31,
          103,
          107,
          94,
          81,
          86,
          190,
          355,
          346,
          53,
          121,
          237,
          331,
          156,
          147,
          309,
          251,
          171,
          102,
          120,
          224,
          88,
          510,
          126,
          63,
          38,
          63,
          123,
          127,
          60,
          49,
          96,
          150,
          110,
          16,
          465,
          90,
          109,
          128,
          96,
          185,
          94,
          109
         ],
         "y0": " ",
         "yaxis": "y"
        }
       ],
       "layout": {
        "autosize": true,
        "legend": {
         "tracegroupgap": 0
        },
        "margin": {
         "t": 60
        },
        "template": {
         "data": {
          "bar": [
           {
            "error_x": {
             "color": "#2a3f5f"
            },
            "error_y": {
             "color": "#2a3f5f"
            },
            "marker": {
             "line": {
              "color": "#E5ECF6",
              "width": 0.5
             }
            },
            "type": "bar"
           }
          ],
          "barpolar": [
           {
            "marker": {
             "line": {
              "color": "#E5ECF6",
              "width": 0.5
             }
            },
            "type": "barpolar"
           }
          ],
          "carpet": [
           {
            "aaxis": {
             "endlinecolor": "#2a3f5f",
             "gridcolor": "white",
             "linecolor": "white",
             "minorgridcolor": "white",
             "startlinecolor": "#2a3f5f"
            },
            "baxis": {
             "endlinecolor": "#2a3f5f",
             "gridcolor": "white",
             "linecolor": "white",
             "minorgridcolor": "white",
             "startlinecolor": "#2a3f5f"
            },
            "type": "carpet"
           }
          ],
          "choropleth": [
           {
            "colorbar": {
             "outlinewidth": 0,
             "ticks": ""
            },
            "type": "choropleth"
           }
          ],
          "contour": [
           {
            "colorbar": {
             "outlinewidth": 0,
             "ticks": ""
            },
            "colorscale": [
             [
              0,
              "#0d0887"
             ],
             [
              0.1111111111111111,
              "#46039f"
             ],
             [
              0.2222222222222222,
              "#7201a8"
             ],
             [
              0.3333333333333333,
              "#9c179e"
             ],
             [
              0.4444444444444444,
              "#bd3786"
             ],
             [
              0.5555555555555556,
              "#d8576b"
             ],
             [
              0.6666666666666666,
              "#ed7953"
             ],
             [
              0.7777777777777778,
              "#fb9f3a"
             ],
             [
              0.8888888888888888,
              "#fdca26"
             ],
             [
              1,
              "#f0f921"
             ]
            ],
            "type": "contour"
           }
          ],
          "contourcarpet": [
           {
            "colorbar": {
             "outlinewidth": 0,
             "ticks": ""
            },
            "type": "contourcarpet"
           }
          ],
          "heatmap": [
           {
            "colorbar": {
             "outlinewidth": 0,
             "ticks": ""
            },
            "colorscale": [
             [
              0,
              "#0d0887"
             ],
             [
              0.1111111111111111,
              "#46039f"
             ],
             [
              0.2222222222222222,
              "#7201a8"
             ],
             [
              0.3333333333333333,
              "#9c179e"
             ],
             [
              0.4444444444444444,
              "#bd3786"
             ],
             [
              0.5555555555555556,
              "#d8576b"
             ],
             [
              0.6666666666666666,
              "#ed7953"
             ],
             [
              0.7777777777777778,
              "#fb9f3a"
             ],
             [
              0.8888888888888888,
              "#fdca26"
             ],
             [
              1,
              "#f0f921"
             ]
            ],
            "type": "heatmap"
           }
          ],
          "heatmapgl": [
           {
            "colorbar": {
             "outlinewidth": 0,
             "ticks": ""
            },
            "colorscale": [
             [
              0,
              "#0d0887"
             ],
             [
              0.1111111111111111,
              "#46039f"
             ],
             [
              0.2222222222222222,
              "#7201a8"
             ],
             [
              0.3333333333333333,
              "#9c179e"
             ],
             [
              0.4444444444444444,
              "#bd3786"
             ],
             [
              0.5555555555555556,
              "#d8576b"
             ],
             [
              0.6666666666666666,
              "#ed7953"
             ],
             [
              0.7777777777777778,
              "#fb9f3a"
             ],
             [
              0.8888888888888888,
              "#fdca26"
             ],
             [
              1,
              "#f0f921"
             ]
            ],
            "type": "heatmapgl"
           }
          ],
          "histogram": [
           {
            "marker": {
             "colorbar": {
              "outlinewidth": 0,
              "ticks": ""
             }
            },
            "type": "histogram"
           }
          ],
          "histogram2d": [
           {
            "colorbar": {
             "outlinewidth": 0,
             "ticks": ""
            },
            "colorscale": [
             [
              0,
              "#0d0887"
             ],
             [
              0.1111111111111111,
              "#46039f"
             ],
             [
              0.2222222222222222,
              "#7201a8"
             ],
             [
              0.3333333333333333,
              "#9c179e"
             ],
             [
              0.4444444444444444,
              "#bd3786"
             ],
             [
              0.5555555555555556,
              "#d8576b"
             ],
             [
              0.6666666666666666,
              "#ed7953"
             ],
             [
              0.7777777777777778,
              "#fb9f3a"
             ],
             [
              0.8888888888888888,
              "#fdca26"
             ],
             [
              1,
              "#f0f921"
             ]
            ],
            "type": "histogram2d"
           }
          ],
          "histogram2dcontour": [
           {
            "colorbar": {
             "outlinewidth": 0,
             "ticks": ""
            },
            "colorscale": [
             [
              0,
              "#0d0887"
             ],
             [
              0.1111111111111111,
              "#46039f"
             ],
             [
              0.2222222222222222,
              "#7201a8"
             ],
             [
              0.3333333333333333,
              "#9c179e"
             ],
             [
              0.4444444444444444,
              "#bd3786"
             ],
             [
              0.5555555555555556,
              "#d8576b"
             ],
             [
              0.6666666666666666,
              "#ed7953"
             ],
             [
              0.7777777777777778,
              "#fb9f3a"
             ],
             [
              0.8888888888888888,
              "#fdca26"
             ],
             [
              1,
              "#f0f921"
             ]
            ],
            "type": "histogram2dcontour"
           }
          ],
          "mesh3d": [
           {
            "colorbar": {
             "outlinewidth": 0,
             "ticks": ""
            },
            "type": "mesh3d"
           }
          ],
          "parcoords": [
           {
            "line": {
             "colorbar": {
              "outlinewidth": 0,
              "ticks": ""
             }
            },
            "type": "parcoords"
           }
          ],
          "scatter": [
           {
            "marker": {
             "colorbar": {
              "outlinewidth": 0,
              "ticks": ""
             }
            },
            "type": "scatter"
           }
          ],
          "scatter3d": [
           {
            "line": {
             "colorbar": {
              "outlinewidth": 0,
              "ticks": ""
             }
            },
            "marker": {
             "colorbar": {
              "outlinewidth": 0,
              "ticks": ""
             }
            },
            "type": "scatter3d"
           }
          ],
          "scattercarpet": [
           {
            "marker": {
             "colorbar": {
              "outlinewidth": 0,
              "ticks": ""
             }
            },
            "type": "scattercarpet"
           }
          ],
          "scattergeo": [
           {
            "marker": {
             "colorbar": {
              "outlinewidth": 0,
              "ticks": ""
             }
            },
            "type": "scattergeo"
           }
          ],
          "scattergl": [
           {
            "marker": {
             "colorbar": {
              "outlinewidth": 0,
              "ticks": ""
             }
            },
            "type": "scattergl"
           }
          ],
          "scattermapbox": [
           {
            "marker": {
             "colorbar": {
              "outlinewidth": 0,
              "ticks": ""
             }
            },
            "type": "scattermapbox"
           }
          ],
          "scatterpolar": [
           {
            "marker": {
             "colorbar": {
              "outlinewidth": 0,
              "ticks": ""
             }
            },
            "type": "scatterpolar"
           }
          ],
          "scatterpolargl": [
           {
            "marker": {
             "colorbar": {
              "outlinewidth": 0,
              "ticks": ""
             }
            },
            "type": "scatterpolargl"
           }
          ],
          "scatterternary": [
           {
            "marker": {
             "colorbar": {
              "outlinewidth": 0,
              "ticks": ""
             }
            },
            "type": "scatterternary"
           }
          ],
          "surface": [
           {
            "colorbar": {
             "outlinewidth": 0,
             "ticks": ""
            },
            "colorscale": [
             [
              0,
              "#0d0887"
             ],
             [
              0.1111111111111111,
              "#46039f"
             ],
             [
              0.2222222222222222,
              "#7201a8"
             ],
             [
              0.3333333333333333,
              "#9c179e"
             ],
             [
              0.4444444444444444,
              "#bd3786"
             ],
             [
              0.5555555555555556,
              "#d8576b"
             ],
             [
              0.6666666666666666,
              "#ed7953"
             ],
             [
              0.7777777777777778,
              "#fb9f3a"
             ],
             [
              0.8888888888888888,
              "#fdca26"
             ],
             [
              1,
              "#f0f921"
             ]
            ],
            "type": "surface"
           }
          ],
          "table": [
           {
            "cells": {
             "fill": {
              "color": "#EBF0F8"
             },
             "line": {
              "color": "white"
             }
            },
            "header": {
             "fill": {
              "color": "#C8D4E3"
             },
             "line": {
              "color": "white"
             }
            },
            "type": "table"
           }
          ]
         },
         "layout": {
          "annotationdefaults": {
           "arrowcolor": "#2a3f5f",
           "arrowhead": 0,
           "arrowwidth": 1
          },
          "colorscale": {
           "diverging": [
            [
             0,
             "#8e0152"
            ],
            [
             0.1,
             "#c51b7d"
            ],
            [
             0.2,
             "#de77ae"
            ],
            [
             0.3,
             "#f1b6da"
            ],
            [
             0.4,
             "#fde0ef"
            ],
            [
             0.5,
             "#f7f7f7"
            ],
            [
             0.6,
             "#e6f5d0"
            ],
            [
             0.7,
             "#b8e186"
            ],
            [
             0.8,
             "#7fbc41"
            ],
            [
             0.9,
             "#4d9221"
            ],
            [
             1,
             "#276419"
            ]
           ],
           "sequential": [
            [
             0,
             "#0d0887"
            ],
            [
             0.1111111111111111,
             "#46039f"
            ],
            [
             0.2222222222222222,
             "#7201a8"
            ],
            [
             0.3333333333333333,
             "#9c179e"
            ],
            [
             0.4444444444444444,
             "#bd3786"
            ],
            [
             0.5555555555555556,
             "#d8576b"
            ],
            [
             0.6666666666666666,
             "#ed7953"
            ],
            [
             0.7777777777777778,
             "#fb9f3a"
            ],
            [
             0.8888888888888888,
             "#fdca26"
            ],
            [
             1,
             "#f0f921"
            ]
           ],
           "sequentialminus": [
            [
             0,
             "#0d0887"
            ],
            [
             0.1111111111111111,
             "#46039f"
            ],
            [
             0.2222222222222222,
             "#7201a8"
            ],
            [
             0.3333333333333333,
             "#9c179e"
            ],
            [
             0.4444444444444444,
             "#bd3786"
            ],
            [
             0.5555555555555556,
             "#d8576b"
            ],
            [
             0.6666666666666666,
             "#ed7953"
            ],
            [
             0.7777777777777778,
             "#fb9f3a"
            ],
            [
             0.8888888888888888,
             "#fdca26"
            ],
            [
             1,
             "#f0f921"
            ]
           ]
          },
          "colorway": [
           "#636efa",
           "#EF553B",
           "#00cc96",
           "#ab63fa",
           "#FFA15A",
           "#19d3f3",
           "#FF6692",
           "#B6E880",
           "#FF97FF",
           "#FECB52"
          ],
          "font": {
           "color": "#2a3f5f"
          },
          "geo": {
           "bgcolor": "white",
           "lakecolor": "white",
           "landcolor": "#E5ECF6",
           "showlakes": true,
           "showland": true,
           "subunitcolor": "white"
          },
          "hoverlabel": {
           "align": "left"
          },
          "hovermode": "closest",
          "mapbox": {
           "style": "light"
          },
          "paper_bgcolor": "white",
          "plot_bgcolor": "#E5ECF6",
          "polar": {
           "angularaxis": {
            "gridcolor": "white",
            "linecolor": "white",
            "ticks": ""
           },
           "bgcolor": "#E5ECF6",
           "radialaxis": {
            "gridcolor": "white",
            "linecolor": "white",
            "ticks": ""
           }
          },
          "scene": {
           "xaxis": {
            "backgroundcolor": "#E5ECF6",
            "gridcolor": "white",
            "gridwidth": 2,
            "linecolor": "white",
            "showbackground": true,
            "ticks": "",
            "zerolinecolor": "white"
           },
           "yaxis": {
            "backgroundcolor": "#E5ECF6",
            "gridcolor": "white",
            "gridwidth": 2,
            "linecolor": "white",
            "showbackground": true,
            "ticks": "",
            "zerolinecolor": "white"
           },
           "zaxis": {
            "backgroundcolor": "#E5ECF6",
            "gridcolor": "white",
            "gridwidth": 2,
            "linecolor": "white",
            "showbackground": true,
            "ticks": "",
            "zerolinecolor": "white"
           }
          },
          "shapedefaults": {
           "line": {
            "color": "#2a3f5f"
           }
          },
          "ternary": {
           "aaxis": {
            "gridcolor": "white",
            "linecolor": "white",
            "ticks": ""
           },
           "baxis": {
            "gridcolor": "white",
            "linecolor": "white",
            "ticks": ""
           },
           "bgcolor": "#E5ECF6",
           "caxis": {
            "gridcolor": "white",
            "linecolor": "white",
            "ticks": ""
           }
          },
          "title": {
           "x": 0.05
          },
          "xaxis": {
           "automargin": true,
           "gridcolor": "white",
           "linecolor": "white",
           "ticks": "",
           "zerolinecolor": "white",
           "zerolinewidth": 2
          },
          "yaxis": {
           "automargin": true,
           "gridcolor": "white",
           "linecolor": "white",
           "ticks": "",
           "zerolinecolor": "white",
           "zerolinewidth": 2
          }
         }
        },
        "violinmode": "group",
        "xaxis": {
         "anchor": "y",
         "autorange": true,
         "domain": [
          0,
          0.98
         ],
         "range": [
          -0.5,
          16.5
         ],
         "title": {
          "text": "author"
         },
         "type": "category"
        },
        "yaxis": {
         "anchor": "x",
         "autorange": true,
         "domain": [
          0,
          1
         ],
         "range": [
          -122.55670066975684,
          690.5567006697568
         ],
         "title": {
          "text": "time"
         },
         "type": "linear"
        }
       }
      },
      "image/png": "[encoded data removed]",
      "text/html": [
       "<div>\n",
       "        \n",
       "        \n",
       "            <div id=\"b1ebc441-b34e-4904-a771-1ed9919e678c\" class=\"plotly-graph-div\" style=\"height:600px; width:100%;\"></div>\n",
       "            <script type=\"text/javascript\">\n",
       "                require([\"plotly\"], function(Plotly) {\n",
       "                    window.PLOTLYENV=window.PLOTLYENV || {};\n",
       "                    \n",
       "                if (document.getElementById(\"b1ebc441-b34e-4904-a771-1ed9919e678c\")) {\n",
       "                    Plotly.newPlot(\n",
       "                        'b1ebc441-b34e-4904-a771-1ed9919e678c',\n",
       "                        [{\"alignmentgroup\": \"True\", \"box\": {\"visible\": false}, \"hoverlabel\": {\"namelength\": 0}, \"hovertemplate\": \"author=%{x}<br>time=%{y}\", \"legendgroup\": \"\", \"marker\": {\"color\": \"#636efa\"}, \"name\": \"\", \"offsetgroup\": \"\", \"orientation\": \"v\", \"scalegroup\": \"True\", \"showlegend\": false, \"type\": \"violin\", \"x\": [\"Ankit Pancakes\", \"Paige Rossi\", \"Jenna Dambek\", \"Kedar Vaidya\", \"Seungyeon Shin\", \"Vasudha Kashyap\", \"Ben Alderfer\", \"Max Lin\", \"Usmann Khan\", \"Kedar Vaidya\", \"Vasudha Kashyap\", \"Nicky Semenza\", \"Elliott Williams\", \"Edwin Stanley\", \"Ankit Pancakes\", \"Usmann Khan\", \"Jenna Dambek\", \"Paige Rossi\", \"Seungyeon Shin\", \"Nicky Semenza\", \"Ankit Pancakes\", \"Ian Zanger\", \"Peter Kfoury\", \"Max Lin\", \"Paige Rossi\", \"Jessica Jiang\", \"Usmann Khan\", \"Vasudha Kashyap\", \"Kedar Vaidya\", \"Usmann Khan\", \"Ankit Pancakes\", \"Paige Rossi\", \"Ankit Pancakes\", \"Ben Alderfer\", \"Ian Zanger\", \"Usmann Khan\", \"Ian Zanger\", \"Vasudha Kashyap\", \"Ben Alderfer\", \"Paige Rossi\", \"Ankit Pancakes\", \"Jessica Jiang\", \"Max Lin\", \"Usmann Khan\", \"Vasudha Kashyap\", \"Paige Rossi\", \"Max Lin\", \"Jenna Dambek\", \"Ben Alderfer\", \"Ankit Pancakes\", \"Usmann Khan\", \"Ian Zanger\", \"Ankit Pancakes\", \"Ben Alderfer\", \"Jessica Jiang\", \"Paige Rossi\", \"Nicky Semenza\", \"Seungyeon Shin\", \"Vasudha Kashyap\", \"Usmann Khan\", \"Ian Zanger\", \"Max Lin\", \"Ian Zanger\", \"Nicky Semenza\", \"Ankit Pancakes\", \"Usmann Khan\", \"Vasudha Kashyap\", \"Paige Rossi\", \"Vasudha Kashyap\", \"Usmann Khan\", \"Ian Zanger\", \"Kedar Vaidya\", \"Max Lin\", \"Ankit Pancakes\", \"Ian Zanger\", \"Kedar Vaidya\", \"Max Lin\", \"Jessica Jiang\", \"Nicky Semenza\", \"Vasudha Kashyap\", \"Ankit Pancakes\", \"Ian Zanger\", \"Peter Kfoury\", \"Max Lin\", \"Kedar Vaidya\", \"Ankit Pancakes\", \"Paige Rossi\", \"Jessica Jiang\", \"Usmann Khan\", \"Vasudha Kashyap\", \"Ian Zanger\", \"Paige Rossi\", \"Seungyeon Shin\", \"Max Lin\", \"Kedar Vaidya\", \"Shreya Ramesh\", \"Ankit Pancakes\", \"Usmann Khan\", \"Jessica Jiang\", \"Peter Kfoury\", \"Ankit Pancakes\", \"Seungyeon Shin\", \"Ian Zanger\", \"Paige Rossi\", \"Max Lin\", \"Usmann Khan\", \"Vasudha Kashyap\", \"Ben Alderfer\", \"Seungyeon Shin\", \"Ian Zanger\", \"Shreya Ramesh\", \"Usmann Khan\", \"Ankit Pancakes\", \"Elliott Williams\", \"Paige Rossi\", \"Nicky Semenza\", \"Vasudha Kashyap\", \"Shreya Ramesh\", \"Ankit Pancakes\", \"Ian Zanger\", \"Jessica Jiang\", \"Usmann Khan\", \"Ian Zanger\", \"Shreya Ramesh\", \"Paige Rossi\", \"Vasudha Kashyap\", \"Seungyeon Shin\", \"Kedar Vaidya\", \"Peter Kfoury\", \"Jessica Jiang\", \"Usmann Khan\", \"Jessica Jiang\", \"Vasudha Kashyap\", \"Paige Rossi\", \"Shreya Ramesh\", \"Nicky Semenza\", \"Usmann Khan\", \"Ankit Pancakes\", \"Peter Kfoury\", \"Usmann Khan\", \"Paige Rossi\", \"Shreya Ramesh\", \"Ankit Pancakes\", \"Vasudha Kashyap\", \"Paige Rossi\", \"Nicky Semenza\", \"Usmann Khan\", \"Ankit Pancakes\", \"Jenna Dambek\", \"Jessica Jiang\", \"Paige Rossi\", \"Ian Zanger\", \"Elliott Williams\", \"Nicky Semenza\", \"Jake Brabec\", \"Shreya Ramesh\", \"Usmann Khan\", \"Kedar Vaidya\", \"Usmann Khan\", \"Shreya Ramesh\", \"Ankit Pancakes\", \"Kedar Vaidya\", \"Usmann Khan\", \"Ankit Pancakes\", \"Kedar Vaidya\", \"Jessica Jiang\", \"Paige Rossi\", \"Usmann Khan\", \"Shreya Ramesh\", \"Ian Zanger\", \"Peter Kfoury\", \"Jessica Jiang\", \"Usmann Khan\", \"Paige Rossi\", \"Jenna Dambek\", \"Nicky Semenza\", \"Ankit Pancakes\", \"Usmann Khan\", \"Ankit Pancakes\", \"Paige Rossi\", \"Jenna Dambek\", \"Elliott Williams\", \"Ian Zanger\", \"Paige Rossi\", \"Usmann Khan\", \"Ankit Pancakes\", \"Ankit Pancakes\", \"Jake Brabec\", \"Paige Rossi\", \"Usmann Khan\", \"Paige Rossi\", \"Usmann Khan\", \"Ankit Pancakes\", \"Ian Zanger\", \"Ankit Pancakes\", \"Kedar Vaidya\", \"Ben Alderfer\", \"Paige Rossi\", \"Usmann Khan\", \"Kedar Vaidya\", \"Jenna Dambek\", \"Ian Zanger\", \"Paige Rossi\", \"Usmann Khan\", \"Ankit Pancakes\", \"Kedar Vaidya\", \"Ian Zanger\", \"Ben Alderfer\", \"Paige Rossi\", \"Usmann Khan\", \"Ankit Pancakes\", \"Peter Kfoury\", \"Jenna Dambek\", \"Ankit Pancakes\", \"Paige Rossi\", \"Jessica Jiang\", \"Usmann Khan\", \"Kedar Vaidya\", \"Ankit Pancakes\", \"Paige Rossi\", \"Nicky Semenza\", \"Ben Alderfer\", \"Usmann Khan\", \"Jessica Jiang\", \"Elliott Williams\", \"Kedar Vaidya\", \"Ankit Pancakes\", \"Usmann Khan\", \"Nicky Semenza\", \"Paige Rossi\", \"Ben Alderfer\", \"Max Lin\", \"Kedar Vaidya\", \"Usmann Khan\", \"Paige Rossi\", \"Jessica Jiang\", \"Jenna Dambek\", \"Ankit Pancakes\", \"Kedar Vaidya\", \"Ankit Pancakes\", \"Edwin Stanley\", \"Jessica Jiang\", \"Usmann Khan\", \"Nicky Semenza\", \"Paige Rossi\", \"Shreya Ramesh\", \"Max Lin\", \"Jessica Jiang\", \"Ben Alderfer\", \"Usmann Khan\", \"Jenna Dambek\", \"Ankit Pancakes\", \"Nicky Semenza\", \"Paige Rossi\", \"Kedar Vaidya\", \"Jessica Jiang\", \"Kedar Vaidya\", \"Ankit Pancakes\", \"Jake Brabec\", \"Paige Rossi\", \"Max Lin\", \"Usmann Khan\", \"Nicky Semenza\", \"Peter Kfoury\", \"Jenna Dambek\", \"Shreya Ramesh\", \"Kedar Vaidya\", \"Jessica Jiang\", \"Ankit Pancakes\", \"Usmann Khan\", \"Paige Rossi\", \"Ben Alderfer\", \"Max Lin\", \"Peter Kfoury\", \"Jenna Dambek\", \"Shreya Ramesh\", \"Nicky Semenza\", \"Ankit Pancakes\", \"Elliott Williams\", \"Jake Brabec\", \"Paige Rossi\", \"Usmann Khan\", \"Jessica Jiang\", \"Ben Alderfer\", \"Max Lin\", \"Jenna Dambek\", \"Kedar Vaidya\", \"Ben Alderfer\", \"Kedar Vaidya\", \"Paige Rossi\", \"Jenna Dambek\", \"Usmann Khan\", \"Jessica Jiang\", \"Max Lin\", \"Ankit Pancakes\", \"Elliott Williams\", \"Jessica Jiang\", \"Max Lin\", \"Peter Kfoury\", \"Shreya Ramesh\", \"Ben Alderfer\", \"Usmann Khan\", \"Paige Rossi\", \"Jenna Dambek\", \"Nicky Semenza\", \"Ankit Pancakes\", \"Kedar Vaidya\", \"Ankit Pancakes\", \"Jenna Dambek\", \"Usmann Khan\", \"Max Lin\", \"Paige Rossi\", \"Kedar Vaidya\", \"Shreya Ramesh\", \"Max Lin\", \"Ben Alderfer\", \"Jessica Jiang\", \"Paige Rossi\", \"Nicky Semenza\", \"Ankit Pancakes\", \"Usmann Khan\", \"Kedar Vaidya\", \"Elliott Williams\", \"Jessica Jiang\", \"Usmann Khan\", \"Nicky Semenza\", \"Paige Rossi\", \"Max Lin\", \"Ankit Pancakes\", \"Ben Alderfer\", \"Paige Rossi\", \"Max Lin\", \"Peter Kfoury\", \"Kedar Vaidya\", \"Ankit Pancakes\", \"Usmann Khan\", \"Jessica Jiang\", \"Elliott Williams\", \"Usmann Khan\", \"Peter Kfoury\", \"Edwin Stanley\", \"Ankit Pancakes\", \"Nicky Semenza\", \"Jessica Jiang\", \"Ankit Pancakes\", \"Paige Rossi\", \"Nicky Semenza\", \"Usmann Khan\", \"Peter Kfoury\", \"Jessica Jiang\", \"Paige Rossi\", \"Nicky Semenza\", \"Kedar Vaidya\", \"Peter Kfoury\", \"Ankit Pancakes\", \"Edwin Stanley\", \"Usmann Khan\", \"Ben Alderfer\", \"Usmann Khan\", \"Peter Kfoury\", \"Kedar Vaidya\", \"Edwin Stanley\", \"Paige Rossi\", \"Ankit Pancakes\", \"Shreya Ramesh\", \"Shreya Ramesh\", \"Paige Rossi\", \"Kedar Vaidya\", \"Nicky Semenza\", \"Ankit Pancakes\", \"Usmann Khan\", \"Ben Alderfer\", \"Shreya Ramesh\", \"Paige Rossi\", \"Usmann Khan\", \"Ankit Pancakes\", \"Ben Alderfer\", \"Paige Rossi\", \"Kedar Vaidya\", \"Usmann Khan\", \"Ankit Pancakes\", \"Peter Kfoury\", \"Shreya Ramesh\", \"Nicky Semenza\", \"Kedar Vaidya\", \"Ben Alderfer\", \"Paige Rossi\", \"Usmann Khan\", \"Ankit Pancakes\", \"Paige Rossi\", \"Nicky Semenza\", \"Ben Alderfer\", \"Kedar Vaidya\", \"Ankit Pancakes\", \"Shreya Ramesh\", \"Peter Kfoury\", \"Nicky Semenza\", \"Paige Rossi\", \"Jessica Jiang\", \"Ben Alderfer\", \"Kedar Vaidya\", \"Ankit Pancakes\", \"Usmann Khan\", \"Ben Alderfer\", \"Paige Rossi\", \"Nicky Semenza\", \"Usmann Khan\", \"Ankit Pancakes\", \"Jessica Jiang\", \"Shreya Ramesh\", \"Ben Alderfer\", \"Elliott Williams\", \"Peter Kfoury\", \"Paige Rossi\", \"Kedar Vaidya\", \"Ankit Pancakes\", \"Nicky Semenza\", \"Usmann Khan\", \"Paige Rossi\", \"Shreya Ramesh\", \"Kedar Vaidya\", \"Elliott Williams\", \"Nicky Semenza\", \"Ankit Pancakes\", \"Usmann Khan\", \"Jake Brabec\", \"Shreya Ramesh\", \"Elliott Williams\", \"Jessica Jiang\", \"Kedar Vaidya\", \"Paige Rossi\", \"Nicky Semenza\", \"Ankit Pancakes\", \"Ben Alderfer\", \"Nicky Semenza\", \"Elliott Williams\", \"Ankit Pancakes\", \"Jessica Jiang\", \"Peter Kfoury\", \"Paige Rossi\", \"Jake Brabec\", \"Shreya Ramesh\", \"Usmann Khan\", \"Ben Alderfer\", \"Shreya Ramesh\", \"Jessica Jiang\", \"Elliott Williams\", \"Ankit Pancakes\", \"Paige Rossi\", \"Kedar Vaidya\", \"Usmann Khan\", \"Peter Kfoury\", \"Nicky Semenza\", \"Jake Brabec\", \"Peter Kfoury\", \"Ben Alderfer\", \"Shreya Ramesh\", \"Ankit Pancakes\", \"Nicky Semenza\", \"Paige Rossi\", \"Kedar Vaidya\", \"Ben Alderfer\", \"Paige Rossi\", \"Ankit Pancakes\", \"Nicky Semenza\", \"Usmann Khan\", \"Peter Kfoury\", \"Jessica Jiang\", \"Ben Alderfer\", \"Paige Rossi\", \"Ankit Pancakes\", \"Usmann Khan\", \"Jake Brabec\", \"Ankit Pancakes\", \"Elliott Williams\", \"Nicky Semenza\", \"Ankit Pancakes\", \"Kedar Vaidya\", \"Nicky Semenza\", \"Jessica Jiang\", \"Kedar Vaidya\", \"Ankit Pancakes\", \"Jessica Jiang\", \"Ankit Pancakes\", \"Usmann Khan\", \"Elliott Williams\", \"Jessica Jiang\", \"Ankit Pancakes\", \"Usmann Khan\", \"Kedar Vaidya\", \"Ankit Pancakes\", \"Jessica Jiang\", \"Kedar Vaidya\", \"Usmann Khan\", \"Nicky Semenza\", \"Jessica Jiang\", \"Jake Brabec\", \"Ankit Pancakes\", \"Nicky Semenza\", \"Jessica Jiang\", \"Usmann Khan\", \"Kedar Vaidya\", \"Nicky Semenza\", \"Ankit Pancakes\", \"Elliott Williams\", \"Jessica Jiang\", \"Kedar Vaidya\", \"Ankit Pancakes\", \"Usmann Khan\", \"Usmann Khan\", \"Usmann Khan\", \"Jessica Jiang\", \"Nicky Semenza\", \"Kedar Vaidya\", \"Kedar Vaidya\", \"Usmann Khan\", \"Jessica Jiang\", \"Kedar Vaidya\", \"Nicky Semenza\", \"Kedar Vaidya\", \"Nicky Semenza\", \"Usmann Khan\"], \"x0\": \" \", \"xaxis\": \"x\", \"y\": [14, 21, 114, 42, 93, 130, 52, 48, 43, 127, 76, 27, 36, 64, 35, 74, 37, 68, 84, 48, 48, 81, 77, 163, 39, 64, 28, 45, 45, 37, 46, 49, 134, 100, 73, 65, 88, 98, 92, 45, 80, 94, 78, 37, 168, 42, 354, 96, 68, 252, 35, 552, 50, 49, 45, 32, 25, 90, 38, 33, 53, 54, 92, 264, 108, 114, 98, 25, 105, 40, 88, 98, 102, 74, 57, 68, 214, 209, 60, 214, 78, 87, 213, 239, 204, 79, 56, 167, 137, 316, 123, 26, 138, 171, 107, 62, 126, 46, 39, 97, 92, 48, 337, 28, 74, 39, 446, 52, 148, 42, 44, 55, 79, 52, 43, 28, 88, 54, 155, 318, 478, 54, 46, 44, 41, 201, 263, 28, 78, 47, 34, 112, 127, 45, 56, 92, 93, 135, 189, 95, 63, 95, 250, 31, 21, 335, 89, 56, 43, 143, 29, 65, 99, 38, 41, 43, 32, 53, 48, 48, 71, 61, 28, 53, 190, 88, 41, 23, 62, 112, 102, 81, 31, 38, 73, 42, 97, 245, 79, 60, 146, 47, 163, 39, 168, 123, 81, 117, 25, 26, 45, 35, 67, 71, 152, 142, 45, 38, 33, 56, 52, 100, 29, 54, 86, 176, 271, 37, 29, 34, 139, 118, 154, 219, 93, 385, 97, 188, 133, 38, 62, 63, 110, 32, 26, 28, 27, 27, 30, 18, 36, 43, 24, 78, 29, 106, 46, 64, 24, 80, 44, 117, 30, 81, 23, 27, 54, 41, 35, 29, 33, 29, 30, 31, 45, 66, 24, 83, 44, 31, 77, 32, 45, 93, 42, 111, 411, 511, 436, 58, 108, 127, 316, 301, 146, 35, 74, 105, 74, 68, 47, 63, 195, 38, 110, 131, 167, 70, 121, 93, 138, 134, 75, 195, 163, 61, 54, 525, 192, 82, 114, 46, 37, 134, 328, 78, 143, 41, 76, 44, 152, 31, 86, 41, 217, 71, 125, 53, 48, 98, 83, 98, 39, 38, 33, 33, 32, 127, 31, 97, 57, 324, 178, 72, 89, 55, 36, 36, 23, 52, 57, 57, 40, 371, 186, 77, 133, 33, 128, 61, 43, 61, 108, 94, 104, 51, 51, 47, 24, 114, 78, 40, 22, 65, 33, 62, 56, 229, 63, 82, 65, 91, 59, 44, 27, 127, 109, 51, 66, 65, 82, 83, 57, 55, 111, 42, 49, 35, 55, 97, 244, 177, 212, 47, 57, 145, 83, 53, 120, 59, 42, 81, 34, 48, 23, 55, 66, 98, 90, 34, 57, 74, 55, 25, 42, 47, 61, 63, 39, 37, 155, 70, 81, 68, 34, 108, 85, 47, 86, 88, 31, 77, 107, 64, 36, 46, 34, 66, 187, 26, 136, 32, 50, 88, 42, 96, 44, 161, 46, 125, 50, 91, 96, 54, 249, 70, 47, 84, 103, 32, 49, 102, 61, 180, 77, 36, 44, 45, 50, 17, 33, 50, 81, 76, 32, 40, 361, 211, 69, 31, 103, 107, 94, 81, 86, 190, 355, 346, 53, 121, 237, 331, 156, 147, 309, 251, 171, 102, 120, 224, 88, 510, 126, 63, 38, 63, 123, 127, 60, 49, 96, 150, 110, 16, 465, 90, 109, 128, 96, 185, 94, 109], \"y0\": \" \", \"yaxis\": \"y\"}],\n",
       "                        {\"height\": 600, \"legend\": {\"tracegroupgap\": 0}, \"margin\": {\"t\": 60}, \"template\": {\"data\": {\"bar\": [{\"error_x\": {\"color\": \"#2a3f5f\"}, \"error_y\": {\"color\": \"#2a3f5f\"}, \"marker\": {\"line\": {\"color\": \"#E5ECF6\", \"width\": 0.5}}, \"type\": \"bar\"}], \"barpolar\": [{\"marker\": {\"line\": {\"color\": \"#E5ECF6\", \"width\": 0.5}}, \"type\": \"barpolar\"}], \"carpet\": [{\"aaxis\": {\"endlinecolor\": \"#2a3f5f\", \"gridcolor\": \"white\", \"linecolor\": \"white\", \"minorgridcolor\": \"white\", \"startlinecolor\": \"#2a3f5f\"}, \"baxis\": {\"endlinecolor\": \"#2a3f5f\", \"gridcolor\": \"white\", \"linecolor\": \"white\", \"minorgridcolor\": \"white\", \"startlinecolor\": \"#2a3f5f\"}, \"type\": \"carpet\"}], \"choropleth\": [{\"colorbar\": {\"outlinewidth\": 0, \"ticks\": \"\"}, \"type\": \"choropleth\"}], \"contour\": [{\"colorbar\": {\"outlinewidth\": 0, \"ticks\": \"\"}, \"colorscale\": [[0.0, \"#0d0887\"], [0.1111111111111111, \"#46039f\"], [0.2222222222222222, \"#7201a8\"], [0.3333333333333333, \"#9c179e\"], [0.4444444444444444, \"#bd3786\"], [0.5555555555555556, \"#d8576b\"], [0.6666666666666666, \"#ed7953\"], [0.7777777777777778, \"#fb9f3a\"], [0.8888888888888888, \"#fdca26\"], [1.0, \"#f0f921\"]], \"type\": \"contour\"}], \"contourcarpet\": [{\"colorbar\": {\"outlinewidth\": 0, \"ticks\": \"\"}, \"type\": \"contourcarpet\"}], \"heatmap\": [{\"colorbar\": {\"outlinewidth\": 0, \"ticks\": \"\"}, \"colorscale\": [[0.0, \"#0d0887\"], [0.1111111111111111, \"#46039f\"], [0.2222222222222222, \"#7201a8\"], [0.3333333333333333, \"#9c179e\"], [0.4444444444444444, \"#bd3786\"], [0.5555555555555556, \"#d8576b\"], [0.6666666666666666, \"#ed7953\"], [0.7777777777777778, \"#fb9f3a\"], [0.8888888888888888, \"#fdca26\"], [1.0, \"#f0f921\"]], \"type\": \"heatmap\"}], \"heatmapgl\": [{\"colorbar\": {\"outlinewidth\": 0, \"ticks\": \"\"}, \"colorscale\": [[0.0, \"#0d0887\"], [0.1111111111111111, \"#46039f\"], [0.2222222222222222, \"#7201a8\"], [0.3333333333333333, \"#9c179e\"], [0.4444444444444444, \"#bd3786\"], [0.5555555555555556, \"#d8576b\"], [0.6666666666666666, \"#ed7953\"], [0.7777777777777778, \"#fb9f3a\"], [0.8888888888888888, \"#fdca26\"], [1.0, \"#f0f921\"]], \"type\": \"heatmapgl\"}], \"histogram\": [{\"marker\": {\"colorbar\": {\"outlinewidth\": 0, \"ticks\": \"\"}}, \"type\": \"histogram\"}], \"histogram2d\": [{\"colorbar\": {\"outlinewidth\": 0, \"ticks\": \"\"}, \"colorscale\": [[0.0, \"#0d0887\"], [0.1111111111111111, \"#46039f\"], [0.2222222222222222, \"#7201a8\"], [0.3333333333333333, \"#9c179e\"], [0.4444444444444444, \"#bd3786\"], [0.5555555555555556, \"#d8576b\"], [0.6666666666666666, \"#ed7953\"], [0.7777777777777778, \"#fb9f3a\"], [0.8888888888888888, \"#fdca26\"], [1.0, \"#f0f921\"]], \"type\": \"histogram2d\"}], \"histogram2dcontour\": [{\"colorbar\": {\"outlinewidth\": 0, \"ticks\": \"\"}, \"colorscale\": [[0.0, \"#0d0887\"], [0.1111111111111111, \"#46039f\"], [0.2222222222222222, \"#7201a8\"], [0.3333333333333333, \"#9c179e\"], [0.4444444444444444, \"#bd3786\"], [0.5555555555555556, \"#d8576b\"], [0.6666666666666666, \"#ed7953\"], [0.7777777777777778, \"#fb9f3a\"], [0.8888888888888888, \"#fdca26\"], [1.0, \"#f0f921\"]], \"type\": \"histogram2dcontour\"}], \"mesh3d\": [{\"colorbar\": {\"outlinewidth\": 0, \"ticks\": \"\"}, \"type\": \"mesh3d\"}], \"parcoords\": [{\"line\": {\"colorbar\": {\"outlinewidth\": 0, \"ticks\": \"\"}}, \"type\": \"parcoords\"}], \"scatter\": [{\"marker\": {\"colorbar\": {\"outlinewidth\": 0, \"ticks\": \"\"}}, \"type\": \"scatter\"}], \"scatter3d\": [{\"line\": {\"colorbar\": {\"outlinewidth\": 0, \"ticks\": \"\"}}, \"marker\": {\"colorbar\": {\"outlinewidth\": 0, \"ticks\": \"\"}}, \"type\": \"scatter3d\"}], \"scattercarpet\": [{\"marker\": {\"colorbar\": {\"outlinewidth\": 0, \"ticks\": \"\"}}, \"type\": \"scattercarpet\"}], \"scattergeo\": [{\"marker\": {\"colorbar\": {\"outlinewidth\": 0, \"ticks\": \"\"}}, \"type\": \"scattergeo\"}], \"scattergl\": [{\"marker\": {\"colorbar\": {\"outlinewidth\": 0, \"ticks\": \"\"}}, \"type\": \"scattergl\"}], \"scattermapbox\": [{\"marker\": {\"colorbar\": {\"outlinewidth\": 0, \"ticks\": \"\"}}, \"type\": \"scattermapbox\"}], \"scatterpolar\": [{\"marker\": {\"colorbar\": {\"outlinewidth\": 0, \"ticks\": \"\"}}, \"type\": \"scatterpolar\"}], \"scatterpolargl\": [{\"marker\": {\"colorbar\": {\"outlinewidth\": 0, \"ticks\": \"\"}}, \"type\": \"scatterpolargl\"}], \"scatterternary\": [{\"marker\": {\"colorbar\": {\"outlinewidth\": 0, \"ticks\": \"\"}}, \"type\": \"scatterternary\"}], \"surface\": [{\"colorbar\": {\"outlinewidth\": 0, \"ticks\": \"\"}, \"colorscale\": [[0.0, \"#0d0887\"], [0.1111111111111111, \"#46039f\"], [0.2222222222222222, \"#7201a8\"], [0.3333333333333333, \"#9c179e\"], [0.4444444444444444, \"#bd3786\"], [0.5555555555555556, \"#d8576b\"], [0.6666666666666666, \"#ed7953\"], [0.7777777777777778, \"#fb9f3a\"], [0.8888888888888888, \"#fdca26\"], [1.0, \"#f0f921\"]], \"type\": \"surface\"}], \"table\": [{\"cells\": {\"fill\": {\"color\": \"#EBF0F8\"}, \"line\": {\"color\": \"white\"}}, \"header\": {\"fill\": {\"color\": \"#C8D4E3\"}, \"line\": {\"color\": \"white\"}}, \"type\": \"table\"}]}, \"layout\": {\"annotationdefaults\": {\"arrowcolor\": \"#2a3f5f\", \"arrowhead\": 0, \"arrowwidth\": 1}, \"colorscale\": {\"diverging\": [[0, \"#8e0152\"], [0.1, \"#c51b7d\"], [0.2, \"#de77ae\"], [0.3, \"#f1b6da\"], [0.4, \"#fde0ef\"], [0.5, \"#f7f7f7\"], [0.6, \"#e6f5d0\"], [0.7, \"#b8e186\"], [0.8, \"#7fbc41\"], [0.9, \"#4d9221\"], [1, \"#276419\"]], \"sequential\": [[0.0, \"#0d0887\"], [0.1111111111111111, \"#46039f\"], [0.2222222222222222, \"#7201a8\"], [0.3333333333333333, \"#9c179e\"], [0.4444444444444444, \"#bd3786\"], [0.5555555555555556, \"#d8576b\"], [0.6666666666666666, \"#ed7953\"], [0.7777777777777778, \"#fb9f3a\"], [0.8888888888888888, \"#fdca26\"], [1.0, \"#f0f921\"]], \"sequentialminus\": [[0.0, \"#0d0887\"], [0.1111111111111111, \"#46039f\"], [0.2222222222222222, \"#7201a8\"], [0.3333333333333333, \"#9c179e\"], [0.4444444444444444, \"#bd3786\"], [0.5555555555555556, \"#d8576b\"], [0.6666666666666666, \"#ed7953\"], [0.7777777777777778, \"#fb9f3a\"], [0.8888888888888888, \"#fdca26\"], [1.0, \"#f0f921\"]]}, \"colorway\": [\"#636efa\", \"#EF553B\", \"#00cc96\", \"#ab63fa\", \"#FFA15A\", \"#19d3f3\", \"#FF6692\", \"#B6E880\", \"#FF97FF\", \"#FECB52\"], \"font\": {\"color\": \"#2a3f5f\"}, \"geo\": {\"bgcolor\": \"white\", \"lakecolor\": \"white\", \"landcolor\": \"#E5ECF6\", \"showlakes\": true, \"showland\": true, \"subunitcolor\": \"white\"}, \"hoverlabel\": {\"align\": \"left\"}, \"hovermode\": \"closest\", \"mapbox\": {\"style\": \"light\"}, \"paper_bgcolor\": \"white\", \"plot_bgcolor\": \"#E5ECF6\", \"polar\": {\"angularaxis\": {\"gridcolor\": \"white\", \"linecolor\": \"white\", \"ticks\": \"\"}, \"bgcolor\": \"#E5ECF6\", \"radialaxis\": {\"gridcolor\": \"white\", \"linecolor\": \"white\", \"ticks\": \"\"}}, \"scene\": {\"xaxis\": {\"backgroundcolor\": \"#E5ECF6\", \"gridcolor\": \"white\", \"gridwidth\": 2, \"linecolor\": \"white\", \"showbackground\": true, \"ticks\": \"\", \"zerolinecolor\": \"white\"}, \"yaxis\": {\"backgroundcolor\": \"#E5ECF6\", \"gridcolor\": \"white\", \"gridwidth\": 2, \"linecolor\": \"white\", \"showbackground\": true, \"ticks\": \"\", \"zerolinecolor\": \"white\"}, \"zaxis\": {\"backgroundcolor\": \"#E5ECF6\", \"gridcolor\": \"white\", \"gridwidth\": 2, \"linecolor\": \"white\", \"showbackground\": true, \"ticks\": \"\", \"zerolinecolor\": \"white\"}}, \"shapedefaults\": {\"line\": {\"color\": \"#2a3f5f\"}}, \"ternary\": {\"aaxis\": {\"gridcolor\": \"white\", \"linecolor\": \"white\", \"ticks\": \"\"}, \"baxis\": {\"gridcolor\": \"white\", \"linecolor\": \"white\", \"ticks\": \"\"}, \"bgcolor\": \"#E5ECF6\", \"caxis\": {\"gridcolor\": \"white\", \"linecolor\": \"white\", \"ticks\": \"\"}}, \"title\": {\"x\": 0.05}, \"xaxis\": {\"automargin\": true, \"gridcolor\": \"white\", \"linecolor\": \"white\", \"ticks\": \"\", \"zerolinecolor\": \"white\", \"zerolinewidth\": 2}, \"yaxis\": {\"automargin\": true, \"gridcolor\": \"white\", \"linecolor\": \"white\", \"ticks\": \"\", \"zerolinecolor\": \"white\", \"zerolinewidth\": 2}}}, \"violinmode\": \"group\", \"xaxis\": {\"anchor\": \"y\", \"domain\": [0.0, 0.98], \"title\": {\"text\": \"author\"}}, \"yaxis\": {\"anchor\": \"x\", \"domain\": [0.0, 1.0], \"title\": {\"text\": \"time\"}}},\n",
       "                        {\"responsive\": true}\n",
       "                    ).then(function(){\n",
       "                            \n",
       "var gd = document.getElementById('b1ebc441-b34e-4904-a771-1ed9919e678c');\n",
       "var x = new MutationObserver(function (mutations, observer) {{\n",
       "        var display = window.getComputedStyle(gd).display;\n",
       "        if (!display || display === 'none') {{\n",
       "            console.log([gd, 'removed!']);\n",
       "            Plotly.purge(gd);\n",
       "            observer.disconnect();\n",
       "        }}\n",
       "}});\n",
       "\n",
       "// Listen for the removal of the full notebook cells\n",
       "var notebookContainer = gd.closest('#notebook-container');\n",
       "if (notebookContainer) {{\n",
       "    x.observe(notebookContainer, {childList: true});\n",
       "}}\n",
       "\n",
       "// Listen for the clearing of the current output cell\n",
       "var outputEl = gd.closest('.output');\n",
       "if (outputEl) {{\n",
       "    x.observe(outputEl, {childList: true});\n",
       "}}\n",
       "\n",
       "                        })\n",
       "                };\n",
       "                });\n",
       "            </script>\n",
       "        </div>"
      ]
     },
     "metadata": {},
     "output_type": "display_data"
    }
   ],
   "source": [
    "fig = px.violin(df, y='time', x='author')\n",
    "fig.show()"
   ]
  },
  {
   "cell_type": "code",
   "execution_count": 129,
   "metadata": {},
   "outputs": [],
   "source": [
    "min_day = min(df['day'])\n",
    "max_day = max(df['day'])\n",
    "cur_day = min_day"
   ]
  },
  {
   "cell_type": "code",
   "execution_count": 130,
   "metadata": {},
   "outputs": [],
   "source": [
    "wins = []\n",
    "while cur_day <= max_day:\n",
    "    cur_df = df[df['day'] == cur_day]\n",
    "    if len(cur_df) == 0:\n",
    "        cur_day += datetime.timedelta(days=1)\n",
    "        continue\n",
    "    min_time = min(cur_df['time'])\n",
    "    winning_authors = list(cur_df[cur_df['time'] == min_time]['author'])\n",
    "    wins.extend(winning_authors)\n",
    "    cur_day += datetime.timedelta(days=1)"
   ]
  },
  {
   "cell_type": "code",
   "execution_count": 131,
   "metadata": {},
   "outputs": [],
   "source": [
    "wins = pd.DataFrame({'wins':{i:wins.count(i) for i in set(wins)}})\n",
    "wins['author'] = wins.index"
   ]
  },
  {
   "cell_type": "code",
   "execution_count": 138,
   "metadata": {},
   "outputs": [
    {
     "data": {
      "application/vnd.plotly.v1+json": {
       "config": {
        "plotlyServerURL": "https://plot.ly"
       },
       "data": [
        {
         "alignmentgroup": "True",
         "hoverlabel": {
          "namelength": 0
         },
         "hovertemplate": "author=%{x}<br>wins=%{y}",
         "legendgroup": "",
         "marker": {
          "color": "#636efa"
         },
         "name": "",
         "offsetgroup": "",
         "orientation": "v",
         "showlegend": false,
         "textposition": "auto",
         "type": "bar",
         "x": [
          "Ankit Pancakes",
          "Ben Alderfer",
          "Elliott Williams",
          "Ian Zanger",
          "Jessica Jiang",
          "Kedar Vaidya",
          "Nicky Semenza",
          "Paige Rossi",
          "Shreya Ramesh",
          "Usmann Khan"
         ],
         "xaxis": "x",
         "y": [
          6,
          1,
          3,
          2,
          5,
          6,
          6,
          30,
          6,
          26
         ],
         "yaxis": "y"
        }
       ],
       "layout": {
        "autosize": true,
        "barmode": "relative",
        "legend": {
         "tracegroupgap": 0
        },
        "margin": {
         "t": 60
        },
        "template": {
         "data": {
          "bar": [
           {
            "error_x": {
             "color": "#2a3f5f"
            },
            "error_y": {
             "color": "#2a3f5f"
            },
            "marker": {
             "line": {
              "color": "#E5ECF6",
              "width": 0.5
             }
            },
            "type": "bar"
           }
          ],
          "barpolar": [
           {
            "marker": {
             "line": {
              "color": "#E5ECF6",
              "width": 0.5
             }
            },
            "type": "barpolar"
           }
          ],
          "carpet": [
           {
            "aaxis": {
             "endlinecolor": "#2a3f5f",
             "gridcolor": "white",
             "linecolor": "white",
             "minorgridcolor": "white",
             "startlinecolor": "#2a3f5f"
            },
            "baxis": {
             "endlinecolor": "#2a3f5f",
             "gridcolor": "white",
             "linecolor": "white",
             "minorgridcolor": "white",
             "startlinecolor": "#2a3f5f"
            },
            "type": "carpet"
           }
          ],
          "choropleth": [
           {
            "colorbar": {
             "outlinewidth": 0,
             "ticks": ""
            },
            "type": "choropleth"
           }
          ],
          "contour": [
           {
            "colorbar": {
             "outlinewidth": 0,
             "ticks": ""
            },
            "colorscale": [
             [
              0,
              "#0d0887"
             ],
             [
              0.1111111111111111,
              "#46039f"
             ],
             [
              0.2222222222222222,
              "#7201a8"
             ],
             [
              0.3333333333333333,
              "#9c179e"
             ],
             [
              0.4444444444444444,
              "#bd3786"
             ],
             [
              0.5555555555555556,
              "#d8576b"
             ],
             [
              0.6666666666666666,
              "#ed7953"
             ],
             [
              0.7777777777777778,
              "#fb9f3a"
             ],
             [
              0.8888888888888888,
              "#fdca26"
             ],
             [
              1,
              "#f0f921"
             ]
            ],
            "type": "contour"
           }
          ],
          "contourcarpet": [
           {
            "colorbar": {
             "outlinewidth": 0,
             "ticks": ""
            },
            "type": "contourcarpet"
           }
          ],
          "heatmap": [
           {
            "colorbar": {
             "outlinewidth": 0,
             "ticks": ""
            },
            "colorscale": [
             [
              0,
              "#0d0887"
             ],
             [
              0.1111111111111111,
              "#46039f"
             ],
             [
              0.2222222222222222,
              "#7201a8"
             ],
             [
              0.3333333333333333,
              "#9c179e"
             ],
             [
              0.4444444444444444,
              "#bd3786"
             ],
             [
              0.5555555555555556,
              "#d8576b"
             ],
             [
              0.6666666666666666,
              "#ed7953"
             ],
             [
              0.7777777777777778,
              "#fb9f3a"
             ],
             [
              0.8888888888888888,
              "#fdca26"
             ],
             [
              1,
              "#f0f921"
             ]
            ],
            "type": "heatmap"
           }
          ],
          "heatmapgl": [
           {
            "colorbar": {
             "outlinewidth": 0,
             "ticks": ""
            },
            "colorscale": [
             [
              0,
              "#0d0887"
             ],
             [
              0.1111111111111111,
              "#46039f"
             ],
             [
              0.2222222222222222,
              "#7201a8"
             ],
             [
              0.3333333333333333,
              "#9c179e"
             ],
             [
              0.4444444444444444,
              "#bd3786"
             ],
             [
              0.5555555555555556,
              "#d8576b"
             ],
             [
              0.6666666666666666,
              "#ed7953"
             ],
             [
              0.7777777777777778,
              "#fb9f3a"
             ],
             [
              0.8888888888888888,
              "#fdca26"
             ],
             [
              1,
              "#f0f921"
             ]
            ],
            "type": "heatmapgl"
           }
          ],
          "histogram": [
           {
            "marker": {
             "colorbar": {
              "outlinewidth": 0,
              "ticks": ""
             }
            },
            "type": "histogram"
           }
          ],
          "histogram2d": [
           {
            "colorbar": {
             "outlinewidth": 0,
             "ticks": ""
            },
            "colorscale": [
             [
              0,
              "#0d0887"
             ],
             [
              0.1111111111111111,
              "#46039f"
             ],
             [
              0.2222222222222222,
              "#7201a8"
             ],
             [
              0.3333333333333333,
              "#9c179e"
             ],
             [
              0.4444444444444444,
              "#bd3786"
             ],
             [
              0.5555555555555556,
              "#d8576b"
             ],
             [
              0.6666666666666666,
              "#ed7953"
             ],
             [
              0.7777777777777778,
              "#fb9f3a"
             ],
             [
              0.8888888888888888,
              "#fdca26"
             ],
             [
              1,
              "#f0f921"
             ]
            ],
            "type": "histogram2d"
           }
          ],
          "histogram2dcontour": [
           {
            "colorbar": {
             "outlinewidth": 0,
             "ticks": ""
            },
            "colorscale": [
             [
              0,
              "#0d0887"
             ],
             [
              0.1111111111111111,
              "#46039f"
             ],
             [
              0.2222222222222222,
              "#7201a8"
             ],
             [
              0.3333333333333333,
              "#9c179e"
             ],
             [
              0.4444444444444444,
              "#bd3786"
             ],
             [
              0.5555555555555556,
              "#d8576b"
             ],
             [
              0.6666666666666666,
              "#ed7953"
             ],
             [
              0.7777777777777778,
              "#fb9f3a"
             ],
             [
              0.8888888888888888,
              "#fdca26"
             ],
             [
              1,
              "#f0f921"
             ]
            ],
            "type": "histogram2dcontour"
           }
          ],
          "mesh3d": [
           {
            "colorbar": {
             "outlinewidth": 0,
             "ticks": ""
            },
            "type": "mesh3d"
           }
          ],
          "parcoords": [
           {
            "line": {
             "colorbar": {
              "outlinewidth": 0,
              "ticks": ""
             }
            },
            "type": "parcoords"
           }
          ],
          "scatter": [
           {
            "marker": {
             "colorbar": {
              "outlinewidth": 0,
              "ticks": ""
             }
            },
            "type": "scatter"
           }
          ],
          "scatter3d": [
           {
            "line": {
             "colorbar": {
              "outlinewidth": 0,
              "ticks": ""
             }
            },
            "marker": {
             "colorbar": {
              "outlinewidth": 0,
              "ticks": ""
             }
            },
            "type": "scatter3d"
           }
          ],
          "scattercarpet": [
           {
            "marker": {
             "colorbar": {
              "outlinewidth": 0,
              "ticks": ""
             }
            },
            "type": "scattercarpet"
           }
          ],
          "scattergeo": [
           {
            "marker": {
             "colorbar": {
              "outlinewidth": 0,
              "ticks": ""
             }
            },
            "type": "scattergeo"
           }
          ],
          "scattergl": [
           {
            "marker": {
             "colorbar": {
              "outlinewidth": 0,
              "ticks": ""
             }
            },
            "type": "scattergl"
           }
          ],
          "scattermapbox": [
           {
            "marker": {
             "colorbar": {
              "outlinewidth": 0,
              "ticks": ""
             }
            },
            "type": "scattermapbox"
           }
          ],
          "scatterpolar": [
           {
            "marker": {
             "colorbar": {
              "outlinewidth": 0,
              "ticks": ""
             }
            },
            "type": "scatterpolar"
           }
          ],
          "scatterpolargl": [
           {
            "marker": {
             "colorbar": {
              "outlinewidth": 0,
              "ticks": ""
             }
            },
            "type": "scatterpolargl"
           }
          ],
          "scatterternary": [
           {
            "marker": {
             "colorbar": {
              "outlinewidth": 0,
              "ticks": ""
             }
            },
            "type": "scatterternary"
           }
          ],
          "surface": [
           {
            "colorbar": {
             "outlinewidth": 0,
             "ticks": ""
            },
            "colorscale": [
             [
              0,
              "#0d0887"
             ],
             [
              0.1111111111111111,
              "#46039f"
             ],
             [
              0.2222222222222222,
              "#7201a8"
             ],
             [
              0.3333333333333333,
              "#9c179e"
             ],
             [
              0.4444444444444444,
              "#bd3786"
             ],
             [
              0.5555555555555556,
              "#d8576b"
             ],
             [
              0.6666666666666666,
              "#ed7953"
             ],
             [
              0.7777777777777778,
              "#fb9f3a"
             ],
             [
              0.8888888888888888,
              "#fdca26"
             ],
             [
              1,
              "#f0f921"
             ]
            ],
            "type": "surface"
           }
          ],
          "table": [
           {
            "cells": {
             "fill": {
              "color": "#EBF0F8"
             },
             "line": {
              "color": "white"
             }
            },
            "header": {
             "fill": {
              "color": "#C8D4E3"
             },
             "line": {
              "color": "white"
             }
            },
            "type": "table"
           }
          ]
         },
         "layout": {
          "annotationdefaults": {
           "arrowcolor": "#2a3f5f",
           "arrowhead": 0,
           "arrowwidth": 1
          },
          "colorscale": {
           "diverging": [
            [
             0,
             "#8e0152"
            ],
            [
             0.1,
             "#c51b7d"
            ],
            [
             0.2,
             "#de77ae"
            ],
            [
             0.3,
             "#f1b6da"
            ],
            [
             0.4,
             "#fde0ef"
            ],
            [
             0.5,
             "#f7f7f7"
            ],
            [
             0.6,
             "#e6f5d0"
            ],
            [
             0.7,
             "#b8e186"
            ],
            [
             0.8,
             "#7fbc41"
            ],
            [
             0.9,
             "#4d9221"
            ],
            [
             1,
             "#276419"
            ]
           ],
           "sequential": [
            [
             0,
             "#0d0887"
            ],
            [
             0.1111111111111111,
             "#46039f"
            ],
            [
             0.2222222222222222,
             "#7201a8"
            ],
            [
             0.3333333333333333,
             "#9c179e"
            ],
            [
             0.4444444444444444,
             "#bd3786"
            ],
            [
             0.5555555555555556,
             "#d8576b"
            ],
            [
             0.6666666666666666,
             "#ed7953"
            ],
            [
             0.7777777777777778,
             "#fb9f3a"
            ],
            [
             0.8888888888888888,
             "#fdca26"
            ],
            [
             1,
             "#f0f921"
            ]
           ],
           "sequentialminus": [
            [
             0,
             "#0d0887"
            ],
            [
             0.1111111111111111,
             "#46039f"
            ],
            [
             0.2222222222222222,
             "#7201a8"
            ],
            [
             0.3333333333333333,
             "#9c179e"
            ],
            [
             0.4444444444444444,
             "#bd3786"
            ],
            [
             0.5555555555555556,
             "#d8576b"
            ],
            [
             0.6666666666666666,
             "#ed7953"
            ],
            [
             0.7777777777777778,
             "#fb9f3a"
            ],
            [
             0.8888888888888888,
             "#fdca26"
            ],
            [
             1,
             "#f0f921"
            ]
           ]
          },
          "colorway": [
           "#636efa",
           "#EF553B",
           "#00cc96",
           "#ab63fa",
           "#FFA15A",
           "#19d3f3",
           "#FF6692",
           "#B6E880",
           "#FF97FF",
           "#FECB52"
          ],
          "font": {
           "color": "#2a3f5f"
          },
          "geo": {
           "bgcolor": "white",
           "lakecolor": "white",
           "landcolor": "#E5ECF6",
           "showlakes": true,
           "showland": true,
           "subunitcolor": "white"
          },
          "hoverlabel": {
           "align": "left"
          },
          "hovermode": "closest",
          "mapbox": {
           "style": "light"
          },
          "paper_bgcolor": "white",
          "plot_bgcolor": "#E5ECF6",
          "polar": {
           "angularaxis": {
            "gridcolor": "white",
            "linecolor": "white",
            "ticks": ""
           },
           "bgcolor": "#E5ECF6",
           "radialaxis": {
            "gridcolor": "white",
            "linecolor": "white",
            "ticks": ""
           }
          },
          "scene": {
           "xaxis": {
            "backgroundcolor": "#E5ECF6",
            "gridcolor": "white",
            "gridwidth": 2,
            "linecolor": "white",
            "showbackground": true,
            "ticks": "",
            "zerolinecolor": "white"
           },
           "yaxis": {
            "backgroundcolor": "#E5ECF6",
            "gridcolor": "white",
            "gridwidth": 2,
            "linecolor": "white",
            "showbackground": true,
            "ticks": "",
            "zerolinecolor": "white"
           },
           "zaxis": {
            "backgroundcolor": "#E5ECF6",
            "gridcolor": "white",
            "gridwidth": 2,
            "linecolor": "white",
            "showbackground": true,
            "ticks": "",
            "zerolinecolor": "white"
           }
          },
          "shapedefaults": {
           "line": {
            "color": "#2a3f5f"
           }
          },
          "ternary": {
           "aaxis": {
            "gridcolor": "white",
            "linecolor": "white",
            "ticks": ""
           },
           "baxis": {
            "gridcolor": "white",
            "linecolor": "white",
            "ticks": ""
           },
           "bgcolor": "#E5ECF6",
           "caxis": {
            "gridcolor": "white",
            "linecolor": "white",
            "ticks": ""
           }
          },
          "title": {
           "x": 0.05
          },
          "xaxis": {
           "automargin": true,
           "gridcolor": "white",
           "linecolor": "white",
           "ticks": "",
           "zerolinecolor": "white",
           "zerolinewidth": 2
          },
          "yaxis": {
           "automargin": true,
           "gridcolor": "white",
           "linecolor": "white",
           "ticks": "",
           "zerolinecolor": "white",
           "zerolinewidth": 2
          }
         }
        },
        "title": {
         "text": "Number of wins"
        },
        "xaxis": {
         "anchor": "y",
         "autorange": true,
         "categoryorder": "total descending",
         "domain": [
          0,
          0.98
         ],
         "range": [
          -0.5,
          9.5
         ],
         "title": {
          "text": "author"
         },
         "type": "category"
        },
        "yaxis": {
         "anchor": "x",
         "autorange": true,
         "domain": [
          0,
          1
         ],
         "range": [
          0,
          31.57894736842105
         ],
         "title": {
          "text": "wins"
         },
         "type": "linear"
        }
       }
      },
      "image/png": "[encoded data removed]",
      "text/html": [
       "<div>\n",
       "        \n",
       "        \n",
       "            <div id=\"78c6a0c1-223d-4a34-8c43-dde03220c172\" class=\"plotly-graph-div\" style=\"height:600px; width:100%;\"></div>\n",
       "            <script type=\"text/javascript\">\n",
       "                require([\"plotly\"], function(Plotly) {\n",
       "                    window.PLOTLYENV=window.PLOTLYENV || {};\n",
       "                    \n",
       "                if (document.getElementById(\"78c6a0c1-223d-4a34-8c43-dde03220c172\")) {\n",
       "                    Plotly.newPlot(\n",
       "                        '78c6a0c1-223d-4a34-8c43-dde03220c172',\n",
       "                        [{\"alignmentgroup\": \"True\", \"hoverlabel\": {\"namelength\": 0}, \"hovertemplate\": \"author=%{x}<br>wins=%{y}\", \"legendgroup\": \"\", \"marker\": {\"color\": \"#636efa\"}, \"name\": \"\", \"offsetgroup\": \"\", \"orientation\": \"v\", \"showlegend\": false, \"textposition\": \"auto\", \"type\": \"bar\", \"x\": [\"Ankit Pancakes\", \"Ben Alderfer\", \"Elliott Williams\", \"Ian Zanger\", \"Jessica Jiang\", \"Kedar Vaidya\", \"Nicky Semenza\", \"Paige Rossi\", \"Shreya Ramesh\", \"Usmann Khan\"], \"xaxis\": \"x\", \"y\": [6, 1, 3, 2, 5, 6, 6, 30, 6, 26], \"yaxis\": \"y\"}],\n",
       "                        {\"barmode\": \"relative\", \"height\": 600, \"legend\": {\"tracegroupgap\": 0}, \"margin\": {\"t\": 60}, \"template\": {\"data\": {\"bar\": [{\"error_x\": {\"color\": \"#2a3f5f\"}, \"error_y\": {\"color\": \"#2a3f5f\"}, \"marker\": {\"line\": {\"color\": \"#E5ECF6\", \"width\": 0.5}}, \"type\": \"bar\"}], \"barpolar\": [{\"marker\": {\"line\": {\"color\": \"#E5ECF6\", \"width\": 0.5}}, \"type\": \"barpolar\"}], \"carpet\": [{\"aaxis\": {\"endlinecolor\": \"#2a3f5f\", \"gridcolor\": \"white\", \"linecolor\": \"white\", \"minorgridcolor\": \"white\", \"startlinecolor\": \"#2a3f5f\"}, \"baxis\": {\"endlinecolor\": \"#2a3f5f\", \"gridcolor\": \"white\", \"linecolor\": \"white\", \"minorgridcolor\": \"white\", \"startlinecolor\": \"#2a3f5f\"}, \"type\": \"carpet\"}], \"choropleth\": [{\"colorbar\": {\"outlinewidth\": 0, \"ticks\": \"\"}, \"type\": \"choropleth\"}], \"contour\": [{\"colorbar\": {\"outlinewidth\": 0, \"ticks\": \"\"}, \"colorscale\": [[0.0, \"#0d0887\"], [0.1111111111111111, \"#46039f\"], [0.2222222222222222, \"#7201a8\"], [0.3333333333333333, \"#9c179e\"], [0.4444444444444444, \"#bd3786\"], [0.5555555555555556, \"#d8576b\"], [0.6666666666666666, \"#ed7953\"], [0.7777777777777778, \"#fb9f3a\"], [0.8888888888888888, \"#fdca26\"], [1.0, \"#f0f921\"]], \"type\": \"contour\"}], \"contourcarpet\": [{\"colorbar\": {\"outlinewidth\": 0, \"ticks\": \"\"}, \"type\": \"contourcarpet\"}], \"heatmap\": [{\"colorbar\": {\"outlinewidth\": 0, \"ticks\": \"\"}, \"colorscale\": [[0.0, \"#0d0887\"], [0.1111111111111111, \"#46039f\"], [0.2222222222222222, \"#7201a8\"], [0.3333333333333333, \"#9c179e\"], [0.4444444444444444, \"#bd3786\"], [0.5555555555555556, \"#d8576b\"], [0.6666666666666666, \"#ed7953\"], [0.7777777777777778, \"#fb9f3a\"], [0.8888888888888888, \"#fdca26\"], [1.0, \"#f0f921\"]], \"type\": \"heatmap\"}], \"heatmapgl\": [{\"colorbar\": {\"outlinewidth\": 0, \"ticks\": \"\"}, \"colorscale\": [[0.0, \"#0d0887\"], [0.1111111111111111, \"#46039f\"], [0.2222222222222222, \"#7201a8\"], [0.3333333333333333, \"#9c179e\"], [0.4444444444444444, \"#bd3786\"], [0.5555555555555556, \"#d8576b\"], [0.6666666666666666, \"#ed7953\"], [0.7777777777777778, \"#fb9f3a\"], [0.8888888888888888, \"#fdca26\"], [1.0, \"#f0f921\"]], \"type\": \"heatmapgl\"}], \"histogram\": [{\"marker\": {\"colorbar\": {\"outlinewidth\": 0, \"ticks\": \"\"}}, \"type\": \"histogram\"}], \"histogram2d\": [{\"colorbar\": {\"outlinewidth\": 0, \"ticks\": \"\"}, \"colorscale\": [[0.0, \"#0d0887\"], [0.1111111111111111, \"#46039f\"], [0.2222222222222222, \"#7201a8\"], [0.3333333333333333, \"#9c179e\"], [0.4444444444444444, \"#bd3786\"], [0.5555555555555556, \"#d8576b\"], [0.6666666666666666, \"#ed7953\"], [0.7777777777777778, \"#fb9f3a\"], [0.8888888888888888, \"#fdca26\"], [1.0, \"#f0f921\"]], \"type\": \"histogram2d\"}], \"histogram2dcontour\": [{\"colorbar\": {\"outlinewidth\": 0, \"ticks\": \"\"}, \"colorscale\": [[0.0, \"#0d0887\"], [0.1111111111111111, \"#46039f\"], [0.2222222222222222, \"#7201a8\"], [0.3333333333333333, \"#9c179e\"], [0.4444444444444444, \"#bd3786\"], [0.5555555555555556, \"#d8576b\"], [0.6666666666666666, \"#ed7953\"], [0.7777777777777778, \"#fb9f3a\"], [0.8888888888888888, \"#fdca26\"], [1.0, \"#f0f921\"]], \"type\": \"histogram2dcontour\"}], \"mesh3d\": [{\"colorbar\": {\"outlinewidth\": 0, \"ticks\": \"\"}, \"type\": \"mesh3d\"}], \"parcoords\": [{\"line\": {\"colorbar\": {\"outlinewidth\": 0, \"ticks\": \"\"}}, \"type\": \"parcoords\"}], \"scatter\": [{\"marker\": {\"colorbar\": {\"outlinewidth\": 0, \"ticks\": \"\"}}, \"type\": \"scatter\"}], \"scatter3d\": [{\"line\": {\"colorbar\": {\"outlinewidth\": 0, \"ticks\": \"\"}}, \"marker\": {\"colorbar\": {\"outlinewidth\": 0, \"ticks\": \"\"}}, \"type\": \"scatter3d\"}], \"scattercarpet\": [{\"marker\": {\"colorbar\": {\"outlinewidth\": 0, \"ticks\": \"\"}}, \"type\": \"scattercarpet\"}], \"scattergeo\": [{\"marker\": {\"colorbar\": {\"outlinewidth\": 0, \"ticks\": \"\"}}, \"type\": \"scattergeo\"}], \"scattergl\": [{\"marker\": {\"colorbar\": {\"outlinewidth\": 0, \"ticks\": \"\"}}, \"type\": \"scattergl\"}], \"scattermapbox\": [{\"marker\": {\"colorbar\": {\"outlinewidth\": 0, \"ticks\": \"\"}}, \"type\": \"scattermapbox\"}], \"scatterpolar\": [{\"marker\": {\"colorbar\": {\"outlinewidth\": 0, \"ticks\": \"\"}}, \"type\": \"scatterpolar\"}], \"scatterpolargl\": [{\"marker\": {\"colorbar\": {\"outlinewidth\": 0, \"ticks\": \"\"}}, \"type\": \"scatterpolargl\"}], \"scatterternary\": [{\"marker\": {\"colorbar\": {\"outlinewidth\": 0, \"ticks\": \"\"}}, \"type\": \"scatterternary\"}], \"surface\": [{\"colorbar\": {\"outlinewidth\": 0, \"ticks\": \"\"}, \"colorscale\": [[0.0, \"#0d0887\"], [0.1111111111111111, \"#46039f\"], [0.2222222222222222, \"#7201a8\"], [0.3333333333333333, \"#9c179e\"], [0.4444444444444444, \"#bd3786\"], [0.5555555555555556, \"#d8576b\"], [0.6666666666666666, \"#ed7953\"], [0.7777777777777778, \"#fb9f3a\"], [0.8888888888888888, \"#fdca26\"], [1.0, \"#f0f921\"]], \"type\": \"surface\"}], \"table\": [{\"cells\": {\"fill\": {\"color\": \"#EBF0F8\"}, \"line\": {\"color\": \"white\"}}, \"header\": {\"fill\": {\"color\": \"#C8D4E3\"}, \"line\": {\"color\": \"white\"}}, \"type\": \"table\"}]}, \"layout\": {\"annotationdefaults\": {\"arrowcolor\": \"#2a3f5f\", \"arrowhead\": 0, \"arrowwidth\": 1}, \"colorscale\": {\"diverging\": [[0, \"#8e0152\"], [0.1, \"#c51b7d\"], [0.2, \"#de77ae\"], [0.3, \"#f1b6da\"], [0.4, \"#fde0ef\"], [0.5, \"#f7f7f7\"], [0.6, \"#e6f5d0\"], [0.7, \"#b8e186\"], [0.8, \"#7fbc41\"], [0.9, \"#4d9221\"], [1, \"#276419\"]], \"sequential\": [[0.0, \"#0d0887\"], [0.1111111111111111, \"#46039f\"], [0.2222222222222222, \"#7201a8\"], [0.3333333333333333, \"#9c179e\"], [0.4444444444444444, \"#bd3786\"], [0.5555555555555556, \"#d8576b\"], [0.6666666666666666, \"#ed7953\"], [0.7777777777777778, \"#fb9f3a\"], [0.8888888888888888, \"#fdca26\"], [1.0, \"#f0f921\"]], \"sequentialminus\": [[0.0, \"#0d0887\"], [0.1111111111111111, \"#46039f\"], [0.2222222222222222, \"#7201a8\"], [0.3333333333333333, \"#9c179e\"], [0.4444444444444444, \"#bd3786\"], [0.5555555555555556, \"#d8576b\"], [0.6666666666666666, \"#ed7953\"], [0.7777777777777778, \"#fb9f3a\"], [0.8888888888888888, \"#fdca26\"], [1.0, \"#f0f921\"]]}, \"colorway\": [\"#636efa\", \"#EF553B\", \"#00cc96\", \"#ab63fa\", \"#FFA15A\", \"#19d3f3\", \"#FF6692\", \"#B6E880\", \"#FF97FF\", \"#FECB52\"], \"font\": {\"color\": \"#2a3f5f\"}, \"geo\": {\"bgcolor\": \"white\", \"lakecolor\": \"white\", \"landcolor\": \"#E5ECF6\", \"showlakes\": true, \"showland\": true, \"subunitcolor\": \"white\"}, \"hoverlabel\": {\"align\": \"left\"}, \"hovermode\": \"closest\", \"mapbox\": {\"style\": \"light\"}, \"paper_bgcolor\": \"white\", \"plot_bgcolor\": \"#E5ECF6\", \"polar\": {\"angularaxis\": {\"gridcolor\": \"white\", \"linecolor\": \"white\", \"ticks\": \"\"}, \"bgcolor\": \"#E5ECF6\", \"radialaxis\": {\"gridcolor\": \"white\", \"linecolor\": \"white\", \"ticks\": \"\"}}, \"scene\": {\"xaxis\": {\"backgroundcolor\": \"#E5ECF6\", \"gridcolor\": \"white\", \"gridwidth\": 2, \"linecolor\": \"white\", \"showbackground\": true, \"ticks\": \"\", \"zerolinecolor\": \"white\"}, \"yaxis\": {\"backgroundcolor\": \"#E5ECF6\", \"gridcolor\": \"white\", \"gridwidth\": 2, \"linecolor\": \"white\", \"showbackground\": true, \"ticks\": \"\", \"zerolinecolor\": \"white\"}, \"zaxis\": {\"backgroundcolor\": \"#E5ECF6\", \"gridcolor\": \"white\", \"gridwidth\": 2, \"linecolor\": \"white\", \"showbackground\": true, \"ticks\": \"\", \"zerolinecolor\": \"white\"}}, \"shapedefaults\": {\"line\": {\"color\": \"#2a3f5f\"}}, \"ternary\": {\"aaxis\": {\"gridcolor\": \"white\", \"linecolor\": \"white\", \"ticks\": \"\"}, \"baxis\": {\"gridcolor\": \"white\", \"linecolor\": \"white\", \"ticks\": \"\"}, \"bgcolor\": \"#E5ECF6\", \"caxis\": {\"gridcolor\": \"white\", \"linecolor\": \"white\", \"ticks\": \"\"}}, \"title\": {\"x\": 0.05}, \"xaxis\": {\"automargin\": true, \"gridcolor\": \"white\", \"linecolor\": \"white\", \"ticks\": \"\", \"zerolinecolor\": \"white\", \"zerolinewidth\": 2}, \"yaxis\": {\"automargin\": true, \"gridcolor\": \"white\", \"linecolor\": \"white\", \"ticks\": \"\", \"zerolinecolor\": \"white\", \"zerolinewidth\": 2}}}, \"title\": {\"text\": \"Number of wins\"}, \"xaxis\": {\"anchor\": \"y\", \"categoryorder\": \"total descending\", \"domain\": [0.0, 0.98], \"title\": {\"text\": \"author\"}}, \"yaxis\": {\"anchor\": \"x\", \"domain\": [0.0, 1.0], \"title\": {\"text\": \"wins\"}}},\n",
       "                        {\"responsive\": true}\n",
       "                    ).then(function(){\n",
       "                            \n",
       "var gd = document.getElementById('78c6a0c1-223d-4a34-8c43-dde03220c172');\n",
       "var x = new MutationObserver(function (mutations, observer) {{\n",
       "        var display = window.getComputedStyle(gd).display;\n",
       "        if (!display || display === 'none') {{\n",
       "            console.log([gd, 'removed!']);\n",
       "            Plotly.purge(gd);\n",
       "            observer.disconnect();\n",
       "        }}\n",
       "}});\n",
       "\n",
       "// Listen for the removal of the full notebook cells\n",
       "var notebookContainer = gd.closest('#notebook-container');\n",
       "if (notebookContainer) {{\n",
       "    x.observe(notebookContainer, {childList: true});\n",
       "}}\n",
       "\n",
       "// Listen for the clearing of the current output cell\n",
       "var outputEl = gd.closest('.output');\n",
       "if (outputEl) {{\n",
       "    x.observe(outputEl, {childList: true});\n",
       "}}\n",
       "\n",
       "                        })\n",
       "                };\n",
       "                });\n",
       "            </script>\n",
       "        </div>"
      ]
     },
     "metadata": {},
     "output_type": "display_data"
    }
   ],
   "source": [
    "px.bar(wins, y='wins', x='author').update_xaxes(categoryorder='total descending').update_layout(title='Number of wins')"
   ]
  },
  {
   "cell_type": "markdown",
   "metadata": {},
   "source": [
    "### Question: How much do we post?"
   ]
  },
  {
   "cell_type": "code",
   "execution_count": 139,
   "metadata": {},
   "outputs": [],
   "source": [
    "posts = df['author'].value_counts().to_frame()\n",
    "posts['val'] = posts['author']\n",
    "posts['author'] = posts.index"
   ]
  },
  {
   "cell_type": "code",
   "execution_count": 141,
   "metadata": {},
   "outputs": [
    {
     "data": {
      "application/vnd.plotly.v1+json": {
       "config": {
        "plotlyServerURL": "https://plot.ly"
       },
       "data": [
        {
         "alignmentgroup": "True",
         "hoverlabel": {
          "namelength": 0
         },
         "hovertemplate": "author=%{x}<br>val=%{y}",
         "legendgroup": "",
         "marker": {
          "color": "#636efa"
         },
         "name": "",
         "offsetgroup": "",
         "orientation": "v",
         "showlegend": false,
         "textposition": "auto",
         "type": "bar",
         "x": [
          "Ankit Pancakes",
          "Usmann Khan",
          "Paige Rossi",
          "Kedar Vaidya",
          "Jessica Jiang",
          "Nicky Semenza",
          "Ben Alderfer",
          "Shreya Ramesh",
          "Peter Kfoury",
          "Max Lin",
          "Ian Zanger",
          "Elliott Williams",
          "Jenna Dambek",
          "Vasudha Kashyap",
          "Jake Brabec",
          "Seungyeon Shin",
          "Edwin Stanley"
         ],
         "xaxis": "x",
         "y": [
          72,
          71,
          59,
          49,
          42,
          42,
          30,
          25,
          22,
          21,
          20,
          17,
          16,
          15,
          9,
          7,
          5
         ],
         "yaxis": "y"
        }
       ],
       "layout": {
        "autosize": true,
        "barmode": "relative",
        "legend": {
         "tracegroupgap": 0
        },
        "margin": {
         "t": 60
        },
        "template": {
         "data": {
          "bar": [
           {
            "error_x": {
             "color": "#2a3f5f"
            },
            "error_y": {
             "color": "#2a3f5f"
            },
            "marker": {
             "line": {
              "color": "#E5ECF6",
              "width": 0.5
             }
            },
            "type": "bar"
           }
          ],
          "barpolar": [
           {
            "marker": {
             "line": {
              "color": "#E5ECF6",
              "width": 0.5
             }
            },
            "type": "barpolar"
           }
          ],
          "carpet": [
           {
            "aaxis": {
             "endlinecolor": "#2a3f5f",
             "gridcolor": "white",
             "linecolor": "white",
             "minorgridcolor": "white",
             "startlinecolor": "#2a3f5f"
            },
            "baxis": {
             "endlinecolor": "#2a3f5f",
             "gridcolor": "white",
             "linecolor": "white",
             "minorgridcolor": "white",
             "startlinecolor": "#2a3f5f"
            },
            "type": "carpet"
           }
          ],
          "choropleth": [
           {
            "colorbar": {
             "outlinewidth": 0,
             "ticks": ""
            },
            "type": "choropleth"
           }
          ],
          "contour": [
           {
            "colorbar": {
             "outlinewidth": 0,
             "ticks": ""
            },
            "colorscale": [
             [
              0,
              "#0d0887"
             ],
             [
              0.1111111111111111,
              "#46039f"
             ],
             [
              0.2222222222222222,
              "#7201a8"
             ],
             [
              0.3333333333333333,
              "#9c179e"
             ],
             [
              0.4444444444444444,
              "#bd3786"
             ],
             [
              0.5555555555555556,
              "#d8576b"
             ],
             [
              0.6666666666666666,
              "#ed7953"
             ],
             [
              0.7777777777777778,
              "#fb9f3a"
             ],
             [
              0.8888888888888888,
              "#fdca26"
             ],
             [
              1,
              "#f0f921"
             ]
            ],
            "type": "contour"
           }
          ],
          "contourcarpet": [
           {
            "colorbar": {
             "outlinewidth": 0,
             "ticks": ""
            },
            "type": "contourcarpet"
           }
          ],
          "heatmap": [
           {
            "colorbar": {
             "outlinewidth": 0,
             "ticks": ""
            },
            "colorscale": [
             [
              0,
              "#0d0887"
             ],
             [
              0.1111111111111111,
              "#46039f"
             ],
             [
              0.2222222222222222,
              "#7201a8"
             ],
             [
              0.3333333333333333,
              "#9c179e"
             ],
             [
              0.4444444444444444,
              "#bd3786"
             ],
             [
              0.5555555555555556,
              "#d8576b"
             ],
             [
              0.6666666666666666,
              "#ed7953"
             ],
             [
              0.7777777777777778,
              "#fb9f3a"
             ],
             [
              0.8888888888888888,
              "#fdca26"
             ],
             [
              1,
              "#f0f921"
             ]
            ],
            "type": "heatmap"
           }
          ],
          "heatmapgl": [
           {
            "colorbar": {
             "outlinewidth": 0,
             "ticks": ""
            },
            "colorscale": [
             [
              0,
              "#0d0887"
             ],
             [
              0.1111111111111111,
              "#46039f"
             ],
             [
              0.2222222222222222,
              "#7201a8"
             ],
             [
              0.3333333333333333,
              "#9c179e"
             ],
             [
              0.4444444444444444,
              "#bd3786"
             ],
             [
              0.5555555555555556,
              "#d8576b"
             ],
             [
              0.6666666666666666,
              "#ed7953"
             ],
             [
              0.7777777777777778,
              "#fb9f3a"
             ],
             [
              0.8888888888888888,
              "#fdca26"
             ],
             [
              1,
              "#f0f921"
             ]
            ],
            "type": "heatmapgl"
           }
          ],
          "histogram": [
           {
            "marker": {
             "colorbar": {
              "outlinewidth": 0,
              "ticks": ""
             }
            },
            "type": "histogram"
           }
          ],
          "histogram2d": [
           {
            "colorbar": {
             "outlinewidth": 0,
             "ticks": ""
            },
            "colorscale": [
             [
              0,
              "#0d0887"
             ],
             [
              0.1111111111111111,
              "#46039f"
             ],
             [
              0.2222222222222222,
              "#7201a8"
             ],
             [
              0.3333333333333333,
              "#9c179e"
             ],
             [
              0.4444444444444444,
              "#bd3786"
             ],
             [
              0.5555555555555556,
              "#d8576b"
             ],
             [
              0.6666666666666666,
              "#ed7953"
             ],
             [
              0.7777777777777778,
              "#fb9f3a"
             ],
             [
              0.8888888888888888,
              "#fdca26"
             ],
             [
              1,
              "#f0f921"
             ]
            ],
            "type": "histogram2d"
           }
          ],
          "histogram2dcontour": [
           {
            "colorbar": {
             "outlinewidth": 0,
             "ticks": ""
            },
            "colorscale": [
             [
              0,
              "#0d0887"
             ],
             [
              0.1111111111111111,
              "#46039f"
             ],
             [
              0.2222222222222222,
              "#7201a8"
             ],
             [
              0.3333333333333333,
              "#9c179e"
             ],
             [
              0.4444444444444444,
              "#bd3786"
             ],
             [
              0.5555555555555556,
              "#d8576b"
             ],
             [
              0.6666666666666666,
              "#ed7953"
             ],
             [
              0.7777777777777778,
              "#fb9f3a"
             ],
             [
              0.8888888888888888,
              "#fdca26"
             ],
             [
              1,
              "#f0f921"
             ]
            ],
            "type": "histogram2dcontour"
           }
          ],
          "mesh3d": [
           {
            "colorbar": {
             "outlinewidth": 0,
             "ticks": ""
            },
            "type": "mesh3d"
           }
          ],
          "parcoords": [
           {
            "line": {
             "colorbar": {
              "outlinewidth": 0,
              "ticks": ""
             }
            },
            "type": "parcoords"
           }
          ],
          "scatter": [
           {
            "marker": {
             "colorbar": {
              "outlinewidth": 0,
              "ticks": ""
             }
            },
            "type": "scatter"
           }
          ],
          "scatter3d": [
           {
            "line": {
             "colorbar": {
              "outlinewidth": 0,
              "ticks": ""
             }
            },
            "marker": {
             "colorbar": {
              "outlinewidth": 0,
              "ticks": ""
             }
            },
            "type": "scatter3d"
           }
          ],
          "scattercarpet": [
           {
            "marker": {
             "colorbar": {
              "outlinewidth": 0,
              "ticks": ""
             }
            },
            "type": "scattercarpet"
           }
          ],
          "scattergeo": [
           {
            "marker": {
             "colorbar": {
              "outlinewidth": 0,
              "ticks": ""
             }
            },
            "type": "scattergeo"
           }
          ],
          "scattergl": [
           {
            "marker": {
             "colorbar": {
              "outlinewidth": 0,
              "ticks": ""
             }
            },
            "type": "scattergl"
           }
          ],
          "scattermapbox": [
           {
            "marker": {
             "colorbar": {
              "outlinewidth": 0,
              "ticks": ""
             }
            },
            "type": "scattermapbox"
           }
          ],
          "scatterpolar": [
           {
            "marker": {
             "colorbar": {
              "outlinewidth": 0,
              "ticks": ""
             }
            },
            "type": "scatterpolar"
           }
          ],
          "scatterpolargl": [
           {
            "marker": {
             "colorbar": {
              "outlinewidth": 0,
              "ticks": ""
             }
            },
            "type": "scatterpolargl"
           }
          ],
          "scatterternary": [
           {
            "marker": {
             "colorbar": {
              "outlinewidth": 0,
              "ticks": ""
             }
            },
            "type": "scatterternary"
           }
          ],
          "surface": [
           {
            "colorbar": {
             "outlinewidth": 0,
             "ticks": ""
            },
            "colorscale": [
             [
              0,
              "#0d0887"
             ],
             [
              0.1111111111111111,
              "#46039f"
             ],
             [
              0.2222222222222222,
              "#7201a8"
             ],
             [
              0.3333333333333333,
              "#9c179e"
             ],
             [
              0.4444444444444444,
              "#bd3786"
             ],
             [
              0.5555555555555556,
              "#d8576b"
             ],
             [
              0.6666666666666666,
              "#ed7953"
             ],
             [
              0.7777777777777778,
              "#fb9f3a"
             ],
             [
              0.8888888888888888,
              "#fdca26"
             ],
             [
              1,
              "#f0f921"
             ]
            ],
            "type": "surface"
           }
          ],
          "table": [
           {
            "cells": {
             "fill": {
              "color": "#EBF0F8"
             },
             "line": {
              "color": "white"
             }
            },
            "header": {
             "fill": {
              "color": "#C8D4E3"
             },
             "line": {
              "color": "white"
             }
            },
            "type": "table"
           }
          ]
         },
         "layout": {
          "annotationdefaults": {
           "arrowcolor": "#2a3f5f",
           "arrowhead": 0,
           "arrowwidth": 1
          },
          "colorscale": {
           "diverging": [
            [
             0,
             "#8e0152"
            ],
            [
             0.1,
             "#c51b7d"
            ],
            [
             0.2,
             "#de77ae"
            ],
            [
             0.3,
             "#f1b6da"
            ],
            [
             0.4,
             "#fde0ef"
            ],
            [
             0.5,
             "#f7f7f7"
            ],
            [
             0.6,
             "#e6f5d0"
            ],
            [
             0.7,
             "#b8e186"
            ],
            [
             0.8,
             "#7fbc41"
            ],
            [
             0.9,
             "#4d9221"
            ],
            [
             1,
             "#276419"
            ]
           ],
           "sequential": [
            [
             0,
             "#0d0887"
            ],
            [
             0.1111111111111111,
             "#46039f"
            ],
            [
             0.2222222222222222,
             "#7201a8"
            ],
            [
             0.3333333333333333,
             "#9c179e"
            ],
            [
             0.4444444444444444,
             "#bd3786"
            ],
            [
             0.5555555555555556,
             "#d8576b"
            ],
            [
             0.6666666666666666,
             "#ed7953"
            ],
            [
             0.7777777777777778,
             "#fb9f3a"
            ],
            [
             0.8888888888888888,
             "#fdca26"
            ],
            [
             1,
             "#f0f921"
            ]
           ],
           "sequentialminus": [
            [
             0,
             "#0d0887"
            ],
            [
             0.1111111111111111,
             "#46039f"
            ],
            [
             0.2222222222222222,
             "#7201a8"
            ],
            [
             0.3333333333333333,
             "#9c179e"
            ],
            [
             0.4444444444444444,
             "#bd3786"
            ],
            [
             0.5555555555555556,
             "#d8576b"
            ],
            [
             0.6666666666666666,
             "#ed7953"
            ],
            [
             0.7777777777777778,
             "#fb9f3a"
            ],
            [
             0.8888888888888888,
             "#fdca26"
            ],
            [
             1,
             "#f0f921"
            ]
           ]
          },
          "colorway": [
           "#636efa",
           "#EF553B",
           "#00cc96",
           "#ab63fa",
           "#FFA15A",
           "#19d3f3",
           "#FF6692",
           "#B6E880",
           "#FF97FF",
           "#FECB52"
          ],
          "font": {
           "color": "#2a3f5f"
          },
          "geo": {
           "bgcolor": "white",
           "lakecolor": "white",
           "landcolor": "#E5ECF6",
           "showlakes": true,
           "showland": true,
           "subunitcolor": "white"
          },
          "hoverlabel": {
           "align": "left"
          },
          "hovermode": "closest",
          "mapbox": {
           "style": "light"
          },
          "paper_bgcolor": "white",
          "plot_bgcolor": "#E5ECF6",
          "polar": {
           "angularaxis": {
            "gridcolor": "white",
            "linecolor": "white",
            "ticks": ""
           },
           "bgcolor": "#E5ECF6",
           "radialaxis": {
            "gridcolor": "white",
            "linecolor": "white",
            "ticks": ""
           }
          },
          "scene": {
           "xaxis": {
            "backgroundcolor": "#E5ECF6",
            "gridcolor": "white",
            "gridwidth": 2,
            "linecolor": "white",
            "showbackground": true,
            "ticks": "",
            "zerolinecolor": "white"
           },
           "yaxis": {
            "backgroundcolor": "#E5ECF6",
            "gridcolor": "white",
            "gridwidth": 2,
            "linecolor": "white",
            "showbackground": true,
            "ticks": "",
            "zerolinecolor": "white"
           },
           "zaxis": {
            "backgroundcolor": "#E5ECF6",
            "gridcolor": "white",
            "gridwidth": 2,
            "linecolor": "white",
            "showbackground": true,
            "ticks": "",
            "zerolinecolor": "white"
           }
          },
          "shapedefaults": {
           "line": {
            "color": "#2a3f5f"
           }
          },
          "ternary": {
           "aaxis": {
            "gridcolor": "white",
            "linecolor": "white",
            "ticks": ""
           },
           "baxis": {
            "gridcolor": "white",
            "linecolor": "white",
            "ticks": ""
           },
           "bgcolor": "#E5ECF6",
           "caxis": {
            "gridcolor": "white",
            "linecolor": "white",
            "ticks": ""
           }
          },
          "title": {
           "x": 0.05
          },
          "xaxis": {
           "automargin": true,
           "gridcolor": "white",
           "linecolor": "white",
           "ticks": "",
           "zerolinecolor": "white",
           "zerolinewidth": 2
          },
          "yaxis": {
           "automargin": true,
           "gridcolor": "white",
           "linecolor": "white",
           "ticks": "",
           "zerolinecolor": "white",
           "zerolinewidth": 2
          }
         }
        },
        "title": {
         "text": "Number of submissions"
        },
        "xaxis": {
         "anchor": "y",
         "autorange": true,
         "domain": [
          0,
          0.98
         ],
         "range": [
          -0.5,
          16.5
         ],
         "title": {
          "text": "author"
         },
         "type": "category"
        },
        "yaxis": {
         "anchor": "x",
         "autorange": true,
         "domain": [
          0,
          1
         ],
         "range": [
          0,
          75.78947368421052
         ],
         "title": {
          "text": "val"
         },
         "type": "linear"
        }
       }
      },
      "image/png": "[encoded data removed]",
      "text/html": [
       "<div>\n",
       "        \n",
       "        \n",
       "            <div id=\"52979a3f-938f-4e00-9d86-a9fb7e8aebed\" class=\"plotly-graph-div\" style=\"height:600px; width:100%;\"></div>\n",
       "            <script type=\"text/javascript\">\n",
       "                require([\"plotly\"], function(Plotly) {\n",
       "                    window.PLOTLYENV=window.PLOTLYENV || {};\n",
       "                    \n",
       "                if (document.getElementById(\"52979a3f-938f-4e00-9d86-a9fb7e8aebed\")) {\n",
       "                    Plotly.newPlot(\n",
       "                        '52979a3f-938f-4e00-9d86-a9fb7e8aebed',\n",
       "                        [{\"alignmentgroup\": \"True\", \"hoverlabel\": {\"namelength\": 0}, \"hovertemplate\": \"author=%{x}<br>val=%{y}\", \"legendgroup\": \"\", \"marker\": {\"color\": \"#636efa\"}, \"name\": \"\", \"offsetgroup\": \"\", \"orientation\": \"v\", \"showlegend\": false, \"textposition\": \"auto\", \"type\": \"bar\", \"x\": [\"Ankit Pancakes\", \"Usmann Khan\", \"Paige Rossi\", \"Kedar Vaidya\", \"Jessica Jiang\", \"Nicky Semenza\", \"Ben Alderfer\", \"Shreya Ramesh\", \"Peter Kfoury\", \"Max Lin\", \"Ian Zanger\", \"Elliott Williams\", \"Jenna Dambek\", \"Vasudha Kashyap\", \"Jake Brabec\", \"Seungyeon Shin\", \"Edwin Stanley\"], \"xaxis\": \"x\", \"y\": [72, 71, 59, 49, 42, 42, 30, 25, 22, 21, 20, 17, 16, 15, 9, 7, 5], \"yaxis\": \"y\"}],\n",
       "                        {\"barmode\": \"relative\", \"height\": 600, \"legend\": {\"tracegroupgap\": 0}, \"margin\": {\"t\": 60}, \"template\": {\"data\": {\"bar\": [{\"error_x\": {\"color\": \"#2a3f5f\"}, \"error_y\": {\"color\": \"#2a3f5f\"}, \"marker\": {\"line\": {\"color\": \"#E5ECF6\", \"width\": 0.5}}, \"type\": \"bar\"}], \"barpolar\": [{\"marker\": {\"line\": {\"color\": \"#E5ECF6\", \"width\": 0.5}}, \"type\": \"barpolar\"}], \"carpet\": [{\"aaxis\": {\"endlinecolor\": \"#2a3f5f\", \"gridcolor\": \"white\", \"linecolor\": \"white\", \"minorgridcolor\": \"white\", \"startlinecolor\": \"#2a3f5f\"}, \"baxis\": {\"endlinecolor\": \"#2a3f5f\", \"gridcolor\": \"white\", \"linecolor\": \"white\", \"minorgridcolor\": \"white\", \"startlinecolor\": \"#2a3f5f\"}, \"type\": \"carpet\"}], \"choropleth\": [{\"colorbar\": {\"outlinewidth\": 0, \"ticks\": \"\"}, \"type\": \"choropleth\"}], \"contour\": [{\"colorbar\": {\"outlinewidth\": 0, \"ticks\": \"\"}, \"colorscale\": [[0.0, \"#0d0887\"], [0.1111111111111111, \"#46039f\"], [0.2222222222222222, \"#7201a8\"], [0.3333333333333333, \"#9c179e\"], [0.4444444444444444, \"#bd3786\"], [0.5555555555555556, \"#d8576b\"], [0.6666666666666666, \"#ed7953\"], [0.7777777777777778, \"#fb9f3a\"], [0.8888888888888888, \"#fdca26\"], [1.0, \"#f0f921\"]], \"type\": \"contour\"}], \"contourcarpet\": [{\"colorbar\": {\"outlinewidth\": 0, \"ticks\": \"\"}, \"type\": \"contourcarpet\"}], \"heatmap\": [{\"colorbar\": {\"outlinewidth\": 0, \"ticks\": \"\"}, \"colorscale\": [[0.0, \"#0d0887\"], [0.1111111111111111, \"#46039f\"], [0.2222222222222222, \"#7201a8\"], [0.3333333333333333, \"#9c179e\"], [0.4444444444444444, \"#bd3786\"], [0.5555555555555556, \"#d8576b\"], [0.6666666666666666, \"#ed7953\"], [0.7777777777777778, \"#fb9f3a\"], [0.8888888888888888, \"#fdca26\"], [1.0, \"#f0f921\"]], \"type\": \"heatmap\"}], \"heatmapgl\": [{\"colorbar\": {\"outlinewidth\": 0, \"ticks\": \"\"}, \"colorscale\": [[0.0, \"#0d0887\"], [0.1111111111111111, \"#46039f\"], [0.2222222222222222, \"#7201a8\"], [0.3333333333333333, \"#9c179e\"], [0.4444444444444444, \"#bd3786\"], [0.5555555555555556, \"#d8576b\"], [0.6666666666666666, \"#ed7953\"], [0.7777777777777778, \"#fb9f3a\"], [0.8888888888888888, \"#fdca26\"], [1.0, \"#f0f921\"]], \"type\": \"heatmapgl\"}], \"histogram\": [{\"marker\": {\"colorbar\": {\"outlinewidth\": 0, \"ticks\": \"\"}}, \"type\": \"histogram\"}], \"histogram2d\": [{\"colorbar\": {\"outlinewidth\": 0, \"ticks\": \"\"}, \"colorscale\": [[0.0, \"#0d0887\"], [0.1111111111111111, \"#46039f\"], [0.2222222222222222, \"#7201a8\"], [0.3333333333333333, \"#9c179e\"], [0.4444444444444444, \"#bd3786\"], [0.5555555555555556, \"#d8576b\"], [0.6666666666666666, \"#ed7953\"], [0.7777777777777778, \"#fb9f3a\"], [0.8888888888888888, \"#fdca26\"], [1.0, \"#f0f921\"]], \"type\": \"histogram2d\"}], \"histogram2dcontour\": [{\"colorbar\": {\"outlinewidth\": 0, \"ticks\": \"\"}, \"colorscale\": [[0.0, \"#0d0887\"], [0.1111111111111111, \"#46039f\"], [0.2222222222222222, \"#7201a8\"], [0.3333333333333333, \"#9c179e\"], [0.4444444444444444, \"#bd3786\"], [0.5555555555555556, \"#d8576b\"], [0.6666666666666666, \"#ed7953\"], [0.7777777777777778, \"#fb9f3a\"], [0.8888888888888888, \"#fdca26\"], [1.0, \"#f0f921\"]], \"type\": \"histogram2dcontour\"}], \"mesh3d\": [{\"colorbar\": {\"outlinewidth\": 0, \"ticks\": \"\"}, \"type\": \"mesh3d\"}], \"parcoords\": [{\"line\": {\"colorbar\": {\"outlinewidth\": 0, \"ticks\": \"\"}}, \"type\": \"parcoords\"}], \"scatter\": [{\"marker\": {\"colorbar\": {\"outlinewidth\": 0, \"ticks\": \"\"}}, \"type\": \"scatter\"}], \"scatter3d\": [{\"line\": {\"colorbar\": {\"outlinewidth\": 0, \"ticks\": \"\"}}, \"marker\": {\"colorbar\": {\"outlinewidth\": 0, \"ticks\": \"\"}}, \"type\": \"scatter3d\"}], \"scattercarpet\": [{\"marker\": {\"colorbar\": {\"outlinewidth\": 0, \"ticks\": \"\"}}, \"type\": \"scattercarpet\"}], \"scattergeo\": [{\"marker\": {\"colorbar\": {\"outlinewidth\": 0, \"ticks\": \"\"}}, \"type\": \"scattergeo\"}], \"scattergl\": [{\"marker\": {\"colorbar\": {\"outlinewidth\": 0, \"ticks\": \"\"}}, \"type\": \"scattergl\"}], \"scattermapbox\": [{\"marker\": {\"colorbar\": {\"outlinewidth\": 0, \"ticks\": \"\"}}, \"type\": \"scattermapbox\"}], \"scatterpolar\": [{\"marker\": {\"colorbar\": {\"outlinewidth\": 0, \"ticks\": \"\"}}, \"type\": \"scatterpolar\"}], \"scatterpolargl\": [{\"marker\": {\"colorbar\": {\"outlinewidth\": 0, \"ticks\": \"\"}}, \"type\": \"scatterpolargl\"}], \"scatterternary\": [{\"marker\": {\"colorbar\": {\"outlinewidth\": 0, \"ticks\": \"\"}}, \"type\": \"scatterternary\"}], \"surface\": [{\"colorbar\": {\"outlinewidth\": 0, \"ticks\": \"\"}, \"colorscale\": [[0.0, \"#0d0887\"], [0.1111111111111111, \"#46039f\"], [0.2222222222222222, \"#7201a8\"], [0.3333333333333333, \"#9c179e\"], [0.4444444444444444, \"#bd3786\"], [0.5555555555555556, \"#d8576b\"], [0.6666666666666666, \"#ed7953\"], [0.7777777777777778, \"#fb9f3a\"], [0.8888888888888888, \"#fdca26\"], [1.0, \"#f0f921\"]], \"type\": \"surface\"}], \"table\": [{\"cells\": {\"fill\": {\"color\": \"#EBF0F8\"}, \"line\": {\"color\": \"white\"}}, \"header\": {\"fill\": {\"color\": \"#C8D4E3\"}, \"line\": {\"color\": \"white\"}}, \"type\": \"table\"}]}, \"layout\": {\"annotationdefaults\": {\"arrowcolor\": \"#2a3f5f\", \"arrowhead\": 0, \"arrowwidth\": 1}, \"colorscale\": {\"diverging\": [[0, \"#8e0152\"], [0.1, \"#c51b7d\"], [0.2, \"#de77ae\"], [0.3, \"#f1b6da\"], [0.4, \"#fde0ef\"], [0.5, \"#f7f7f7\"], [0.6, \"#e6f5d0\"], [0.7, \"#b8e186\"], [0.8, \"#7fbc41\"], [0.9, \"#4d9221\"], [1, \"#276419\"]], \"sequential\": [[0.0, \"#0d0887\"], [0.1111111111111111, \"#46039f\"], [0.2222222222222222, \"#7201a8\"], [0.3333333333333333, \"#9c179e\"], [0.4444444444444444, \"#bd3786\"], [0.5555555555555556, \"#d8576b\"], [0.6666666666666666, \"#ed7953\"], [0.7777777777777778, \"#fb9f3a\"], [0.8888888888888888, \"#fdca26\"], [1.0, \"#f0f921\"]], \"sequentialminus\": [[0.0, \"#0d0887\"], [0.1111111111111111, \"#46039f\"], [0.2222222222222222, \"#7201a8\"], [0.3333333333333333, \"#9c179e\"], [0.4444444444444444, \"#bd3786\"], [0.5555555555555556, \"#d8576b\"], [0.6666666666666666, \"#ed7953\"], [0.7777777777777778, \"#fb9f3a\"], [0.8888888888888888, \"#fdca26\"], [1.0, \"#f0f921\"]]}, \"colorway\": [\"#636efa\", \"#EF553B\", \"#00cc96\", \"#ab63fa\", \"#FFA15A\", \"#19d3f3\", \"#FF6692\", \"#B6E880\", \"#FF97FF\", \"#FECB52\"], \"font\": {\"color\": \"#2a3f5f\"}, \"geo\": {\"bgcolor\": \"white\", \"lakecolor\": \"white\", \"landcolor\": \"#E5ECF6\", \"showlakes\": true, \"showland\": true, \"subunitcolor\": \"white\"}, \"hoverlabel\": {\"align\": \"left\"}, \"hovermode\": \"closest\", \"mapbox\": {\"style\": \"light\"}, \"paper_bgcolor\": \"white\", \"plot_bgcolor\": \"#E5ECF6\", \"polar\": {\"angularaxis\": {\"gridcolor\": \"white\", \"linecolor\": \"white\", \"ticks\": \"\"}, \"bgcolor\": \"#E5ECF6\", \"radialaxis\": {\"gridcolor\": \"white\", \"linecolor\": \"white\", \"ticks\": \"\"}}, \"scene\": {\"xaxis\": {\"backgroundcolor\": \"#E5ECF6\", \"gridcolor\": \"white\", \"gridwidth\": 2, \"linecolor\": \"white\", \"showbackground\": true, \"ticks\": \"\", \"zerolinecolor\": \"white\"}, \"yaxis\": {\"backgroundcolor\": \"#E5ECF6\", \"gridcolor\": \"white\", \"gridwidth\": 2, \"linecolor\": \"white\", \"showbackground\": true, \"ticks\": \"\", \"zerolinecolor\": \"white\"}, \"zaxis\": {\"backgroundcolor\": \"#E5ECF6\", \"gridcolor\": \"white\", \"gridwidth\": 2, \"linecolor\": \"white\", \"showbackground\": true, \"ticks\": \"\", \"zerolinecolor\": \"white\"}}, \"shapedefaults\": {\"line\": {\"color\": \"#2a3f5f\"}}, \"ternary\": {\"aaxis\": {\"gridcolor\": \"white\", \"linecolor\": \"white\", \"ticks\": \"\"}, \"baxis\": {\"gridcolor\": \"white\", \"linecolor\": \"white\", \"ticks\": \"\"}, \"bgcolor\": \"#E5ECF6\", \"caxis\": {\"gridcolor\": \"white\", \"linecolor\": \"white\", \"ticks\": \"\"}}, \"title\": {\"x\": 0.05}, \"xaxis\": {\"automargin\": true, \"gridcolor\": \"white\", \"linecolor\": \"white\", \"ticks\": \"\", \"zerolinecolor\": \"white\", \"zerolinewidth\": 2}, \"yaxis\": {\"automargin\": true, \"gridcolor\": \"white\", \"linecolor\": \"white\", \"ticks\": \"\", \"zerolinecolor\": \"white\", \"zerolinewidth\": 2}}}, \"title\": {\"text\": \"Number of submissions\"}, \"xaxis\": {\"anchor\": \"y\", \"domain\": [0.0, 0.98], \"title\": {\"text\": \"author\"}}, \"yaxis\": {\"anchor\": \"x\", \"domain\": [0.0, 1.0], \"title\": {\"text\": \"val\"}}},\n",
       "                        {\"responsive\": true}\n",
       "                    ).then(function(){\n",
       "                            \n",
       "var gd = document.getElementById('52979a3f-938f-4e00-9d86-a9fb7e8aebed');\n",
       "var x = new MutationObserver(function (mutations, observer) {{\n",
       "        var display = window.getComputedStyle(gd).display;\n",
       "        if (!display || display === 'none') {{\n",
       "            console.log([gd, 'removed!']);\n",
       "            Plotly.purge(gd);\n",
       "            observer.disconnect();\n",
       "        }}\n",
       "}});\n",
       "\n",
       "// Listen for the removal of the full notebook cells\n",
       "var notebookContainer = gd.closest('#notebook-container');\n",
       "if (notebookContainer) {{\n",
       "    x.observe(notebookContainer, {childList: true});\n",
       "}}\n",
       "\n",
       "// Listen for the clearing of the current output cell\n",
       "var outputEl = gd.closest('.output');\n",
       "if (outputEl) {{\n",
       "    x.observe(outputEl, {childList: true});\n",
       "}}\n",
       "\n",
       "                        })\n",
       "                };\n",
       "                });\n",
       "            </script>\n",
       "        </div>"
      ]
     },
     "metadata": {},
     "output_type": "display_data"
    }
   ],
   "source": [
    "px.bar(posts, y='val', x='author').update_layout(title='Number of submissions')"
   ]
  }
 ],
 "metadata": {
  "kernelspec": {
   "display_name": "Python 3",
   "language": "python",
   "name": "python3"
  },
  "language_info": {
   "codemirror_mode": {
    "name": "ipython",
    "version": 3
   },
   "file_extension": ".py",
   "mimetype": "text/x-python",
   "name": "python",
   "nbconvert_exporter": "python",
   "pygments_lexer": "ipython3",
   "version": "3.6.9"
  }
 },
 "nbformat": 4,
 "nbformat_minor": 2
}
