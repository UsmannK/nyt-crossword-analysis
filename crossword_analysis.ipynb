{
 "cells": [
  {
   "cell_type": "markdown",
   "metadata": {},
   "source": [
    "# NYT Crossword"
   ]
  },
  {
   "cell_type": "markdown",
   "metadata": {},
   "source": [
    "## Download data"
   ]
  },
  {
   "cell_type": "code",
   "execution_count": 13,
   "metadata": {},
   "outputs": [
    {
     "name": "stdout",
     "output_type": "stream",
     "text": [
      "--2020-01-01 20:08:07--  https://gist.githubusercontent.com/kedarv/db09704fa4d83507d804641fce7ab73a/raw/09b7107b1a8e7bb3d1c3cf0f4ed9236376dc4af0/nyt\n",
      "Resolving gist.githubusercontent.com (gist.githubusercontent.com)... 151.101.192.133, 151.101.128.133, 151.101.64.133, ...\n",
      "Connecting to gist.githubusercontent.com (gist.githubusercontent.com)|151.101.192.133|:443... connected.\n",
      "HTTP request sent, awaiting response... 200 OK\n",
      "Length: 61549 (60K) [text/plain]\n",
      "Saving to: ‘nyt’\n",
      "\n",
      "nyt                 100%[===================>]  60.11K  --.-KB/s    in 0.02s   \n",
      "\n",
      "2020-01-01 20:08:07 (3.49 MB/s) - ‘nyt’ saved [61549/61549]\n",
      "\n"
     ]
    }
   ],
   "source": [
    "!rm nyt\n",
    "!wget https://gist.githubusercontent.com/kedarv/db09704fa4d83507d804641fce7ab73a/raw/09b7107b1a8e7bb3d1c3cf0f4ed9236376dc4af0/nyt"
   ]
  },
  {
   "cell_type": "code",
   "execution_count": 14,
   "metadata": {},
   "outputs": [
    {
     "name": "stdout",
     "output_type": "stream",
     "text": [
      "[\n",
      "    {\n",
      "        \"author\": \"Ankit Pancakes\",\n",
      "        \"time\": \"0:14\",\n",
      "        \"timestamp_ms\": 1576644059344\n"
     ]
    }
   ],
   "source": [
    "# Quick look at data format\n",
    "!head -n 5 nyt"
   ]
  },
  {
   "cell_type": "code",
   "execution_count": 15,
   "metadata": {},
   "outputs": [],
   "source": [
    "import json\n",
    "import pandas as pd\n",
    "import numpy as np\n",
    "import seaborn as sns\n",
    "import datetime\n",
    "from matplotlib import pyplot as plt\n",
    "from matplotlib import image as mpimg\n",
    "\n",
    "pd.set_option('display.max_rows', 10)"
   ]
  },
  {
   "cell_type": "code",
   "execution_count": 16,
   "metadata": {},
   "outputs": [],
   "source": [
    "with open('nyt', 'r') as f:\n",
    "    df = pd.read_json(f)\n",
    "    # timezone bullshit\n",
    "    df['timestamp_ms'] = df['timestamp_ms'].dt.tz_localize('GMT').dt.tz_convert('America/Los_Angeles')"
   ]
  },
  {
   "cell_type": "code",
   "execution_count": 17,
   "metadata": {},
   "outputs": [
    {
     "data": {
      "text/html": [
       "<div>\n",
       "<style scoped>\n",
       "    .dataframe tbody tr th:only-of-type {\n",
       "        vertical-align: middle;\n",
       "    }\n",
       "\n",
       "    .dataframe tbody tr th {\n",
       "        vertical-align: top;\n",
       "    }\n",
       "\n",
       "    .dataframe thead th {\n",
       "        text-align: right;\n",
       "    }\n",
       "</style>\n",
       "<table border=\"1\" class=\"dataframe\">\n",
       "  <thead>\n",
       "    <tr style=\"text-align: right;\">\n",
       "      <th></th>\n",
       "      <th>author</th>\n",
       "      <th>time</th>\n",
       "      <th>timestamp_ms</th>\n",
       "    </tr>\n",
       "  </thead>\n",
       "  <tbody>\n",
       "    <tr>\n",
       "      <th>0</th>\n",
       "      <td>Ankit Pancakes</td>\n",
       "      <td>0:14</td>\n",
       "      <td>2019-12-17 20:40:59.344000-08:00</td>\n",
       "    </tr>\n",
       "    <tr>\n",
       "      <th>1</th>\n",
       "      <td>Paige Rossi</td>\n",
       "      <td>0:21</td>\n",
       "      <td>2019-12-17 20:03:34.077000-08:00</td>\n",
       "    </tr>\n",
       "    <tr>\n",
       "      <th>2</th>\n",
       "      <td>Jenna Dambek</td>\n",
       "      <td>1:54</td>\n",
       "      <td>2019-12-17 19:49:59.569000-08:00</td>\n",
       "    </tr>\n",
       "    <tr>\n",
       "      <th>3</th>\n",
       "      <td>Kedar Vaidya</td>\n",
       "      <td>0:42</td>\n",
       "      <td>2019-12-17 19:21:04.959000-08:00</td>\n",
       "    </tr>\n",
       "    <tr>\n",
       "      <th>4</th>\n",
       "      <td>Seungyeon Shin</td>\n",
       "      <td>1:33</td>\n",
       "      <td>2019-12-17 19:18:54.673000-08:00</td>\n",
       "    </tr>\n",
       "    <tr>\n",
       "      <th>...</th>\n",
       "      <td>...</td>\n",
       "      <td>...</td>\n",
       "      <td>...</td>\n",
       "    </tr>\n",
       "    <tr>\n",
       "      <th>559</th>\n",
       "      <td>Kedar Vaidya</td>\n",
       "      <td>2:08</td>\n",
       "      <td>2019-09-16 20:46:53.663000-07:00</td>\n",
       "    </tr>\n",
       "    <tr>\n",
       "      <th>560</th>\n",
       "      <td>Nicky Semenza</td>\n",
       "      <td>1:36</td>\n",
       "      <td>2019-09-16 20:06:51.710000-07:00</td>\n",
       "    </tr>\n",
       "    <tr>\n",
       "      <th>561</th>\n",
       "      <td>Kedar Vaidya</td>\n",
       "      <td>3:05</td>\n",
       "      <td>2019-09-16 17:38:35.285000-07:00</td>\n",
       "    </tr>\n",
       "    <tr>\n",
       "      <th>562</th>\n",
       "      <td>Nicky Semenza</td>\n",
       "      <td>1:34</td>\n",
       "      <td>2019-09-15 16:03:10.465000-07:00</td>\n",
       "    </tr>\n",
       "    <tr>\n",
       "      <th>563</th>\n",
       "      <td>Usmann Khan</td>\n",
       "      <td>1:49</td>\n",
       "      <td>2019-09-15 15:59:42.999000-07:00</td>\n",
       "    </tr>\n",
       "  </tbody>\n",
       "</table>\n",
       "<p>564 rows × 3 columns</p>\n",
       "</div>"
      ],
      "text/plain": [
       "             author  time                     timestamp_ms\n",
       "0    Ankit Pancakes  0:14 2019-12-17 20:40:59.344000-08:00\n",
       "1       Paige Rossi  0:21 2019-12-17 20:03:34.077000-08:00\n",
       "2      Jenna Dambek  1:54 2019-12-17 19:49:59.569000-08:00\n",
       "3      Kedar Vaidya  0:42 2019-12-17 19:21:04.959000-08:00\n",
       "4    Seungyeon Shin  1:33 2019-12-17 19:18:54.673000-08:00\n",
       "..              ...   ...                              ...\n",
       "559    Kedar Vaidya  2:08 2019-09-16 20:46:53.663000-07:00\n",
       "560   Nicky Semenza  1:36 2019-09-16 20:06:51.710000-07:00\n",
       "561    Kedar Vaidya  3:05 2019-09-16 17:38:35.285000-07:00\n",
       "562   Nicky Semenza  1:34 2019-09-15 16:03:10.465000-07:00\n",
       "563     Usmann Khan  1:49 2019-09-15 15:59:42.999000-07:00\n",
       "\n",
       "[564 rows x 3 columns]"
      ]
     },
     "metadata": {},
     "output_type": "display_data"
    }
   ],
   "source": [
    "display(df)"
   ]
  },
  {
   "cell_type": "markdown",
   "metadata": {},
   "source": [
    "## Clean up data"
   ]
  },
  {
   "cell_type": "code",
   "execution_count": 18,
   "metadata": {},
   "outputs": [],
   "source": [
    "# Days and cut-off hour (mini release time)\n",
    "# 7 PM Pacific for Monday - Friday inclusive\n",
    "# 3 PM Pacific for Saturday, Sunday\n",
    "cutoff = lambda x: 19 if x < 5 else 15"
   ]
  },
  {
   "cell_type": "code",
   "execution_count": 19,
   "metadata": {},
   "outputs": [
    {
     "data": {
      "text/plain": [
       "[19, 19, 19, 19, 19, 15, 15]"
      ]
     },
     "execution_count": 19,
     "metadata": {},
     "output_type": "execute_result"
    }
   ],
   "source": [
    "[cutoff(x) for x in range(0,7)]"
   ]
  },
  {
   "cell_type": "code",
   "execution_count": 20,
   "metadata": {},
   "outputs": [],
   "source": [
    "# Use newspaper-day instead of completion-day\n",
    "df['day'] = [datetime.date(ts.year, ts.month, ts.day) + datetime.timedelta(days=1) \\\n",
    "            if ts.hour >= cutoff(ts.dayofweek) else datetime.date(ts.year, ts.month, ts.day) for ts in df['timestamp_ms']]"
   ]
  },
  {
   "cell_type": "code",
   "execution_count": 21,
   "metadata": {},
   "outputs": [
    {
     "data": {
      "text/html": [
       "<div>\n",
       "<style scoped>\n",
       "    .dataframe tbody tr th:only-of-type {\n",
       "        vertical-align: middle;\n",
       "    }\n",
       "\n",
       "    .dataframe tbody tr th {\n",
       "        vertical-align: top;\n",
       "    }\n",
       "\n",
       "    .dataframe thead th {\n",
       "        text-align: right;\n",
       "    }\n",
       "</style>\n",
       "<table border=\"1\" class=\"dataframe\">\n",
       "  <thead>\n",
       "    <tr style=\"text-align: right;\">\n",
       "      <th></th>\n",
       "      <th>author</th>\n",
       "      <th>time</th>\n",
       "      <th>timestamp_ms</th>\n",
       "      <th>day</th>\n",
       "    </tr>\n",
       "  </thead>\n",
       "  <tbody>\n",
       "    <tr>\n",
       "      <th>36</th>\n",
       "      <td>Jessica Jiang</td>\n",
       "      <td>1:26</td>\n",
       "      <td>2019-12-13 20:02:53.918000-08:00</td>\n",
       "      <td>2019-12-14</td>\n",
       "    </tr>\n",
       "    <tr>\n",
       "      <th>37</th>\n",
       "      <td>Jessica Jiang</td>\n",
       "      <td>1:28</td>\n",
       "      <td>2019-12-13 20:01:08.854000-08:00</td>\n",
       "      <td>2019-12-14</td>\n",
       "    </tr>\n",
       "    <tr>\n",
       "      <th>65</th>\n",
       "      <td>Jessica Jiang</td>\n",
       "      <td>10:04</td>\n",
       "      <td>2019-12-09 20:39:11.843000-08:00</td>\n",
       "      <td>2019-12-10</td>\n",
       "    </tr>\n",
       "    <tr>\n",
       "      <th>66</th>\n",
       "      <td>Jessica Jiang</td>\n",
       "      <td>10:04</td>\n",
       "      <td>2019-12-09 20:39:00.040000-08:00</td>\n",
       "      <td>2019-12-10</td>\n",
       "    </tr>\n",
       "    <tr>\n",
       "      <th>128</th>\n",
       "      <td>Ankit Pancakes</td>\n",
       "      <td>0:41</td>\n",
       "      <td>2019-12-01 22:18:33.158000-08:00</td>\n",
       "      <td>2019-12-02</td>\n",
       "    </tr>\n",
       "    <tr>\n",
       "      <th>...</th>\n",
       "      <td>...</td>\n",
       "      <td>...</td>\n",
       "      <td>...</td>\n",
       "      <td>...</td>\n",
       "    </tr>\n",
       "    <tr>\n",
       "      <th>533</th>\n",
       "      <td>Kedar Vaidya</td>\n",
       "      <td>2:59</td>\n",
       "      <td>2019-10-03 19:39:31.028000-07:00</td>\n",
       "      <td>2019-10-04</td>\n",
       "    </tr>\n",
       "    <tr>\n",
       "      <th>534</th>\n",
       "      <td>Usmann Khan</td>\n",
       "      <td>1:42</td>\n",
       "      <td>2019-10-03 19:35:03.192000-07:00</td>\n",
       "      <td>2019-10-04</td>\n",
       "    </tr>\n",
       "    <tr>\n",
       "      <th>537</th>\n",
       "      <td>Usmann Khan</td>\n",
       "      <td>1:28</td>\n",
       "      <td>2019-10-03 19:29:35.912000-07:00</td>\n",
       "      <td>2019-10-04</td>\n",
       "    </tr>\n",
       "    <tr>\n",
       "      <th>549</th>\n",
       "      <td>Ankit Pancakes</td>\n",
       "      <td>2:30</td>\n",
       "      <td>2019-09-29 10:00:45.619000-07:00</td>\n",
       "      <td>2019-09-29</td>\n",
       "    </tr>\n",
       "    <tr>\n",
       "      <th>550</th>\n",
       "      <td>Ankit Pancakes</td>\n",
       "      <td>3:07</td>\n",
       "      <td>2019-09-28 16:20:06.469000-07:00</td>\n",
       "      <td>2019-09-29</td>\n",
       "    </tr>\n",
       "  </tbody>\n",
       "</table>\n",
       "<p>42 rows × 4 columns</p>\n",
       "</div>"
      ],
      "text/plain": [
       "             author   time                     timestamp_ms         day\n",
       "36    Jessica Jiang   1:26 2019-12-13 20:02:53.918000-08:00  2019-12-14\n",
       "37    Jessica Jiang   1:28 2019-12-13 20:01:08.854000-08:00  2019-12-14\n",
       "65    Jessica Jiang  10:04 2019-12-09 20:39:11.843000-08:00  2019-12-10\n",
       "66    Jessica Jiang  10:04 2019-12-09 20:39:00.040000-08:00  2019-12-10\n",
       "128  Ankit Pancakes   0:41 2019-12-01 22:18:33.158000-08:00  2019-12-02\n",
       "..              ...    ...                              ...         ...\n",
       "533    Kedar Vaidya   2:59 2019-10-03 19:39:31.028000-07:00  2019-10-04\n",
       "534     Usmann Khan   1:42 2019-10-03 19:35:03.192000-07:00  2019-10-04\n",
       "537     Usmann Khan   1:28 2019-10-03 19:29:35.912000-07:00  2019-10-04\n",
       "549  Ankit Pancakes   2:30 2019-09-29 10:00:45.619000-07:00  2019-09-29\n",
       "550  Ankit Pancakes   3:07 2019-09-28 16:20:06.469000-07:00  2019-09-29\n",
       "\n",
       "[42 rows x 4 columns]"
      ]
     },
     "metadata": {},
     "output_type": "display_data"
    }
   ],
   "source": [
    "find_dups = lambda x: x[x.duplicated(['author', 'day'], keep=False)]\n",
    "display(find_dups(df))"
   ]
  },
  {
   "cell_type": "code",
   "execution_count": 22,
   "metadata": {},
   "outputs": [
    {
     "data": {
      "text/plain": [
       "<matplotlib.image.AxesImage at 0x7f3f33a4e860>"
      ]
     },
     "execution_count": 22,
     "metadata": {},
     "output_type": "execute_result"
    },
    {
     "data": {
      "image/png": "[encoded data removed]",
      "text/plain": [
       "<Figure size 720x288 with 2 Axes>"
      ]
     },
     "metadata": {
      "needs_background": "light"
     },
     "output_type": "display_data"
    }
   ],
   "source": [
    "# Example duplicates ...\n",
    "fig, ax = plt.subplots(nrows=1, ncols=2, figsize=(10,4))\n",
    "ax[0].axis('off')\n",
    "ax[1].axis('off')\n",
    "ax[0].imshow(mpimg.imread('dup1.png'))\n",
    "ax[1].imshow(mpimg.imread('dup2.png'))"
   ]
  },
  {
   "cell_type": "code",
   "execution_count": 23,
   "metadata": {},
   "outputs": [
    {
     "name": "stdout",
     "output_type": "stream",
     "text": [
      "before: 42 dups in 564 rows\n",
      "after: 0 dups in 522 rows\n"
     ]
    }
   ],
   "source": [
    "# Delete all duplicates because I can't be bothered to scroll to each one in chat and look at them\n",
    "print('before: {} dups in {} rows'.format(len(find_dups(df)), len(df['author'])))\n",
    "df = df.drop_duplicates(['author', 'day'], keep=False)\n",
    "print('after: {} dups in {} rows'.format(len(find_dups(df)), len(df['author'])))"
   ]
  },
  {
   "cell_type": "markdown",
   "metadata": {},
   "source": [
    "## Analyze Data"
   ]
  },
  {
   "cell_type": "code",
   "execution_count": null,
   "metadata": {},
   "outputs": [],
   "source": []
  }
 ],
 "metadata": {
  "kernelspec": {
   "display_name": "Python 3",
   "language": "python",
   "name": "python3"
  },
  "language_info": {
   "codemirror_mode": {
    "name": "ipython",
    "version": 3
   },
   "file_extension": ".py",
   "mimetype": "text/x-python",
   "name": "python",
   "nbconvert_exporter": "python",
   "pygments_lexer": "ipython3",
   "version": "3.6.9"
  }
 },
 "nbformat": 4,
 "nbformat_minor": 2
}
